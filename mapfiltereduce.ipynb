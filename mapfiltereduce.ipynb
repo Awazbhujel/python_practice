{
  "cells": [
    {
      "cell_type": "code",
      "execution_count": null,
      "metadata": {
        "colab": {
          "base_uri": "https://localhost:8080/",
          "height": 35
        },
        "id": "VdG_fCIGZBBw",
        "outputId": "bd7756bf-94ab-4876-9301-652cbd562625"
      },
      "outputs": [
        {
          "data": {
            "application/vnd.google.colaboratory.intrinsic+json": {
              "type": "string"
            },
            "text/plain": [
              "'hello, awaz!'"
            ]
          },
          "execution_count": 1,
          "metadata": {},
          "output_type": "execute_result"
        }
      ],
      "source": [
        "def greet(name):\n",
        "  return \"hello, {}!\".format(name)\n",
        "greet(\"awaz\")"
      ]
    },
    {
      "cell_type": "code",
      "execution_count": null,
      "metadata": {
        "colab": {
          "base_uri": "https://localhost:8080/"
        },
        "id": "bqT29t-LZOU_",
        "outputId": "e500259a-4880-411a-b575-293814e88269"
      },
      "outputs": [
        {
          "name": "stdout",
          "output_type": "stream",
          "text": [
            "[1, 4, 9, 16, 25]\n"
          ]
        }
      ],
      "source": [
        "#map\n",
        "def myfun(a):\n",
        "  return a*a\n",
        "x = list(map(myfun,(1,2,3,4,5)))\n",
        "print(x)"
      ]
    },
    {
      "cell_type": "code",
      "execution_count": null,
      "metadata": {
        "colab": {
          "base_uri": "https://localhost:8080/"
        },
        "id": "YOHTY4wVZOav",
        "outputId": "ca01117a-16de-44c4-902d-b8e9ccf21026"
      },
      "outputs": [
        {
          "name": "stdout",
          "output_type": "stream",
          "text": [
            "[1, 4, 9, 16]\n"
          ]
        }
      ],
      "source": [
        "total_list = list(map(lambda x:x**2,[1,2,3,4]))\n",
        "print(total_list)"
      ]
    },
    {
      "cell_type": "code",
      "execution_count": null,
      "metadata": {
        "colab": {
          "base_uri": "https://localhost:8080/"
        },
        "id": "5pwLz1EYZOez",
        "outputId": "af308b31-d7ca-4845-e2ec-6ae3793bf8d7"
      },
      "outputs": [
        {
          "name": "stdout",
          "output_type": "stream",
          "text": [
            "[15, 21, 66, 291, 162, 186, 231, 69, 219, 183]\n"
          ]
        }
      ],
      "source": [
        "#map with lamb\n",
        "tup= (5, 7, 22, 97, 54, 62, 77, 23, 73, 61)\n",
        "mylist1= list(map(lambda x:x+3,range(1,11)))\n",
        "mylist2= list(map(lambda x:x*3,tup))\n",
        "print(mylist2)"
      ]
    },
    {
      "cell_type": "code",
      "execution_count": null,
      "metadata": {
        "colab": {
          "base_uri": "https://localhost:8080/"
        },
        "id": "UKWXTBeMZOie",
        "outputId": "a2d426cf-2af9-4af0-d393-228b54bcff1a"
      },
      "outputs": [
        {
          "name": "stdout",
          "output_type": "stream",
          "text": [
            "[1, 2, 3, 4]\n"
          ]
        }
      ],
      "source": [
        "#filter\n",
        "total_list = list(filter(lambda x:x**2,(1,2,3,4)))\n",
        "print(total_list)"
      ]
    },
    {
      "cell_type": "code",
      "execution_count": null,
      "metadata": {
        "colab": {
          "base_uri": "https://localhost:8080/"
        },
        "id": "O4KYeu5Le7ya",
        "outputId": "edf33d24-b318-45f6-fedd-b08bd6c94733"
      },
      "outputs": [
        {
          "name": "stdout",
          "output_type": "stream",
          "text": [
            "[3, 4, 5] (3, 4, 5)\n"
          ]
        }
      ],
      "source": [
        "#filter with func\n",
        "def fun(x):\n",
        "    if x>=3:\n",
        "      return x\n",
        "y = list(filter(fun,(1,2,3,4,5)))\n",
        "z = tuple(filter(fun,(1,2,3,4,5)))\n",
        "print(y,z)\n",
        "\n"
      ]
    },
    {
      "cell_type": "code",
      "execution_count": null,
      "metadata": {
        "colab": {
          "base_uri": "https://localhost:8080/"
        },
        "id": "OCkWCQtFe71n",
        "outputId": "7dc05e22-1484-4beb-e154-992f0e33e95c"
      },
      "outputs": [
        {
          "name": "stdout",
          "output_type": "stream",
          "text": [
            "[1, 2, 3]\n"
          ]
        }
      ],
      "source": [
        "#filter with lambda\n",
        "fill1= list(filter(lambda x:(x<=3),(1,2,3,4,5)))\n",
        "print(fill1)"
      ]
    },
    {
      "cell_type": "code",
      "execution_count": null,
      "metadata": {
        "colab": {
          "base_uri": "https://localhost:8080/"
        },
        "id": "G1JKSwOCe74n",
        "outputId": "42bbd1ae-ec55-4560-a3fc-e6347099e2ba"
      },
      "outputs": [
        {
          "name": "stdout",
          "output_type": "stream",
          "text": [
            "[1, 2, 3, 4, 5, 6, 7, 8, 9, 10]\n"
          ]
        }
      ],
      "source": [
        "counter_value= list(map(lambda x:x+1,range(10)))\n",
        "print(counter_value)"
      ]
    },
    {
      "cell_type": "code",
      "execution_count": null,
      "metadata": {
        "colab": {
          "base_uri": "https://localhost:8080/"
        },
        "id": "p_PZHs6ue78N",
        "outputId": "c17262f8-7116-4fc0-dffd-0ad279da55f0"
      },
      "outputs": [
        {
          "name": "stdout",
          "output_type": "stream",
          "text": [
            "729\n"
          ]
        }
      ],
      "source": [
        "#reduce function -retrun a single value\n",
        "from functools import reduce\n",
        "reduce_fun = reduce(lambda x,y:x**y,(3,2,3))\n",
        "print(reduce_fun)"
      ]
    },
    {
      "cell_type": "code",
      "execution_count": null,
      "metadata": {
        "colab": {
          "base_uri": "https://localhost:8080/"
        },
        "id": "120A8qRTe8AI",
        "outputId": "5e0ef48a-e468-42a2-f101-3f0ebe9a39a1"
      },
      "outputs": [
        {
          "name": "stdout",
          "output_type": "stream",
          "text": [
            "['ALFRED', 'TABITHA', 'WILLIAM', 'ARLA']\n"
          ]
        }
      ],
      "source": [
        "#using loops\n",
        "my_pets = ['alfred', 'tabitha', 'william', 'arla']\n",
        "upper_list = []\n",
        "for i in my_pets:\n",
        "  pet = i.upper()\n",
        "  upper_list.append(pet)\n",
        "print(upper_list)\n"
      ]
    },
    {
      "cell_type": "code",
      "execution_count": null,
      "metadata": {
        "colab": {
          "base_uri": "https://localhost:8080/"
        },
        "id": "NZsvBSINqhSy",
        "outputId": "344834cb-cf2b-40b8-8546-ad896b438b5d"
      },
      "outputs": [
        {
          "name": "stdout",
          "output_type": "stream",
          "text": [
            "['ALFRED', 'TABITHA', 'WILLIAM', 'ARLA']\n"
          ]
        }
      ],
      "source": [
        "#using map()\n",
        "my_pets = ['alfred', 'tabitha', 'william', 'arla']\n",
        "upper_pet = list(map(str.upper,my_pets))\n",
        "print(upper_pet)"
      ]
    },
    {
      "cell_type": "code",
      "execution_count": null,
      "metadata": {
        "colab": {
          "base_uri": "https://localhost:8080/"
        },
        "id": "IE2JhHsQqhXD",
        "outputId": "2eb5d454-14f9-473a-9b0c-a25bc724dd92"
      },
      "outputs": [
        {
          "name": "stdout",
          "output_type": "stream",
          "text": [
            "['alfred', 'tabitha', 'william', 'arla']\n"
          ]
        }
      ],
      "source": [
        "s = ['ALFRED', 'TABITHA', 'WILLIAM', 'ARLA']\n",
        "for i in range(len(s)):\n",
        "  s[i]= s[i].lower()\n",
        "print(s)\n",
        "   "
      ]
    },
    {
      "cell_type": "code",
      "execution_count": null,
      "metadata": {
        "colab": {
          "base_uri": "https://localhost:8080/"
        },
        "id": "_O83Ubhvsk3t",
        "outputId": "8cd2287c-a3f0-4ee8-806a-0d29f599566a"
      },
      "outputs": [
        {
          "name": "stdout",
          "output_type": "stream",
          "text": [
            "['alfred', 'tabitha', 'william', 'arla']\n"
          ]
        }
      ],
      "source": [
        "#map()\n",
        "my_pets=['ALFRED', 'TABITHA', 'WILLIAM', 'ARLA']\n",
        "lower_pet = list(map(lambda x:x.lower(),my_pets))\n",
        "print(lower_pet)\n"
      ]
    },
    {
      "cell_type": "code",
      "execution_count": null,
      "metadata": {
        "colab": {
          "base_uri": "https://localhost:8080/"
        },
        "id": "PpzrUWzmsk6G",
        "outputId": "c2037a7f-dbb6-4e77-9dee-f28128cadc6e"
      },
      "outputs": [
        {
          "name": "stdout",
          "output_type": "stream",
          "text": [
            "['alfred', 'tabitha', 'william', 'arla']\n"
          ]
        }
      ],
      "source": [
        "#listcomp\n",
        "my_pets=['ALFRED', 'TABITHA', 'WILLIAM', 'ARLA']\n",
        "lower_list = [x.lower() for x in my_pets]\n",
        "print(lower_list)"
      ]
    },
    {
      "cell_type": "code",
      "execution_count": null,
      "metadata": {
        "colab": {
          "base_uri": "https://localhost:8080/"
        },
        "id": "W4EJUsWvsk99",
        "outputId": "18a40269-55a1-4927-b063-a4d1b0989858"
      },
      "outputs": [
        {
          "name": "stdout",
          "output_type": "stream",
          "text": [
            "[2, 3, 4, 5, 6]\n"
          ]
        }
      ],
      "source": [
        "#map\n",
        "map_list = list(map(lambda x:x+1,(1,2,3,4,5)))\n",
        "print(map_list)\n"
      ]
    },
    {
      "cell_type": "code",
      "execution_count": null,
      "metadata": {
        "colab": {
          "base_uri": "https://localhost:8080/"
        },
        "id": "3tLeRcehWn2B",
        "outputId": "d729b7ef-0c2f-42e0-e36e-317577cd1028"
      },
      "outputs": [
        {
          "name": "stdout",
          "output_type": "stream",
          "text": [
            "[2, 4, 5]\n"
          ]
        }
      ],
      "source": [
        "#filter\n",
        "my_filter=list(filter(lambda x:x!=3,(2,3,4,5)))\n",
        "print(my_filter)"
      ]
    },
    {
      "cell_type": "code",
      "execution_count": 55,
      "metadata": {
        "colab": {
          "base_uri": "https://localhost:8080/"
        },
        "id": "7zIViCv8Wn5H",
        "outputId": "8a920532-04d7-4e52-a116-7b9824109f18"
      },
      "outputs": [
        {
          "output_type": "stream",
          "name": "stdout",
          "text": [
            "68\n"
          ]
        }
      ],
      "source": [
        "#reduce\n",
        "from functools import reduce\n",
        "numbers = [3, 4, 6, 9, 34, 12]\n",
        "def add(a,b):\n",
        "  return a+b\n",
        "total_sum = reduce(add,numbers)\n",
        "print(total_sum)"
      ]
    },
    {
      "cell_type": "code",
      "source": [
        "#reduce\n",
        "numbers = [3, 4, 6, 9, 34, 12]\n",
        "total_sum = reduce(lambda x,y:(x+y),numbers) \n",
        "total_mul = reduce(lambda x,y:(x*y),numbers)\n",
        "total_diff = reduce(lambda x,y:(x-y),numbers)\n",
        "print(total_sum)\n",
        "print(total_mul)\n",
        "print(total_diff)"
      ],
      "metadata": {
        "colab": {
          "base_uri": "https://localhost:8080/"
        },
        "id": "9pECA0bmyOmu",
        "outputId": "5151042e-aadd-4e57-b516-0c89777ee992"
      },
      "execution_count": 61,
      "outputs": [
        {
          "output_type": "stream",
          "name": "stdout",
          "text": [
            "68\n",
            "264384\n",
            "-62\n"
          ]
        }
      ]
    },
    {
      "cell_type": "code",
      "execution_count": null,
      "metadata": {
        "colab": {
          "base_uri": "https://localhost:8080/"
        },
        "id": "JNWz_NA7Wn8g",
        "outputId": "69c17388-ccfb-43b8-ec1e-f4cce728144d"
      },
      "outputs": [
        {
          "name": "stdout",
          "output_type": "stream",
          "text": [
            "[3.6, 5.58, 4.009, 56.2424, 9.01344, 32.00013]\n"
          ]
        }
      ],
      "source": [
        "circle_areas = [3.56773, 5.57668, 4.00914, 56.24241, 9.01344, 32.00013]\n",
        "result = list(map(round,circle_areas,range(1,10)))\n",
        "print(result)"
      ]
    },
    {
      "cell_type": "code",
      "execution_count": null,
      "metadata": {
        "colab": {
          "base_uri": "https://localhost:8080/"
        },
        "id": "d6gOTV3yWoAD",
        "outputId": "b30915f7-6320-455c-b246-f6f9e860a74c"
      },
      "outputs": [
        {
          "name": "stdout",
          "output_type": "stream",
          "text": [
            "[('a', 1), ('b', 2), ('c', 3), ('d', 4), ('e', 5)]\n"
          ]
        }
      ],
      "source": [
        "my_strings = ['a', 'b', 'c', 'd', 'e']\n",
        "my_numbers = [1, 2, 3, 4, 5]\n",
        "result = list(zip(my_strings,my_numbers))\n",
        "print(result)\n"
      ]
    },
    {
      "cell_type": "code",
      "execution_count": null,
      "metadata": {
        "colab": {
          "base_uri": "https://localhost:8080/"
        },
        "id": "jhXB5C6Zi_gt",
        "outputId": "711c0834-db2e-43ff-ae59-ed142e22e7e0"
      },
      "outputs": [
        {
          "name": "stdout",
          "output_type": "stream",
          "text": [
            "[('a', 1), ('b', 2), ('c', 3), ('d', 4), ('e', 5)]\n"
          ]
        }
      ],
      "source": [
        "my_strings = ['a', 'b', 'c', 'd', 'e']\n",
        "my_numbers = [1, 2, 3, 4, 5]\n",
        "\n",
        "result =list(map(lambda x,y:(x,y),my_strings,my_numbers))\n",
        "print(result)"
      ]
    },
    {
      "cell_type": "code",
      "execution_count": null,
      "metadata": {
        "colab": {
          "base_uri": "https://localhost:8080/"
        },
        "id": "YTKq4jcqi_kL",
        "outputId": "ad550f32-e571-453f-9f82-b43a268540e9"
      },
      "outputs": [
        {
          "name": "stdout",
          "output_type": "stream",
          "text": [
            "[('a', 1), ('b', 2), ('c', 3), ('d', 4)]\n"
          ]
        }
      ],
      "source": [
        "my_strings = ['a', 'b', 'c', 'd' ]\n",
        "my_numbers = [1, 2, 3, 4, 5]\n",
        "result = zip(my_strings,my_numbers)\n",
        "print(list(result))"
      ]
    },
    {
      "cell_type": "code",
      "execution_count": null,
      "metadata": {
        "colab": {
          "base_uri": "https://localhost:8080/"
        },
        "id": "OeetUjSNncvi",
        "outputId": "714a7f98-f6c7-4f78-f636-0b2367f8893b"
      },
      "outputs": [
        {
          "name": "stdout",
          "output_type": "stream",
          "text": [
            "[('a', 1), ('b', 2), ('c', 3), ('d', 4)]\n"
          ]
        }
      ],
      "source": [
        "my_strings = ['a', 'b', 'c', 'd' ]\n",
        "my_numbers = [1, 2, 3, 4, 5]\n",
        "result = list(map(lambda x,y:(x,y),my_strings,my_numbers))\n",
        "print(result)"
      ]
    },
    {
      "cell_type": "code",
      "execution_count": null,
      "metadata": {
        "colab": {
          "base_uri": "https://localhost:8080/"
        },
        "id": "OERaR7V3ncx4",
        "outputId": "9c7b5fea-2696-4988-e3c5-f2e040122d5a"
      },
      "outputs": [
        {
          "name": "stdout",
          "output_type": "stream",
          "text": [
            "[90, 76, 88, 81]\n"
          ]
        }
      ],
      "source": [
        "#filter\n",
        "scores = [66, 90, 68, 59, 76, 60, 88, 74, 81, 65]\n",
        "def students(score):\n",
        "   return score>75\n",
        "over_75=list(filter(students,scores))\n",
        "print(over_75)"
      ]
    },
    {
      "cell_type": "code",
      "execution_count": null,
      "metadata": {
        "colab": {
          "base_uri": "https://localhost:8080/"
        },
        "id": "HHsYNwHCnc1U",
        "outputId": "83a44d43-7170-4186-ad44-70a2c209b6e4"
      },
      "outputs": [
        {
          "name": "stdout",
          "output_type": "stream",
          "text": [
            "[90, 76, 88, 81]\n"
          ]
        }
      ],
      "source": [
        "scores = [66, 90, 68, 59, 76, 60, 88, 74, 81, 65]\n",
        "over_75 = list(filter(lambda x:x>75,scores))\n",
        "print(over_75)"
      ]
    },
    {
      "cell_type": "code",
      "execution_count": null,
      "metadata": {
        "colab": {
          "base_uri": "https://localhost:8080/"
        },
        "id": "7fKrGYeGrfWJ",
        "outputId": "2730108e-f0a1-4510-e34d-e3053d8ef7ad"
      },
      "outputs": [
        {
          "name": "stdout",
          "output_type": "stream",
          "text": [
            "['madam', 'anutforajaroftuna']\n"
          ]
        }
      ],
      "source": [
        "dromes = (\"demigod\", \"rewire\", \"madam\", \"freer\", \"anutforajaroftuna\", \"kiosk\")\n",
        "def palim(x):\n",
        "  return x== x[::-1]\n",
        "total_palim = list(filter(palim,dromes))\n",
        "print(total_palim)"
      ]
    },
    {
      "cell_type": "code",
      "execution_count": 52,
      "metadata": {
        "colab": {
          "base_uri": "https://localhost:8080/"
        },
        "id": "UIYPgofLrgDb",
        "outputId": "fb7ac98e-94bb-4686-ae7a-1938917e3c12"
      },
      "outputs": [
        {
          "output_type": "stream",
          "name": "stdout",
          "text": [
            "['madam', 'anutforajaroftuna']\n"
          ]
        }
      ],
      "source": [
        "#filter with lambda to find plaindrome\n",
        "dromes = (\"demigod\", \"rewire\", \"madam\", \"freer\", \"anutforajaroftuna\", \"kiosk\")\n",
        "total_palim = list(filter(lambda x:x==x[::-1],dromes))\n",
        "print(total_palim)"
      ]
    },
    {
      "cell_type": "code",
      "execution_count": 93,
      "metadata": {
        "id": "XbVFBRyhr7sv",
        "colab": {
          "base_uri": "https://localhost:8080/"
        },
        "outputId": "079d710a-b64d-48e9-b685-44e64db64e67"
      },
      "outputs": [
        {
          "output_type": "stream",
          "name": "stdout",
          "text": [
            "[18.922, 37.088, 10.562, 95.453, 4.666, 78.854, 21.068]\n"
          ]
        }
      ],
      "source": [
        "my_floats = [4.35, 6.09, 3.25, 9.77, 2.16, 8.88, 4.59]\n",
        "my_squares = list(map(lambda x:round(x**2,3),my_floats))\n",
        "print(my_squares)"
      ]
    },
    {
      "cell_type": "code",
      "execution_count": 102,
      "metadata": {
        "id": "TBo6B_TUr7wg",
        "colab": {
          "base_uri": "https://localhost:8080/",
          "height": 35
        },
        "outputId": "4782ba07-e9b6-4ffd-ef0f-0022741d66e7"
      },
      "outputs": [
        {
          "output_type": "execute_result",
          "data": {
            "text/plain": [
              "\"['olumide', 'akinremi', 'josiah', 'temidayo', 'omoseun']\""
            ],
            "application/vnd.google.colaboratory.intrinsic+json": {
              "type": "string"
            }
          },
          "metadata": {},
          "execution_count": 102
        }
      ],
      "source": [
        "my_names = [\"olumide\", \"akinremi\", \"josiah\", \"temidayo\", \"omoseun\"]\n",
        "less_tha_equal_to_7"
      ]
    },
    {
      "cell_type": "code",
      "source": [
        ""
      ],
      "metadata": {
        "id": "wRtkh_Ov3rjV"
      },
      "execution_count": null,
      "outputs": []
    }
  ],
  "metadata": {
    "colab": {
      "name": "mapfiltereduce.ipynb",
      "provenance": [],
      "authorship_tag": "ABX9TyMEgmqtm+t4dq9fCiEMRcQV"
    },
    "kernelspec": {
      "display_name": "Python 3",
      "name": "python3"
    },
    "language_info": {
      "name": "python"
    }
  },
  "nbformat": 4,
  "nbformat_minor": 0
}