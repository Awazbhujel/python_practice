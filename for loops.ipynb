{
  "nbformat": 4,
  "nbformat_minor": 0,
  "metadata": {
    "colab": {
      "name": "Untitled63.ipynb",
      "provenance": [],
      "collapsed_sections": [],
      "authorship_tag": "ABX9TyMOa8oYzSZhzA+voINf2FxN"
    },
    "kernelspec": {
      "name": "python3",
      "display_name": "Python 3"
    },
    "language_info": {
      "name": "python"
    }
  },
  "cells": [
    {
      "cell_type": "code",
      "execution_count": null,
      "metadata": {
        "colab": {
          "base_uri": "https://localhost:8080/"
        },
        "id": "p_GhevMwuIyH",
        "outputId": "3a17abcc-1c78-4704-cf2b-b713fbf2a4b9"
      },
      "outputs": [
        {
          "output_type": "stream",
          "name": "stdout",
          "text": [
            "index 0: 10\n",
            "index 1: 20\n",
            "index 2: 30\n",
            "index 3: 40\n",
            "index 4: 50\n"
          ]
        }
      ],
      "source": [
        "x = (10,20,30,40,50)\n",
        "for i in x:\n",
        "  print(\"index\",str(x.index(i))+\":\",i)"
      ]
    },
    {
      "cell_type": "code",
      "source": [
        "x = [(1,2), (3,4), (5,6)]\n",
        "for a,b in x:\n",
        "  print(a,\"plus\",b,\"=\",a+b)"
      ],
      "metadata": {
        "colab": {
          "base_uri": "https://localhost:8080/"
        },
        "id": "fnMWTIRuwVQ_",
        "outputId": "99d96df2-18cd-4e5c-9992-81ec13e29deb"
      },
      "execution_count": null,
      "outputs": [
        {
          "output_type": "stream",
          "name": "stdout",
          "text": [
            "1 plus 2 = 3\n",
            "3 plus 4 = 7\n",
            "5 plus 6 = 11\n"
          ]
        }
      ]
    },
    {
      "cell_type": "code",
      "source": [
        "stocks = {\n",
        "        'AAPL': 187.31,\n",
        "        'MSFT': 124.06,\n",
        "        'FB': 183.50\n",
        "    }\n",
        "for i,j in stocks.items():\n",
        "  print(i+\":\",j)"
      ],
      "metadata": {
        "colab": {
          "base_uri": "https://localhost:8080/"
        },
        "id": "I6AmniQ5wVUB",
        "outputId": "e9705ecb-8a8d-4f5e-c5ea-1ab000842f18"
      },
      "execution_count": null,
      "outputs": [
        {
          "output_type": "stream",
          "name": "stdout",
          "text": [
            "AAPL: 187.31\n",
            "MSFT: 124.06\n",
            "FB: 183.5\n"
          ]
        }
      ]
    },
    {
      "cell_type": "code",
      "source": [
        "repeat = int(input(\"enter a whole number:\"))\n",
        "for i in range(repeat):\n",
        "  option = input(\"skip,print or exit\")\n",
        "  if option ==\"print\":\n",
        "    print(i)\n",
        "    break\n",
        "  elif option==\"skip\":\n",
        "    continue\n",
        "  elif option==\"exit\":\n",
        "    break\n",
        "  else:\n",
        "    print(\"print correct sentences\")\n",
        "print(\"good bye\")"
      ],
      "metadata": {
        "colab": {
          "base_uri": "https://localhost:8080/"
        },
        "id": "52pqnWEdwVXT",
        "outputId": "2bee236e-4fe4-43ae-b471-b236752a5e03"
      },
      "execution_count": 20,
      "outputs": [
        {
          "output_type": "stream",
          "name": "stdout",
          "text": [
            "enter a whole number:50\n",
            "skip,print or exitprint\n",
            "0\n",
            "good bye\n"
          ]
        }
      ]
    },
    {
      "cell_type": "code",
      "source": [
        "presentprice  = []\n",
        "for i in range(3):\n",
        "  price = input(\"how is did the price cost:\")\n",
        "  price = int(price)\n",
        "  presentprice.append(price)\n",
        "print(presentprice)\n",
        "print(\"total:\",sum(presentprice))\n",
        "print(\"highest price:\",max(presentprice))\n",
        "print(\"lowest price:\",min(presentprice))\n",
        "print(\"average price:\",(sum(presentprice)//len(presentprice)))"
      ],
      "metadata": {
        "id": "CTp-4v1VwVal",
        "colab": {
          "base_uri": "https://localhost:8080/"
        },
        "outputId": "a11f1649-083f-497b-9b69-42adfa91d363"
      },
      "execution_count": 32,
      "outputs": [
        {
          "output_type": "stream",
          "name": "stdout",
          "text": [
            "how is did the price cost:11\n",
            "how is did the price cost:12\n",
            "how is did the price cost:13\n",
            "[11, 12, 13]\n",
            "total: 36\n",
            "highest price: 13\n",
            "lowest price: 11\n",
            "average price: 12\n"
          ]
        }
      ]
    },
    {
      "cell_type": "code",
      "source": [
        "for num1 in range(10):\n",
        "  for num2 in range(10):\n",
        "    print(num1,num2)"
      ],
      "metadata": {
        "id": "kHWDvnidwVdQ"
      },
      "execution_count": null,
      "outputs": []
    },
    {
      "cell_type": "code",
      "source": [
        "for i in range(1,10,2):\n",
        "  print(i)"
      ],
      "metadata": {
        "id": "hXylkhEFwVgT",
        "colab": {
          "base_uri": "https://localhost:8080/"
        },
        "outputId": "cd9350b2-3f16-4e47-9507-cd3f0b7376e4"
      },
      "execution_count": 34,
      "outputs": [
        {
          "output_type": "stream",
          "name": "stdout",
          "text": [
            "1\n",
            "3\n",
            "5\n",
            "7\n",
            "9\n"
          ]
        }
      ]
    },
    {
      "cell_type": "code",
      "source": [
        "while True:\n",
        "  print(\"here r your options\")\n",
        "  print(\"1.haha\")\n",
        "  print(\"2.hoho\")\n",
        "  print(\"3.exit\")\n",
        "\n",
        "  inp= int(input(\"enter your choice:\"))\n",
        "  if inp ==1:\n",
        "    print(\"haha\")\n",
        "  elif inp==2:\n",
        "    print(\"hoho\")\n",
        "  else:\n",
        "      break"
      ],
      "metadata": {
        "id": "tsJzWQ9HwVj6",
        "colab": {
          "base_uri": "https://localhost:8080/"
        },
        "outputId": "23bddea1-6996-484c-bd39-3516cb532d52"
      },
      "execution_count": 42,
      "outputs": [
        {
          "name": "stdout",
          "output_type": "stream",
          "text": [
            "here r your options\n",
            "1.haha\n",
            "2.hoho\n",
            "3.exit\n",
            "enter your choice:2\n",
            "hoho\n",
            "here r your options\n",
            "1.haha\n",
            "2.hoho\n",
            "3.exit\n",
            "enter your choice:3\n"
          ]
        }
      ]
    },
    {
      "cell_type": "code",
      "source": [
        "numbers = [1,2,3,4,5,6,7,8,9]\n",
        "count_even = 0 \n",
        "count_odd = 0\n",
        "for i in numbers:\n",
        "  if i%2==0:\n",
        "    count_even +=1\n",
        "  elif i%2!=0:\n",
        "    count_odd +=1\n",
        "print(\"count of odd number is:\",count_odd,\"and count of even number is:\",count_even)"
      ],
      "metadata": {
        "id": "Z1tVFAMHwVnP",
        "colab": {
          "base_uri": "https://localhost:8080/"
        },
        "outputId": "dfff0f26-28d4-42ef-ebb7-c39bbac73fc0"
      },
      "execution_count": 54,
      "outputs": [
        {
          "output_type": "stream",
          "name": "stdout",
          "text": [
            "count of odd number is: 5 and count of even number is: 4\n"
          ]
        }
      ]
    },
    {
      "cell_type": "code",
      "source": [
        "integers = [2,4,5,6]\n",
        "for i in integers:\n",
        "  if i%2==0:\n",
        "    print(i)\n",
        "print(i)"
      ],
      "metadata": {
        "id": "YzmdbGHywVqG",
        "colab": {
          "base_uri": "https://localhost:8080/"
        },
        "outputId": "75462b0d-81d4-4457-9f8e-af558f0b2bc9"
      },
      "execution_count": 46,
      "outputs": [
        {
          "output_type": "stream",
          "name": "stdout",
          "text": [
            "2\n",
            "4\n",
            "6\n",
            "6\n"
          ]
        }
      ]
    },
    {
      "cell_type": "code",
      "source": [
        "while True:\n",
        "  print(\"hello\")"
      ],
      "metadata": {
        "id": "syK7ZXS9wVs-"
      },
      "execution_count": null,
      "outputs": []
    },
    {
      "cell_type": "code",
      "source": [
        "number = 4\n",
        "fact = 1\n",
        "if (number==0):\n",
        "  print(1)\n",
        "else:\n",
        "  while number>=1:\n",
        "    fact = fact*number\n",
        "    number -=1\n",
        "  print(fact)\n"
      ],
      "metadata": {
        "colab": {
          "base_uri": "https://localhost:8080/"
        },
        "id": "_ukiEPamJYce",
        "outputId": "4052a3f0-de8d-4510-cbbf-0280e1c6fb4a"
      },
      "execution_count": 61,
      "outputs": [
        {
          "output_type": "stream",
          "name": "stdout",
          "text": [
            "24\n"
          ]
        }
      ]
    },
    {
      "cell_type": "code",
      "source": [
        ""
      ],
      "metadata": {
        "id": "b24x1ZENwVv-"
      },
      "execution_count": null,
      "outputs": []
    },
    {
      "cell_type": "code",
      "source": [
        ""
      ],
      "metadata": {
        "id": "LuED1tHyRqIq"
      },
      "execution_count": null,
      "outputs": []
    },
    {
      "cell_type": "code",
      "source": [
        ""
      ],
      "metadata": {
        "id": "9dQwueGqwVyy"
      },
      "execution_count": null,
      "outputs": []
    },
    {
      "cell_type": "code",
      "source": [
        ""
      ],
      "metadata": {
        "id": "qvZQZlV8wV1U"
      },
      "execution_count": null,
      "outputs": []
    },
    {
      "cell_type": "code",
      "source": [
        ""
      ],
      "metadata": {
        "id": "4mVWFOuVxrLm"
      },
      "execution_count": null,
      "outputs": []
    },
    {
      "cell_type": "code",
      "source": [
        ""
      ],
      "metadata": {
        "id": "Jabd7R1VXtbo"
      },
      "execution_count": null,
      "outputs": []
    },
    {
      "cell_type": "code",
      "source": [
        ""
      ],
      "metadata": {
        "id": "B-WfztmUXte-"
      },
      "execution_count": null,
      "outputs": []
    },
    {
      "cell_type": "code",
      "source": [
        ""
      ],
      "metadata": {
        "id": "HrrO7zGyxrOT"
      },
      "execution_count": null,
      "outputs": []
    },
    {
      "cell_type": "code",
      "source": [
        ""
      ],
      "metadata": {
        "id": "Jl25g8YLxrRw"
      },
      "execution_count": null,
      "outputs": []
    },
    {
      "cell_type": "code",
      "source": [
        ""
      ],
      "metadata": {
        "id": "tkEGY797xraH"
      },
      "execution_count": null,
      "outputs": []
    },
    {
      "cell_type": "code",
      "source": [
        ""
      ],
      "metadata": {
        "id": "_tWsyqhqxrdt"
      },
      "execution_count": null,
      "outputs": []
    },
    {
      "cell_type": "code",
      "source": [
        ""
      ],
      "metadata": {
        "id": "Rqi2V5nlwV4L"
      },
      "execution_count": null,
      "outputs": []
    },
    {
      "cell_type": "code",
      "source": [
        ""
      ],
      "metadata": {
        "id": "VtmplqOlwV66"
      },
      "execution_count": null,
      "outputs": []
    },
    {
      "cell_type": "code",
      "source": [
        ""
      ],
      "metadata": {
        "id": "PRCpb67rwV9v"
      },
      "execution_count": null,
      "outputs": []
    },
    {
      "cell_type": "code",
      "source": [
        ""
      ],
      "metadata": {
        "id": "h9ebhRwgwWAe"
      },
      "execution_count": null,
      "outputs": []
    },
    {
      "cell_type": "code",
      "source": [
        ""
      ],
      "metadata": {
        "id": "6CbgAH-RwWD_"
      },
      "execution_count": null,
      "outputs": []
    },
    {
      "cell_type": "code",
      "source": [
        ""
      ],
      "metadata": {
        "id": "lpc551suwWHc"
      },
      "execution_count": null,
      "outputs": []
    },
    {
      "cell_type": "code",
      "source": [
        ""
      ],
      "metadata": {
        "id": "8S1z0F2wwWKb"
      },
      "execution_count": null,
      "outputs": []
    },
    {
      "cell_type": "code",
      "source": [
        ""
      ],
      "metadata": {
        "id": "RK5XToCbwWM4"
      },
      "execution_count": null,
      "outputs": []
    }
  ]
}