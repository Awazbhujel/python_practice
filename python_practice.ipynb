{
  "nbformat": 4,
  "nbformat_minor": 0,
  "metadata": {
    "colab": {
      "name": "Untitled41.ipynb",
      "provenance": [],
      "authorship_tag": "ABX9TyNxW2AHOaqZIKxyHoE7CeR6"
    },
    "kernelspec": {
      "name": "python3",
      "display_name": "Python 3"
    },
    "language_info": {
      "name": "python"
    }
  },
  "cells": [
    {
      "cell_type": "code",
      "execution_count": null,
      "metadata": {
        "colab": {
          "base_uri": "https://localhost:8080/"
        },
        "id": "F3VI62evvvHK",
        "outputId": "fab44bc4-7115-4903-dbc2-07016163f39e"
      },
      "outputs": [
        {
          "output_type": "stream",
          "name": "stdout",
          "text": [
            "the dog is barking\n",
            "the cat is moaing\n",
            "the tiger is roaring\n"
          ]
        }
      ],
      "source": [
        "class animal:\n",
        "  def dog(self):\n",
        "    print(\"the dog is barking\")\n",
        "  def cat(self):\n",
        "    print(\"the cat is moaing\")\n",
        "  def tiger(self):\n",
        "    print(\"the tiger is roaring\")\n",
        "animal = animal()\n",
        "animal.dog()\n",
        "animal.cat()\n",
        "animal.tiger()"
      ]
    },
    {
      "cell_type": "code",
      "source": [
        "#list comprehension\n",
        "mylist=[i for i in range(1,100) if i%2==0 and i%3==0]\n",
        "print(mylist)\n"
      ],
      "metadata": {
        "colab": {
          "base_uri": "https://localhost:8080/"
        },
        "id": "BQq8PHj5weck",
        "outputId": "2cd4055c-04f9-4363-8e9c-049f97b05daf"
      },
      "execution_count": null,
      "outputs": [
        {
          "output_type": "stream",
          "name": "stdout",
          "text": [
            "[6, 12, 18, 24, 30, 36, 42, 48, 54, 60, 66, 72, 78, 84, 90, 96]\n"
          ]
        }
      ]
    },
    {
      "cell_type": "code",
      "source": [
        "#lambda\n",
        "mylist = [lambda x:x%2==0 and x%3==0 in range(100)]\n",
        "mylist"
      ],
      "metadata": {
        "colab": {
          "base_uri": "https://localhost:8080/"
        },
        "id": "utuN58-KwejM",
        "outputId": "f23c5253-7ed5-4d44-91f4-804a848f144e"
      },
      "execution_count": null,
      "outputs": [
        {
          "output_type": "execute_result",
          "data": {
            "text/plain": [
              "[<function __main__.<lambda>>]"
            ]
          },
          "metadata": {},
          "execution_count": 43
        }
      ]
    },
    {
      "cell_type": "code",
      "source": [
        "dict1 ={\"awaz\":1,\n",
        "        \"asmin\":2,\n",
        "        \"aman\":3}\n",
        "for key,value in dict1.items():\n",
        "  print(key,value)"
      ],
      "metadata": {
        "colab": {
          "base_uri": "https://localhost:8080/"
        },
        "id": "3xONwnANweok",
        "outputId": "b17c9902-6e6e-4e97-9858-ec1b1a59c8a8"
      },
      "execution_count": null,
      "outputs": [
        {
          "output_type": "stream",
          "name": "stdout",
          "text": [
            "awaz 1\n",
            "asmin 2\n",
            "aman 3\n"
          ]
        }
      ]
    },
    {
      "cell_type": "code",
      "source": [
        "x = lambda x:x*2\n",
        "print(x(5))"
      ],
      "metadata": {
        "colab": {
          "base_uri": "https://localhost:8080/"
        },
        "id": "zkReDCCsweup",
        "outputId": "0b42896d-e285-4cb9-b1f6-2abd543c28b0"
      },
      "execution_count": null,
      "outputs": [
        {
          "output_type": "stream",
          "name": "stdout",
          "text": [
            "10\n"
          ]
        }
      ]
    },
    {
      "cell_type": "code",
      "source": [
        "#map\n",
        "def mymap(x):\n",
        "  return x**2\n",
        "total_list= list(map(mymap,range(10)))\n",
        "print(total_list)"
      ],
      "metadata": {
        "colab": {
          "base_uri": "https://localhost:8080/"
        },
        "id": "iBXZJSaowe0Z",
        "outputId": "f2791067-90a9-417c-8eac-8f2f4bf212ab"
      },
      "execution_count": null,
      "outputs": [
        {
          "output_type": "stream",
          "name": "stdout",
          "text": [
            "[0, 1, 4, 9, 16, 25, 36, 49, 64, 81]\n"
          ]
        }
      ]
    },
    {
      "cell_type": "code",
      "source": [
        "#map using lambda function\n",
        "total_list1 = list(map(lambda x:x**2,range(10)))\n",
        "print(total_list1)"
      ],
      "metadata": {
        "colab": {
          "base_uri": "https://localhost:8080/"
        },
        "id": "C9oYjbLdwe5N",
        "outputId": "b904cb7b-2d86-43fa-c525-a86d95597d7d"
      },
      "execution_count": null,
      "outputs": [
        {
          "output_type": "stream",
          "name": "stdout",
          "text": [
            "[0, 1, 4, 9, 16, 25, 36, 49, 64, 81]\n"
          ]
        }
      ]
    },
    {
      "cell_type": "code",
      "source": [
        "#using filter and finding numb greater than 6\n",
        "data = [1,2,3,4,5,6,7,7,7,8,2,3,5,6,7]\n",
        "arranged_data = set(data)\n",
        "def greater_than_6(x):\n",
        "    if x>6:\n",
        "      return x\n",
        "mydata = list(filter(lambda x:x>6,arranged_data))\n",
        "print(mydata)"
      ],
      "metadata": {
        "colab": {
          "base_uri": "https://localhost:8080/"
        },
        "id": "QSU6l-E2we8y",
        "outputId": "4ac419c4-0fa2-422e-957d-88520a2c1bed"
      },
      "execution_count": null,
      "outputs": [
        {
          "output_type": "stream",
          "name": "stdout",
          "text": [
            "[7, 8]\n"
          ]
        }
      ]
    },
    {
      "cell_type": "code",
      "source": [
        "#reduce\n",
        "from functools import reduce\n",
        "data = [1,2,3,4,5,6,7,7,7,8,2,3,5,6,7]\n",
        "arranged_data = set(data)\n",
        "mydata1=int(reduce(lambda x,y:(x+y),arranged_data))\n",
        "print(mydata1)\n"
      ],
      "metadata": {
        "colab": {
          "base_uri": "https://localhost:8080/"
        },
        "id": "MDLLW17hwfBS",
        "outputId": "18dc1fd2-5833-4ada-825e-10f7a0d1f46a"
      },
      "execution_count": null,
      "outputs": [
        {
          "output_type": "stream",
          "name": "stdout",
          "text": [
            "36\n"
          ]
        }
      ]
    },
    {
      "cell_type": "code",
      "source": [
        "#maximum from list\n",
        "maxi = reduce(lambda a,b: a if a>b else b,[1,2,3,99,109,33,44,55,66])\n",
        "print(maxi)\n"
      ],
      "metadata": {
        "colab": {
          "base_uri": "https://localhost:8080/"
        },
        "id": "PLMvA375wfFP",
        "outputId": "55121400-8977-42c6-b28e-6ea82cc01dde"
      },
      "execution_count": null,
      "outputs": [
        {
          "output_type": "stream",
          "name": "stdout",
          "text": [
            "109\n"
          ]
        }
      ]
    },
    {
      "cell_type": "code",
      "source": [
        "#args\n",
        "def myargs(*args):\n",
        "  for i in args:\n",
        "    print(i,end=\" \")\n",
        "myargs(\"you\",\"are\",\"hard\",\"working\")"
      ],
      "metadata": {
        "colab": {
          "base_uri": "https://localhost:8080/"
        },
        "id": "UGmHrTu73-EC",
        "outputId": "92b9682e-52f5-47fd-eb91-8bb1d7dc83bf"
      },
      "execution_count": null,
      "outputs": [
        {
          "output_type": "stream",
          "name": "stdout",
          "text": [
            "you are hard working "
          ]
        }
      ]
    },
    {
      "cell_type": "code",
      "source": [
        "#kwrgs\n",
        "def mydict(**kwargs):\n",
        "    for key,value in kwargs.items():\n",
        "        print(\"%s=%s\"%(key,value))\n",
        "mydict(name=\"awaz\",age=\"21\",country=\"Nepal\")"
      ],
      "metadata": {
        "colab": {
          "base_uri": "https://localhost:8080/"
        },
        "id": "Z3nmQT-2_azt",
        "outputId": "b36a947a-7b7d-4406-db81-d1c601a77e8e"
      },
      "execution_count": null,
      "outputs": [
        {
          "output_type": "stream",
          "name": "stdout",
          "text": [
            "name=awaz\n",
            "age=21\n",
            "country=Nepal\n"
          ]
        }
      ]
    },
    {
      "cell_type": "code",
      "source": [
        "#chainmap\n",
        "from collections import ChainMap\n",
        "baseline = {'music': 'bach', 'art': 'rembrandt'}\n",
        "adjustments = {'art': 'van gogh', 'opera': 'carmen'}\n",
        "list(ChainMap(adjustments,baseline))\n"
      ],
      "metadata": {
        "colab": {
          "base_uri": "https://localhost:8080/"
        },
        "id": "AvHIi1XpAR96",
        "outputId": "d9cb6dc9-43eb-4fd8-8cc9-d568a0d8dc90"
      },
      "execution_count": null,
      "outputs": [
        {
          "output_type": "execute_result",
          "data": {
            "text/plain": [
              "['music', 'art', 'opera']"
            ]
          },
          "metadata": {},
          "execution_count": 93
        }
      ]
    },
    {
      "cell_type": "code",
      "source": [
        ""
      ],
      "metadata": {
        "id": "l_F1JGvrASDd"
      },
      "execution_count": null,
      "outputs": []
    },
    {
      "cell_type": "code",
      "source": [
        ""
      ],
      "metadata": {
        "id": "SUM55wnPASIW"
      },
      "execution_count": null,
      "outputs": []
    },
    {
      "cell_type": "code",
      "source": [
        ""
      ],
      "metadata": {
        "id": "jNYK-UZIASNM"
      },
      "execution_count": null,
      "outputs": []
    }
  ]
}