{
  "nbformat": 4,
  "nbformat_minor": 0,
  "metadata": {
    "colab": {
      "name": "awaz.ipynb",
      "provenance": [],
      "authorship_tag": "ABX9TyO4qCWEHonJKLo4lNuAWl/Z"
    },
    "kernelspec": {
      "name": "python3",
      "display_name": "Python 3"
    },
    "language_info": {
      "name": "python"
    }
  },
  "cells": [
    {
      "cell_type": "code",
      "execution_count": null,
      "metadata": {
        "id": "AtBSxmciHeqS",
        "colab": {
          "base_uri": "https://localhost:8080/"
        },
        "outputId": "4e859a2c-1271-40df-a6b6-313f1e6a4a55"
      },
      "outputs": [
        {
          "output_type": "stream",
          "name": "stdout",
          "text": [
            "10\n",
            "20\n",
            "30\n",
            "40\n",
            "50\n",
            "60\n",
            "70\n",
            "80\n",
            "90\n",
            "100\n"
          ]
        }
      ],
      "source": [
        "#lambda fun in list\n",
        "list1 = [lambda x=x:x*10 for x in range(1,11)]\n",
        "for i in list1:\n",
        "  print(i())"
      ]
    },
    {
      "cell_type": "code",
      "source": [
        "x =\"i believe in hardwork\"\n",
        "(lambda x:print(x))(x)\n"
      ],
      "metadata": {
        "colab": {
          "base_uri": "https://localhost:8080/"
        },
        "id": "7uBIqVnxrsiP",
        "outputId": "ad1a0074-551e-48ad-9add-d3e3447bd964"
      },
      "execution_count": null,
      "outputs": [
        {
          "output_type": "stream",
          "name": "stdout",
          "text": [
            "i believe in hardwork\n"
          ]
        }
      ]
    },
    {
      "cell_type": "code",
      "source": [
        "#def\n",
        "def cube(y):\n",
        "  return y*y*y\n",
        "\n",
        "lamb = lambda y:y*y*y\n",
        "print(cube(5))\n",
        "print(lamb(5))"
      ],
      "metadata": {
        "colab": {
          "base_uri": "https://localhost:8080/"
        },
        "id": "jk6AbO_Orsk1",
        "outputId": "fd0a2ea3-d3c3-4ad1-f075-1658a3d2b4cc"
      },
      "execution_count": null,
      "outputs": [
        {
          "output_type": "stream",
          "name": "stdout",
          "text": [
            "125\n",
            "125\n"
          ]
        }
      ]
    },
    {
      "cell_type": "code",
      "source": [
        "#lambda if else\n",
        "max1=lambda a,b:a if (a!=b) else b\n",
        "print(max1(2,2))"
      ],
      "metadata": {
        "colab": {
          "base_uri": "https://localhost:8080/"
        },
        "id": "juRAMnTTrsn_",
        "outputId": "28f9416f-40d5-400a-e1f6-c56f242c08ac"
      },
      "execution_count": null,
      "outputs": [
        {
          "output_type": "stream",
          "name": "stdout",
          "text": [
            "2\n"
          ]
        }
      ]
    },
    {
      "cell_type": "code",
      "source": [
        "#lamb with multiple statement\n",
        "List = [[2,3,4],[1, 4, 16, 64],[3, 6, 9, 12]]\n",
        "sortlst= lambda x:(sorted(i) for i in x)\n",
        "\n",
        "secondLargest = lambda x, f : [y[len(y)-2] for y in f(x)]\n",
        "res = secondLargest(List, sortlst)\n",
        "print(res)"
      ],
      "metadata": {
        "colab": {
          "base_uri": "https://localhost:8080/"
        },
        "id": "_ZAjhLeNwHVf",
        "outputId": "19980d07-d61a-41b5-f3a1-6fbfb7b55e3d"
      },
      "execution_count": null,
      "outputs": [
        {
          "output_type": "stream",
          "name": "stdout",
          "text": [
            "[3, 16, 9]\n"
          ]
        }
      ]
    },
    {
      "cell_type": "code",
      "source": [
        "#filter with list\n",
        "lis = [5, 7, 22, 97, 54, 62, 77, 23, 73, 61]\n",
        "total_list =list(filter(lambda x:(x%2!=0),lis))\n",
        "print(total_list)"
      ],
      "metadata": {
        "id": "9Vw7Gi4ZwHYE",
        "colab": {
          "base_uri": "https://localhost:8080/"
        },
        "outputId": "87447010-5cf5-4ab2-a556-f7f0e4f9cb0a"
      },
      "execution_count": null,
      "outputs": [
        {
          "output_type": "stream",
          "name": "stdout",
          "text": [
            "[5, 7, 97, 77, 23, 73, 61]\n"
          ]
        }
      ]
    },
    {
      "cell_type": "code",
      "source": [
        "ages = [13, 90, 17, 59, 21, 60, 5]\n",
        "adults = lambda x:x>18\n",
        "print(adults)"
      ],
      "metadata": {
        "id": "EGYwcvvjwHbs",
        "colab": {
          "base_uri": "https://localhost:8080/"
        },
        "outputId": "2efbd2fc-6181-4076-8a4c-cb56a24467b7"
      },
      "execution_count": null,
      "outputs": [
        {
          "output_type": "stream",
          "name": "stdout",
          "text": [
            "(<function <lambda> at 0x7f9cd5c02710>, [13, 90, 17, 59, 21, 60, 5])\n"
          ]
        }
      ]
    },
    {
      "cell_type": "code",
      "source": [
        "even = [i+2 for i in range(1,11) if i%2==0]\n",
        "print(even)"
      ],
      "metadata": {
        "id": "m0TMFsFfrsqx",
        "colab": {
          "base_uri": "https://localhost:8080/"
        },
        "outputId": "1478401e-f21c-4e87-bc77-abca0ad9f379"
      },
      "execution_count": null,
      "outputs": [
        {
          "output_type": "stream",
          "name": "stdout",
          "text": [
            "[4, 6, 8, 10, 12]\n"
          ]
        }
      ]
    },
    {
      "cell_type": "code",
      "source": [
        "list1=[i for i in range(1,11) if i %2!=0]\n",
        "print(list1)"
      ],
      "metadata": {
        "id": "8-SQ-6kPrstW",
        "colab": {
          "base_uri": "https://localhost:8080/"
        },
        "outputId": "e41110e6-090f-4f04-e63a-d7db426e99c9"
      },
      "execution_count": null,
      "outputs": [
        {
          "output_type": "stream",
          "name": "stdout",
          "text": [
            "[1, 3, 5, 7, 9]\n"
          ]
        }
      ]
    },
    {
      "cell_type": "code",
      "source": [
        "a = ['Mary', 'had', 'a', 'little', 'lamb']\n",
        "for i in range(len(a)):\n",
        "    print(a[i],i)"
      ],
      "metadata": {
        "colab": {
          "base_uri": "https://localhost:8080/"
        },
        "id": "fy3LZ1rvaGCa",
        "outputId": "1b7140fa-8ffc-4be3-9f3a-1b9ca44bbb7f"
      },
      "execution_count": null,
      "outputs": [
        {
          "output_type": "stream",
          "name": "stdout",
          "text": [
            "Mary 0\n",
            "had 1\n",
            "a 2\n",
            "little 3\n",
            "lamb 4\n"
          ]
        }
      ]
    },
    {
      "cell_type": "code",
      "source": [
        "#break\n",
        "for i in range(10):\n",
        "  if i>=5:\n",
        "    break\n",
        "  print(i)    "
      ],
      "metadata": {
        "colab": {
          "base_uri": "https://localhost:8080/"
        },
        "id": "RNryQ88VaGF_",
        "outputId": "1dff5c98-70f1-4786-9348-9966a7ed3d70"
      },
      "execution_count": null,
      "outputs": [
        {
          "output_type": "stream",
          "name": "stdout",
          "text": [
            "0\n",
            "1\n",
            "2\n",
            "3\n",
            "4\n"
          ]
        }
      ]
    },
    {
      "cell_type": "code",
      "source": [
        "#continue\n",
        "for i in range(1,11):\n",
        "  if i%2==0:\n",
        "    continue\n",
        "  print(i)"
      ],
      "metadata": {
        "colab": {
          "base_uri": "https://localhost:8080/"
        },
        "id": "xRQhvYhBaGKZ",
        "outputId": "8182108e-1fcc-47c5-bb49-052c285f67fd"
      },
      "execution_count": null,
      "outputs": [
        {
          "output_type": "stream",
          "name": "stdout",
          "text": [
            "1\n",
            "3\n",
            "5\n",
            "7\n",
            "9\n"
          ]
        }
      ]
    },
    {
      "cell_type": "code",
      "source": [
        "#for loop to seperate the string\n",
        "sep_letters=[]\n",
        "for i in \"analyts\":\n",
        "  sep_letters.append(i)\n",
        "print(sep_letters)"
      ],
      "metadata": {
        "colab": {
          "base_uri": "https://localhost:8080/"
        },
        "id": "k31sR0OUaGM0",
        "outputId": "62287c5b-255a-4cfb-ab78-f7acc0b546fb"
      },
      "execution_count": null,
      "outputs": [
        {
          "output_type": "stream",
          "name": "stdout",
          "text": [
            "['a', 'n', 'a', 'l', 'y', 't', 's']\n"
          ]
        }
      ]
    },
    {
      "cell_type": "code",
      "source": [
        "# comprehension list\n",
        "sep_letrs=[i for i in \"analytics\"]\n",
        "print(sep_letters)"
      ],
      "metadata": {
        "colab": {
          "base_uri": "https://localhost:8080/"
        },
        "id": "6KnkOU4caGQe",
        "outputId": "ca26ff3b-7034-4ae6-b2be-2cea2938dfe3"
      },
      "execution_count": null,
      "outputs": [
        {
          "output_type": "stream",
          "name": "stdout",
          "text": [
            "['a', 'n', 'a', 'l', 'y', 't', 's']\n"
          ]
        }
      ]
    },
    {
      "cell_type": "code",
      "source": [
        "filtered_list = [x for x in range(50) if x%2==0 if x%3==0]\n",
        "print(filtered_list)"
      ],
      "metadata": {
        "colab": {
          "base_uri": "https://localhost:8080/"
        },
        "id": "MRO3RMo3mF2I",
        "outputId": "2f8872c3-a79f-4127-fec9-ab0a9e9f6013"
      },
      "execution_count": 36,
      "outputs": [
        {
          "output_type": "stream",
          "name": "stdout",
          "text": [
            "[0, 6, 12, 18, 24, 30, 36, 42, 48]\n"
          ]
        }
      ]
    },
    {
      "cell_type": "code",
      "source": [
        "list1 =[\"even\" if x%2==0 else \"odd\" for x in range(5)]\n",
        "print(list1)"
      ],
      "metadata": {
        "id": "PV8Z5HWqmF4w",
        "colab": {
          "base_uri": "https://localhost:8080/"
        },
        "outputId": "1067ebd7-89ea-40c0-b28a-bc3617f73f22"
      },
      "execution_count": 38,
      "outputs": [
        {
          "output_type": "stream",
          "name": "stdout",
          "text": [
            "['even', 'odd', 'even', 'odd', 'even']\n"
          ]
        }
      ]
    },
    {
      "cell_type": "code",
      "source": [
        "#transpose\n",
        "matrix = [[1, 2], [3,4], [5,6], [7,8]]\n",
        "trans_matrix = [[row[i] for row in matrix] for i in range(2)]\n",
        "print(trans_matrix)"
      ],
      "metadata": {
        "id": "7pkVjRv9mF8P",
        "colab": {
          "base_uri": "https://localhost:8080/"
        },
        "outputId": "61dcc9df-e066-4020-9120-e21dc017f014"
      },
      "execution_count": 39,
      "outputs": [
        {
          "output_type": "stream",
          "name": "stdout",
          "text": [
            "[[1, 3, 5, 7], [2, 4, 6, 8]]\n"
          ]
        }
      ]
    },
    {
      "cell_type": "code",
      "source": [
        "names = ['Ch','Dh','Eh','cb','Tb','Td','Chb','Tdb']\n",
        "final_name = [(i) for i in names if i.lower().endswith(\"b\") and len(i)>2]\n",
        "print(final_name)"
      ],
      "metadata": {
        "colab": {
          "base_uri": "https://localhost:8080/"
        },
        "id": "NX2FS8mR2CMk",
        "outputId": "4ed8a615-f537-4d7e-f73d-62135e644ca3"
      },
      "execution_count": 44,
      "outputs": [
        {
          "output_type": "stream",
          "name": "stdout",
          "text": [
            "['Chb', 'Tdb']\n"
          ]
        }
      ]
    },
    {
      "cell_type": "code",
      "source": [
        "#reverse the string using comprehension\n",
        "list2 = [string[::-1] for string in (\"awaz\",\"asmin\",\"aman\")]\n",
        "print(list2)"
      ],
      "metadata": {
        "colab": {
          "base_uri": "https://localhost:8080/"
        },
        "id": "uSHkvwF_yuvx",
        "outputId": "0b0b0830-04e8-41af-983d-d176deb8b3ec"
      },
      "execution_count": 45,
      "outputs": [
        {
          "output_type": "stream",
          "name": "stdout",
          "text": [
            "['zawa', 'nimsa', 'nama']\n"
          ]
        }
      ]
    },
    {
      "cell_type": "code",
      "source": [
        ""
      ],
      "metadata": {
        "id": "S16COCDlyvJc"
      },
      "execution_count": null,
      "outputs": []
    }
  ]
}