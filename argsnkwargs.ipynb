{
  "nbformat": 4,
  "nbformat_minor": 0,
  "metadata": {
    "colab": {
      "name": "argnkwargs.ipynb",
      "provenance": [],
      "authorship_tag": "ABX9TyMJIJCKcaoZYrdUe3SEULco"
    },
    "kernelspec": {
      "name": "python3",
      "display_name": "Python 3"
    },
    "language_info": {
      "name": "python"
    }
  },
  "cells": [
    {
      "cell_type": "code",
      "execution_count": null,
      "metadata": {
        "colab": {
          "base_uri": "https://localhost:8080/"
        },
        "id": "4z5DZc-Zp9Po",
        "outputId": "179d6a0e-614f-4d41-d8aa-55a05244b813"
      },
      "outputs": [
        {
          "output_type": "stream",
          "name": "stdout",
          "text": [
            "it exist\n"
          ]
        }
      ],
      "source": [
        "x = [1,2,3,4]\n",
        "if len(x)==3:\n",
        "    print(\"it exist\")\n",
        "elif len(x)==4:\n",
        "    print(\"it exist\")\n",
        "else:\n",
        "    print(\"it doesnt exist\")"
      ]
    },
    {
      "cell_type": "code",
      "source": [
        "#check the number is palindrome or not\n",
        "x = input(\"enter any number,string:\")\n",
        "reverse  = x[::-1]\n",
        "print(reverse)\n",
        "if x==reverse:\n",
        "  print(\"the number is paindrome\")\n",
        "else:\n",
        "  print(\"the number is not palinedrome\")"
      ],
      "metadata": {
        "colab": {
          "base_uri": "https://localhost:8080/"
        },
        "id": "ZuL7PmUmqijY",
        "outputId": "b24f6e01-c3a9-4413-8cf4-bb22ebca3a2d"
      },
      "execution_count": null,
      "outputs": [
        {
          "output_type": "stream",
          "name": "stdout",
          "text": [
            "enter any number,string:121\n",
            "121\n",
            "the number is paindrome\n"
          ]
        }
      ]
    },
    {
      "cell_type": "code",
      "source": [
        "#function\n",
        "def add(a,b):\n",
        "  print(\"the sum of two numbers is:\",a+b)\n",
        "def sub(a,b):\n",
        "   print(\"the difference of two numbers is:\",a-b)\n",
        "def multiply(a,b):\n",
        "  print(\"the multiplication of two numbers is:\",a*b)\n",
        "add(1,1)\n",
        "sub(2,1)\n",
        "multiply(2,4)\n"
      ],
      "metadata": {
        "colab": {
          "base_uri": "https://localhost:8080/"
        },
        "id": "jHy7XQSlqinc",
        "outputId": "9fe848e9-9883-4901-fe23-b304e6061ed7"
      },
      "execution_count": null,
      "outputs": [
        {
          "output_type": "stream",
          "name": "stdout",
          "text": [
            "the sum of two numbers is: 2\n",
            "the difference of two numbers is: 1\n",
            "the multiplication of two numbers is: 8\n"
          ]
        }
      ]
    },
    {
      "cell_type": "code",
      "source": [
        "class operators():\n",
        "  def get_oper(self,a,b):\n",
        "    print(\"the sum is:\",a+b)\n",
        "    print(\"the sub is:\",a-b)\n",
        "    print(\"the mul is :\",a*b)\n",
        "    print(\"the div is:\",int(a/b))\n",
        "total = operators()\n",
        "total.get_oper(2,2)"
      ],
      "metadata": {
        "colab": {
          "base_uri": "https://localhost:8080/"
        },
        "id": "RUhLKNfNqirz",
        "outputId": "4c296050-e5f2-43f2-9956-680acc3ac536"
      },
      "execution_count": null,
      "outputs": [
        {
          "output_type": "stream",
          "name": "stdout",
          "text": [
            "the sum is: 4\n",
            "the sub is: 0\n",
            "the mul is : 4\n",
            "the div is: 1\n"
          ]
        }
      ]
    },
    {
      "cell_type": "code",
      "source": [
        "total_list = [i for i in range(1,11) if i%2==0]\n",
        "print(total_list)\n"
      ],
      "metadata": {
        "colab": {
          "base_uri": "https://localhost:8080/"
        },
        "id": "bBDLaCzOqivF",
        "outputId": "65a537b5-5e37-48d7-c0fe-6888a646843f"
      },
      "execution_count": null,
      "outputs": [
        {
          "output_type": "stream",
          "name": "stdout",
          "text": [
            "[2, 4, 6, 8, 10]\n"
          ]
        }
      ]
    },
    {
      "cell_type": "code",
      "source": [
        "sum = [1,2,3,4,5]\n",
        "add = [i+1 for i in sum ]\n",
        "print(add)"
      ],
      "metadata": {
        "colab": {
          "base_uri": "https://localhost:8080/"
        },
        "id": "Hvi_6dxEqiy2",
        "outputId": "d3250b18-37a7-44b1-a342-a2139c948c30"
      },
      "execution_count": null,
      "outputs": [
        {
          "output_type": "stream",
          "name": "stdout",
          "text": [
            "[2, 3, 4, 5, 6]\n"
          ]
        }
      ]
    },
    {
      "cell_type": "code",
      "source": [
        "x =lambda x:x**3\n",
        "print(x(3))"
      ],
      "metadata": {
        "colab": {
          "base_uri": "https://localhost:8080/"
        },
        "id": "gRiA_nvY2dNc",
        "outputId": "785d5fc7-c9f6-42d4-b04e-7526770f8ef5"
      },
      "execution_count": null,
      "outputs": [
        {
          "output_type": "stream",
          "name": "stdout",
          "text": [
            "27\n"
          ]
        }
      ]
    },
    {
      "cell_type": "code",
      "source": [
        "data =[\"even\" if i%2==0 else \"odd\" for i in range(1,6)]\n",
        "print(data)"
      ],
      "metadata": {
        "colab": {
          "base_uri": "https://localhost:8080/"
        },
        "id": "QQ979JcD2dRE",
        "outputId": "b560346a-76dd-415c-8471-473bfdfea83b"
      },
      "execution_count": null,
      "outputs": [
        {
          "output_type": "stream",
          "name": "stdout",
          "text": [
            "['odd', 'even', 'odd', 'even', 'odd']\n"
          ]
        }
      ]
    },
    {
      "cell_type": "code",
      "source": [
        "a = [1, 2, 3]\n",
        "b = ['A', 'B', 'C']"
      ],
      "metadata": {
        "id": "N3P3fuXFqi2K"
      },
      "execution_count": null,
      "outputs": []
    },
    {
      "cell_type": "code",
      "source": [
        "a = [1, 2, 3]\n",
        "b = ['A', 'B', 'C']\n",
        "c = [str(i)+j for i in a for j in b]\n",
        "print(c)"
      ],
      "metadata": {
        "colab": {
          "base_uri": "https://localhost:8080/"
        },
        "id": "NutOBsgY4llV",
        "outputId": "748ba459-624f-43a3-cd11-d120c8062f30"
      },
      "execution_count": null,
      "outputs": [
        {
          "output_type": "stream",
          "name": "stdout",
          "text": [
            "['1A', '1B', '1C', '2A', '2B', '2C', '3A', '3B', '3C']\n"
          ]
        }
      ]
    },
    {
      "cell_type": "code",
      "source": [
        "nums = [[1, 2, 3], [3, 4, 5], [6, 7, 8]]\n",
        "c = [e for i in nums for e in nums]\n",
        "print(c)"
      ],
      "metadata": {
        "colab": {
          "base_uri": "https://localhost:8080/"
        },
        "id": "trdYfjIr4lpG",
        "outputId": "b736b225-6841-4171-d777-b90054afc4be"
      },
      "execution_count": null,
      "outputs": [
        {
          "output_type": "stream",
          "name": "stdout",
          "text": [
            "[[1, 2, 3], [3, 4, 5], [6, 7, 8], [1, 2, 3], [3, 4, 5], [6, 7, 8], [1, 2, 3], [3, 4, 5], [6, 7, 8]]\n"
          ]
        }
      ]
    },
    {
      "cell_type": "code",
      "source": [
        "total_list =list(map(lambda x:x*x,range(1,11)))\n",
        "print(total_list)"
      ],
      "metadata": {
        "colab": {
          "base_uri": "https://localhost:8080/"
        },
        "id": "s826Y1jk4ltZ",
        "outputId": "b91bd326-7993-4ec4-e292-d0fe196b93ab"
      },
      "execution_count": null,
      "outputs": [
        {
          "output_type": "stream",
          "name": "stdout",
          "text": [
            "[1, 4, 9, 16, 25, 36, 49, 64, 81, 100]\n"
          ]
        }
      ]
    },
    {
      "cell_type": "code",
      "source": [
        "list1 = list(filter(lambda x:x>4,range(11)))\n",
        "print(list1)"
      ],
      "metadata": {
        "colab": {
          "base_uri": "https://localhost:8080/"
        },
        "id": "9mCPkT87qi46",
        "outputId": "1180dfca-6c52-4547-cbaa-2815a16f24d1"
      },
      "execution_count": null,
      "outputs": [
        {
          "output_type": "stream",
          "name": "stdout",
          "text": [
            "[5, 6, 7, 8, 9, 10]\n"
          ]
        }
      ]
    },
    {
      "cell_type": "code",
      "source": [
        "from functools import reduce\n",
        "list2 = reduce(lambda x,y:(x+1*y/2%3),range(11))\n",
        "print(list2)"
      ],
      "metadata": {
        "colab": {
          "base_uri": "https://localhost:8080/"
        },
        "id": "Cm_QnSLQqi7r",
        "outputId": "487f9b1c-d25f-49bc-8e8c-32a628637686"
      },
      "execution_count": null,
      "outputs": [
        {
          "output_type": "stream",
          "name": "stdout",
          "text": [
            "12.5\n"
          ]
        }
      ]
    },
    {
      "cell_type": "code",
      "source": [
        "while True:\n",
        "    list1 = [i for i in range(10) if i%2==0]   \n",
        "    break\n",
        "print(list1)\n"
      ],
      "metadata": {
        "colab": {
          "base_uri": "https://localhost:8080/"
        },
        "id": "QfTw1_F_qi-V",
        "outputId": "315a5e68-654b-473a-913d-e1c51c64be34"
      },
      "execution_count": null,
      "outputs": [
        {
          "output_type": "stream",
          "name": "stdout",
          "text": [
            "[0, 2, 4, 6, 8]\n"
          ]
        }
      ]
    },
    {
      "cell_type": "code",
      "source": [
        "a,b = \"a\",5\n",
        "print(a*b)"
      ],
      "metadata": {
        "colab": {
          "base_uri": "https://localhost:8080/"
        },
        "id": "svNGmH-WRPDI",
        "outputId": "d2afa487-22f1-4a6a-ff6e-e268d6f49cf1"
      },
      "execution_count": 144,
      "outputs": [
        {
          "output_type": "stream",
          "name": "stdout",
          "text": [
            "aaaaa\n"
          ]
        }
      ]
    },
    {
      "cell_type": "code",
      "source": [
        "#*args\n",
        "def myfun(*args):\n",
        "   for i in args:\n",
        "    print(i)\n",
        "x = myfun(\"i\",\"am\",\"from\",\"Nepal\")"
      ],
      "metadata": {
        "id": "_E5bsKqHbc-O",
        "colab": {
          "base_uri": "https://localhost:8080/"
        },
        "outputId": "7e8b4fb5-be44-4cf4-8075-2c6b4de71a89"
      },
      "execution_count": 160,
      "outputs": [
        {
          "output_type": "stream",
          "name": "stdout",
          "text": [
            "i\n",
            "am\n",
            "from\n",
            "Nepal\n"
          ]
        }
      ]
    },
    {
      "cell_type": "code",
      "source": [
        "#*args\n",
        "def arg(arg1,*arg):\n",
        "  print(\"first arguments:\",arg1)\n",
        "  for i in arg:\n",
        "    print(\"argument of arg is:\",i)\n",
        "arg(\"hard work beat talent\",\"believe in hardwork not god\",\"i will achieve my dreams\",1)\n"
      ],
      "metadata": {
        "id": "dIcZ2z7JbdAs",
        "colab": {
          "base_uri": "https://localhost:8080/"
        },
        "outputId": "cd0b707b-db85-4d38-898f-5c9ad508e256"
      },
      "execution_count": 165,
      "outputs": [
        {
          "output_type": "stream",
          "name": "stdout",
          "text": [
            "first arguments: hard work beat talent\n",
            "argument of arg is: believe in hardwork not god\n",
            "argument of arg is: i will achieve my dreams\n",
            "argument of arg is: 1\n"
          ]
        }
      ]
    },
    {
      "cell_type": "code",
      "source": [
        "#**kwarg\n",
        "def myfun(**kwargs):\n",
        "    for key,value in kwargs.items():\n",
        "      print(\"%s=%s\"%(key,value))\n",
        "\n",
        "myfun(name=\"awaz\",country=\"Nepal\",age=18)\n"
      ],
      "metadata": {
        "id": "JaXfpOUAbdEr",
        "colab": {
          "base_uri": "https://localhost:8080/"
        },
        "outputId": "f3e2ca99-3b17-43d9-a508-0dad56294590"
      },
      "execution_count": 176,
      "outputs": [
        {
          "output_type": "stream",
          "name": "stdout",
          "text": [
            "name=awaz\n",
            "country=Nepal\n",
            "age=18\n"
          ]
        }
      ]
    },
    {
      "cell_type": "code",
      "source": [
        "def myfun(*args,**kwargs):\n",
        "    for key,value in kwargs.items():\n",
        "      print(\"%s=%s\"%(key,value))\n",
        "\n",
        "myfun(\"i\",name=\"awaz\",country=\"Nepal\",age=18)"
      ],
      "metadata": {
        "colab": {
          "base_uri": "https://localhost:8080/"
        },
        "id": "CGcj2d3_oRNa",
        "outputId": "a7196503-5bc0-4fc8-ee29-99f825da2e38"
      },
      "execution_count": 179,
      "outputs": [
        {
          "output_type": "stream",
          "name": "stdout",
          "text": [
            "name=awaz\n",
            "country=Nepal\n",
            "age=18\n"
          ]
        }
      ]
    },
    {
      "cell_type": "code",
      "source": [
        "def myfun(arg1,arg2,arg3):\n",
        "  print(\"arg1:\",arg1)\n",
        "  print(\"arg2\",arg2)\n",
        "  print(\"arg3:\",arg3)\n",
        "args=(\"you\",\"are\",\"amazing\")\n",
        "myfun(*args)\n",
        "\n",
        "kwargs = {\"arg1\":\"you\",\"arg2\":\"work\",\"arg3\": \"hard\"}\n",
        "myfun(**kwargs)"
      ],
      "metadata": {
        "colab": {
          "base_uri": "https://localhost:8080/"
        },
        "id": "ZH0LaK1sohqt",
        "outputId": "12d7bd36-dd55-409d-859a-1e967bcf829a"
      },
      "execution_count": 188,
      "outputs": [
        {
          "output_type": "stream",
          "name": "stdout",
          "text": [
            "arg1: you\n",
            "arg2 are\n",
            "arg3: amazing\n",
            "arg1: you\n",
            "arg2 work\n",
            "arg3: hard\n"
          ]
        }
      ]
    },
    {
      "cell_type": "code",
      "source": [
        "#arg and kwarg\n",
        "def myfun(*arg,**kwarg):\n",
        "  print(\"args:\",arg)\n",
        "  print(\"kwarg\",kwarg)\n",
        "myfun(\"you\",\"are\",\"amazing\",first_name=\"awaz\",last_name=\"bhujel\")\n",
        "\n"
      ],
      "metadata": {
        "colab": {
          "base_uri": "https://localhost:8080/"
        },
        "id": "GY4C_ZKEqIzl",
        "outputId": "2831f5b2-afcd-4e65-8e2c-8d0105554139"
      },
      "execution_count": 192,
      "outputs": [
        {
          "output_type": "stream",
          "name": "stdout",
          "text": [
            "args: ('you', 'are', 'amazing')\n",
            "kwarg {'first_name': 'awaz', 'last_name': 'bhujel'}\n"
          ]
        }
      ]
    },
    {
      "cell_type": "code",
      "source": [
        "while True:\n",
        "  if i<=100:\n",
        "    print(\"i love you\")"
      ],
      "metadata": {
        "id": "dPb066e5qjCR"
      },
      "execution_count": null,
      "outputs": []
    },
    {
      "cell_type": "code",
      "source": [
        "dic1 = {\"awaz\":1,\"asmin\":2,\"aman\":3,\"ram\":4}\n",
        "total  =[(i,j) for i,j in dic1.items()]\n",
        "for key,value in dic1.items():\n",
        "  print([key,value])\n",
        "print(total)"
      ],
      "metadata": {
        "colab": {
          "base_uri": "https://localhost:8080/"
        },
        "id": "mYOSqrD4qjFp",
        "outputId": "2bd03304-5317-440f-f50f-96d15a976a7c"
      },
      "execution_count": null,
      "outputs": [
        {
          "output_type": "stream",
          "name": "stdout",
          "text": [
            "['awaz', 1]\n",
            "['asmin', 2]\n",
            "['aman', 3]\n",
            "['ram', 4]\n",
            "[('awaz', 1), ('asmin', 2), ('aman', 3), ('ram', 4)]\n"
          ]
        }
      ]
    },
    {
      "cell_type": "code",
      "source": [
        ""
      ],
      "metadata": {
        "id": "Wpx-w1ysby6l"
      },
      "execution_count": null,
      "outputs": []
    }
  ]
}