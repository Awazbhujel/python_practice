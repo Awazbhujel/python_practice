{
  "nbformat": 4,
  "nbformat_minor": 0,
  "metadata": {
    "colab": {
      "name": "Untitled44.ipynb",
      "provenance": [],
      "collapsed_sections": [],
      "authorship_tag": "ABX9TyNcXIsZDh+IC6qfBWJl4li2"
    },
    "kernelspec": {
      "name": "python3",
      "display_name": "Python 3"
    },
    "language_info": {
      "name": "python"
    }
  },
  "cells": [
    {
      "cell_type": "markdown",
      "source": [
        "Rules:\n",
        "1: Each challenge must be a function \n",
        "2: Must you list/dictionary comprehension \n",
        "\n"
      ],
      "metadata": {
        "id": "DgKPIfizQU6q"
      }
    },
    {
      "cell_type": "markdown",
      "source": [
        "Challenge 1:\n",
        "Given a list of numbers, write a list comprehension that produces a list of each number doubled.\n",
        "numbers=[1, 2, 3, 4, 5]\n",
        "\n"
      ],
      "metadata": {
        "id": "mKtkYi6lHOLm"
      }
    },
    {
      "cell_type": "code",
      "source": [
        "def challange1():\n",
        "  numbers=[1, 2, 3, 4, 5]\n",
        "  double =[i*2 for i in numbers]\n",
        "  print(double)\n",
        "challange1()"
      ],
      "metadata": {
        "colab": {
          "base_uri": "https://localhost:8080/"
        },
        "id": "I_bS8bDeHKy7",
        "outputId": "4993121c-b9c8-4c3b-a524-28f4b8d47801"
      },
      "execution_count": null,
      "outputs": [
        {
          "output_type": "stream",
          "name": "stdout",
          "text": [
            "[2, 4, 6, 8, 10]\n"
          ]
        }
      ]
    },
    {
      "cell_type": "markdown",
      "source": [
        "\n",
        "Challenge 2:\n",
        "Given a list of numbers, write a list comprehension that produces a list of the squares of each number.\n",
        "numbers=[-1, 4, 9, 11]"
      ],
      "metadata": {
        "id": "C6gYHPBBHlpz"
      }
    },
    {
      "cell_type": "code",
      "source": [
        "def challange2():\n",
        "  numbers=[-1, 4, 9, 11]\n",
        "  square = [i**2 for i in numbers]\n",
        "  return square\n",
        "\n",
        "challange2()\n"
      ],
      "metadata": {
        "colab": {
          "base_uri": "https://localhost:8080/"
        },
        "id": "P8z1R6kFHjjJ",
        "outputId": "f347daab-fb1c-4827-afcf-6e9b76745092"
      },
      "execution_count": null,
      "outputs": [
        {
          "output_type": "execute_result",
          "data": {
            "text/plain": [
              "[1, 16, 81, 121]"
            ]
          },
          "metadata": {},
          "execution_count": 4
        }
      ]
    },
    {
      "cell_type": "markdown",
      "source": [
        "Challenge 3:\n",
        "Given a list of numbers, write a list comprehension that produces a list of only the even numbers in that\n",
        "list.\n",
        "numbers=[-4, 0, 3, 6, 7, 9, 14]\n"
      ],
      "metadata": {
        "id": "S4wuvEryIHsI"
      }
    },
    {
      "cell_type": "code",
      "source": [
        "def challange3():\n",
        "   numbers=[-4, 0, 3, 6, 7, 9, 14]\n",
        "   even_numbers = [i for i in numbers if i%2==0]\n",
        "   return even_numbers\n",
        "\n",
        "challange3()\n"
      ],
      "metadata": {
        "colab": {
          "base_uri": "https://localhost:8080/"
        },
        "id": "FiEpIXApHjlX",
        "outputId": "41aa53fc-45aa-46ce-ec2a-22241f56deda"
      },
      "execution_count": null,
      "outputs": [
        {
          "output_type": "execute_result",
          "data": {
            "text/plain": [
              "[-4, 0, 6, 14]"
            ]
          },
          "metadata": {},
          "execution_count": 5
        }
      ]
    },
    {
      "cell_type": "markdown",
      "source": [
        "Challenge 4:\n",
        "Given a list of numbers, write a list comprehension that produces a list of strings of each number that is\n",
        "divisible by 5.\n",
        "numbers=[25, 91, 22, -7, -20]"
      ],
      "metadata": {
        "id": "0HEvWh4YIdld"
      }
    },
    {
      "cell_type": "code",
      "source": [
        "def challange4():\n",
        "  numbers=[25, 91, 22, -7, -20]\n",
        "  divisible_by_5 = [str(i) for i in numbers if i%5==0]\n",
        "  return divisible_by_5\n",
        "\n",
        "challange4()\n"
      ],
      "metadata": {
        "colab": {
          "base_uri": "https://localhost:8080/"
        },
        "id": "l0oTENafHjoR",
        "outputId": "2ce35b85-e8d5-4b37-bbb2-dc65cafab58a"
      },
      "execution_count": null,
      "outputs": [
        {
          "output_type": "execute_result",
          "data": {
            "text/plain": [
              "['25', '-20']"
            ]
          },
          "metadata": {},
          "execution_count": 6
        }
      ]
    },
    {
      "cell_type": "markdown",
      "source": [
        "Challenge 5:\n",
        "Given a sentence, produce a list of the lengths of each word in the sentence, but only if the word is not\n",
        "'the'.\n",
        "sentence='the quick brown fox jumps over the lazy dog'"
      ],
      "metadata": {
        "id": "qv9_joItI3Er"
      }
    },
    {
      "cell_type": "code",
      "source": [
        "def challange5():\n",
        "  sentence='the quick brown fox jumps over the lazy dog'\n",
        "  sentences = sentence.split()\n",
        "  lt_letters = [len(i) for i in sentences if i!=\"the\"]\n",
        "  print(sentences)\n",
        "  print(lt_letters)\n",
        "challange5()"
      ],
      "metadata": {
        "colab": {
          "base_uri": "https://localhost:8080/"
        },
        "id": "4UvbjTtGHjr2",
        "outputId": "448f095d-5110-4fd8-a0e2-248b8a63e1cc"
      },
      "execution_count": 52,
      "outputs": [
        {
          "output_type": "stream",
          "name": "stdout",
          "text": [
            "['the', 'quick', 'brown', 'fox', 'jumps', 'over', 'the', 'lazy', 'dog']\n",
            "[5, 5, 3, 5, 4, 4, 3]\n"
          ]
        }
      ]
    },
    {
      "cell_type": "markdown",
      "source": [
        "Challenge 6:\n",
        "Given a sentence, return the sentence with all vowels removed.\n",
        "sentence='the quick brown fox jumps over the lazy dog'"
      ],
      "metadata": {
        "id": "tM9saTJoK-R3"
      }
    },
    {
      "cell_type": "code",
      "source": [
        "def challange6():\n",
        "  sentence='the quick brown fox jumps over the lazy dog'\n",
        "  vowels =[\"a\",\"e\",\"i\",\"o\",\"u\"]\n",
        "  remove_vowels = [i for i in sentence if i not in vowels]\n",
        "  removed_vowels = \"\".join(remove_vowels)\n",
        "  print(removed_vowels)\n",
        "\n",
        "challange6()"
      ],
      "metadata": {
        "colab": {
          "base_uri": "https://localhost:8080/"
        },
        "id": "z_3uJAOuHj5k",
        "outputId": "575f0106-8ace-4030-f314-22f9bd0661e5"
      },
      "execution_count": 56,
      "outputs": [
        {
          "output_type": "stream",
          "name": "stdout",
          "text": [
            "th qck brwn fx jmps vr th lzy dg\n"
          ]
        }
      ]
    },
    {
      "cell_type": "markdown",
      "source": [
        "Challenge 7:\n",
        "Given a sentence, return the sentence with all it's letters transposed by 1 in the alphabet, but only if the\n",
        "letter is a-y.\n",
        "sentence='the quick brown fox jumps over the lazy dog'"
      ],
      "metadata": {
        "id": "dHhtIHiYZn_r"
      }
    },
    {
      "cell_type": "code",
      "source": [
        "def challange7():\n",
        "  sentence='the quick brown fox jumps over the lazy dog'\n",
        "  plus1 = [chr(ord(i)+1) if i!=\" \" and i<\"y\" else i for i in sentence]\n",
        "  plus1 = \"\".join(plus1)\n",
        "  print(plus1)\n",
        "challange7()"
      ],
      "metadata": {
        "colab": {
          "base_uri": "https://localhost:8080/"
        },
        "id": "oahHmQNBLgVg",
        "outputId": "db0dcfc1-636c-4fb0-bfc5-a9c9a3d5c62e"
      },
      "execution_count": 97,
      "outputs": [
        {
          "output_type": "stream",
          "name": "stdout",
          "text": [
            "uif rvjdl cspxo gpy kvnqt pwfs uif mbzy eph\n"
          ]
        }
      ]
    },
    {
      "cell_type": "markdown",
      "source": [
        "Challenge 8:\n",
        "Given a list of fruits, use dict comprehension to create a dictionary. The list elements should serve as\n",
        "the keys and the length of each string as the values.\n",
        "fruits = ['apple', 'mango', 'banana','cherry']"
      ],
      "metadata": {
        "id": "EcwDra4JaMhq"
      }
    },
    {
      "cell_type": "code",
      "source": [
        "from typing import ItemsView\n",
        "def challange8():\n",
        "  fruits = ['apple', 'mango', 'banana','cherry']\n",
        "  dict1 = {i:len(i) for i in fruits}\n",
        "  print(dict1)\n",
        "challange8()"
      ],
      "metadata": {
        "id": "QKLrf_t3PDXo",
        "colab": {
          "base_uri": "https://localhost:8080/"
        },
        "outputId": "f4c8fcb7-f2b0-4ad0-ed22-b43c5166b3e2"
      },
      "execution_count": 108,
      "outputs": [
        {
          "output_type": "stream",
          "name": "stdout",
          "text": [
            "{'apple': 5, 'mango': 5, 'banana': 6, 'cherry': 6}\n"
          ]
        }
      ]
    }
  ]
}