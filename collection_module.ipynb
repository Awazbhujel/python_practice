{
  "nbformat": 4,
  "nbformat_minor": 0,
  "metadata": {
    "colab": {
      "name": "Untitled36.ipynb",
      "provenance": [],
      "authorship_tag": "ABX9TyN1sBIn+EF40Lx+1nAjXKHS"
    },
    "kernelspec": {
      "name": "python3",
      "display_name": "Python 3"
    },
    "language_info": {
      "name": "python"
    }
  },
  "cells": [
    {
      "cell_type": "code",
      "execution_count": 10,
      "metadata": {
        "colab": {
          "base_uri": "https://localhost:8080/"
        },
        "id": "kfJNYORghpZN",
        "outputId": "abc3e63b-a9d0-4a63-d48f-c74626fc64ae"
      },
      "outputs": [
        {
          "output_type": "stream",
          "name": "stdout",
          "text": [
            "0 2 4 6 8 "
          ]
        }
      ],
      "source": [
        "def myloop():\n",
        "  for i in range(10):\n",
        "    if i%2==0:\n",
        "      print(i,end =\" \")\n",
        "myloop()"
      ]
    },
    {
      "cell_type": "code",
      "source": [
        "list1= [i for i in range(10) if i%2==0]\n",
        "print(list1)"
      ],
      "metadata": {
        "colab": {
          "base_uri": "https://localhost:8080/"
        },
        "id": "uGdaXySKkfOX",
        "outputId": "bf12afbd-ef58-4873-dde7-f3a6f9a4a994"
      },
      "execution_count": 5,
      "outputs": [
        {
          "output_type": "stream",
          "name": "stdout",
          "text": [
            "[0, 2, 4, 6, 8]\n"
          ]
        }
      ]
    },
    {
      "cell_type": "code",
      "source": [
        "list2 = list(map(lambda x:(x%2==0),range(1,11)))\n",
        "print(list2)"
      ],
      "metadata": {
        "colab": {
          "base_uri": "https://localhost:8080/"
        },
        "id": "WNUZNLu-kfSQ",
        "outputId": "8448f357-1cab-412d-fde8-b24bff967dbb"
      },
      "execution_count": 45,
      "outputs": [
        {
          "output_type": "stream",
          "name": "stdout",
          "text": [
            "[False, True, False, True, False, True, False, True, False, True]\n"
          ]
        }
      ]
    },
    {
      "cell_type": "code",
      "source": [
        "list3 = list(filter(lambda x:x>=5,range(1,7)))\n",
        "print(list3)"
      ],
      "metadata": {
        "colab": {
          "base_uri": "https://localhost:8080/"
        },
        "id": "v70YSzm7kfV3",
        "outputId": "486154ed-94ee-4977-ee3d-ea9c5bf4b961"
      },
      "execution_count": 51,
      "outputs": [
        {
          "output_type": "stream",
          "name": "stdout",
          "text": [
            "[5, 6]\n"
          ]
        }
      ]
    },
    {
      "cell_type": "code",
      "source": [
        "def myfun(*args):\n",
        "  for i in args:\n",
        "    print(i)\n",
        "myfun(\"hello\",\"i\",\"am\",\"awaz\",\"age\",19)\n"
      ],
      "metadata": {
        "colab": {
          "base_uri": "https://localhost:8080/"
        },
        "id": "CggrKStWkfY6",
        "outputId": "8d013acc-5549-4f8c-ab61-7546e63f4772"
      },
      "execution_count": 64,
      "outputs": [
        {
          "output_type": "stream",
          "name": "stdout",
          "text": [
            "hello\n",
            "i\n",
            "am\n",
            "awaz\n",
            "age\n",
            "19\n"
          ]
        }
      ]
    },
    {
      "cell_type": "code",
      "source": [
        "def myfun(**kwargs):\n",
        "  for key,value in kwargs.items():\n",
        "    print(\"%s=%s\"%(key,value))\n",
        "myfun(name=\"awaz\",country=\"Nepal\")\n"
      ],
      "metadata": {
        "colab": {
          "base_uri": "https://localhost:8080/"
        },
        "id": "w9VIkAfWkfbU",
        "outputId": "ba72de10-8ca5-466f-8195-279664b5b66b"
      },
      "execution_count": 70,
      "outputs": [
        {
          "output_type": "stream",
          "name": "stdout",
          "text": [
            "name=awaz\n",
            "country=Nepal\n"
          ]
        }
      ]
    },
    {
      "cell_type": "code",
      "source": [
        "class myclass():\n",
        "  def car(self):\n",
        "    return \"my car is driving\"\n",
        "  def bike(self):\n",
        "    return \"my car is drivig\"\n",
        "vehicle = myclass()\n",
        "print(vehicle.car())\n",
        "vehicle.bike()"
      ],
      "metadata": {
        "colab": {
          "base_uri": "https://localhost:8080/",
          "height": 53
        },
        "id": "ubeAw8stsT6N",
        "outputId": "f8af4e19-475e-4c22-fbe9-a296448d3423"
      },
      "execution_count": 89,
      "outputs": [
        {
          "output_type": "stream",
          "name": "stdout",
          "text": [
            "my car is driving\n"
          ]
        },
        {
          "output_type": "execute_result",
          "data": {
            "text/plain": [
              "'my car is drivig'"
            ],
            "application/vnd.google.colaboratory.intrinsic+json": {
              "type": "string"
            }
          },
          "metadata": {},
          "execution_count": 89
        }
      ]
    },
    {
      "cell_type": "code",
      "source": [
        "#collection_module\n",
        "#counter\n",
        "from collections import Counter\n",
        "#with sequence of items\n",
        "print(Counter([\"a\",\"a\",\"b\",\"b\",\"c\",\"c\",\"c\",\"a\",\"c\",\"d\",\"d\"]))\n",
        "\n",
        "#with dictionary\n",
        "print(Counter({\"a\":1,\"b\":2,\"c\":3}))\n",
        "\n",
        "#with keyword arguments\n",
        "print(Counter(a=1,b=2,c=3))\n"
      ],
      "metadata": {
        "colab": {
          "base_uri": "https://localhost:8080/"
        },
        "id": "3fXniC4w8XrK",
        "outputId": "d2572d16-829a-40ab-a289-f59402d53acd"
      },
      "execution_count": 100,
      "outputs": [
        {
          "output_type": "stream",
          "name": "stdout",
          "text": [
            "Counter({'c': 4, 'a': 3, 'b': 2, 'd': 2})\n",
            "Counter({'c': 3, 'b': 2, 'a': 1})\n",
            "Counter({'c': 3, 'b': 2, 'a': 1})\n"
          ]
        }
      ]
    },
    {
      "cell_type": "code",
      "source": [
        "#ordered dict\n",
        "from collections import OrderedDict\n",
        "print(\"this is a dict:\\n\")\n",
        "\n",
        "d= {}\n",
        "d[\"a\"]=1\n",
        "d[\"b\"]=2\n",
        "d[\"c\"]=3\n",
        "d[\"d\"]=4\n",
        "\n",
        "for key,value in d.items():\n",
        "  print(key,value)\n",
        "\n",
        "\n",
        "print(\"this is ordered dict:\\n\")\n",
        "od = OrderedDict()\n",
        "od[\"a\"]=1\n",
        "od[\"b\"]=2\n",
        "od[\"c\"]=3\n",
        "od[\"d\"]=4\n",
        "for key,value in od.items():\n",
        "  print(key,value)\n"
      ],
      "metadata": {
        "colab": {
          "base_uri": "https://localhost:8080/"
        },
        "id": "NmWisuX88Xu2",
        "outputId": "4b1ac7d6-3ee5-4c20-ce4d-f0c1b7330c63"
      },
      "execution_count": 106,
      "outputs": [
        {
          "output_type": "stream",
          "name": "stdout",
          "text": [
            "this is a dict:\n",
            "\n",
            "a 1\n",
            "b 2\n",
            "c 3\n",
            "d 4\n",
            "this is ordered dict:\n",
            "\n",
            "a 1\n",
            "b 2\n",
            "c 3\n",
            "d 4\n"
          ]
        }
      ]
    },
    {
      "cell_type": "code",
      "source": [
        "#ordered list\n",
        "from collections import OrderedDict\n",
        "od = OrderedDict()\n",
        "od[\"a\"]=1\n",
        "od[\"b\"]=2\n",
        "od[\"c\"]=3\n",
        "od[\"d\"]=4\n",
        "\n",
        "print(\"before deleting:\\n\")\n",
        "for key,value in od.items():\n",
        "  print(key,value)\n",
        "\n",
        "#delting\n",
        "od.pop(\"a\")\n",
        "print(\"after deleting:\\n\")\n",
        "for key,value in od.items():\n",
        "  print(key,value)\n"
      ],
      "metadata": {
        "colab": {
          "base_uri": "https://localhost:8080/"
        },
        "id": "VArt7w5ZcNC3",
        "outputId": "309267d2-24a2-4a44-889d-981f64a0397e"
      },
      "execution_count": 107,
      "outputs": [
        {
          "output_type": "stream",
          "name": "stdout",
          "text": [
            "before deleting\n",
            "\n",
            "a 1\n",
            "b 2\n",
            "c 3\n",
            "d 4\n",
            "after deleting\n",
            "\n",
            "b 2\n",
            "c 3\n",
            "d 4\n"
          ]
        }
      ]
    },
    {
      "cell_type": "code",
      "source": [
        "#defaultdict\n",
        "from collections import defaultdict\n",
        "d = defaultdict(int)\n",
        "L = [1, 2, 3, 4, 2, 4, 1, 2] \n",
        "for i in L:\n",
        "  d[i]+=1\n",
        "print(d)"
      ],
      "metadata": {
        "colab": {
          "base_uri": "https://localhost:8080/"
        },
        "id": "Sk97MjtFcNFT",
        "outputId": "69871df9-1b59-4310-ba04-31ba4f64943f"
      },
      "execution_count": 115,
      "outputs": [
        {
          "output_type": "stream",
          "name": "stdout",
          "text": [
            "defaultdict(<class 'int'>, {1: 2, 2: 3, 3: 1, 4: 2})\n"
          ]
        }
      ]
    },
    {
      "cell_type": "code",
      "source": [
        "#defaul_dict\n",
        "from collections import defaultdict\n",
        "d = defaultdict(list)\n",
        "\n",
        "for i in range(5):\n",
        "  d[i].append(i)\n",
        "print(\"dictionary with values as list:\")\n",
        "print(d)"
      ],
      "metadata": {
        "colab": {
          "base_uri": "https://localhost:8080/"
        },
        "id": "c-HDTc3gcNId",
        "outputId": "08b0352c-bc61-4bea-a875-d44ff82ea6a8"
      },
      "execution_count": 116,
      "outputs": [
        {
          "output_type": "stream",
          "name": "stdout",
          "text": [
            "dictionary with values as list:\n",
            "defaultdict(<class 'list'>, {0: [0], 1: [1], 2: [2], 3: [3], 4: [4]})\n"
          ]
        }
      ]
    },
    {
      "cell_type": "code",
      "source": [
        "#chainmap\n",
        "from collections import ChainMap\n",
        "d1 = {\"a\":1,\"b\":2}\n",
        "d2 = {\"c\":3,\"d\":4}\n",
        "d3 = {\"e\":5,\"f\":6}\n",
        "c = ChainMap(d1,d2,d3)\n",
        "print(c)"
      ],
      "metadata": {
        "colab": {
          "base_uri": "https://localhost:8080/"
        },
        "id": "j2ADpdfBkffB",
        "outputId": "e11a4e83-66cd-4ff1-c0ed-30c9cb05c746"
      },
      "execution_count": 117,
      "outputs": [
        {
          "output_type": "stream",
          "name": "stdout",
          "text": [
            "ChainMap({'a': 1, 'b': 2}, {'c': 3, 'd': 4}, {'e': 5, 'f': 6})\n"
          ]
        }
      ]
    },
    {
      "cell_type": "code",
      "source": [
        "from collections import ChainMap      \n",
        "d1 = {'a': 1, 'b': 2}\n",
        "d2 = {'c': 3, 'd': 4}\n",
        "d3 = {'e': 5, 'f': 6}\n",
        "  \n",
        "# Defining the chainmap \n",
        "c = ChainMap(d1, d2, d3) \n",
        "#Accessing using key names\n",
        "print(c['a'],c[\"b\"])\n",
        "#accessing with values()\n",
        "print(c.values())\n",
        "#accessing with keys()\n",
        "print(c.keys())"
      ],
      "metadata": {
        "colab": {
          "base_uri": "https://localhost:8080/"
        },
        "id": "fClDoLAHkfhW",
        "outputId": "bc437137-c096-4825-af9f-f18ed271cb39"
      },
      "execution_count": 123,
      "outputs": [
        {
          "output_type": "stream",
          "name": "stdout",
          "text": [
            "1 2\n",
            "ValuesView(ChainMap({'a': 1, 'b': 2}, {'c': 3, 'd': 4}, {'e': 5, 'f': 6}))\n",
            "KeysView(ChainMap({'a': 1, 'b': 2}, {'c': 3, 'd': 4}, {'e': 5, 'f': 6}))\n"
          ]
        }
      ]
    },
    {
      "cell_type": "code",
      "source": [
        "import collections \n",
        "# initializing dictionaries \n",
        "dic1 = { 'a' : 1, 'b' : 2 } \n",
        "dic2 = { 'b' : 3, 'c' : 4 } \n",
        "dic3 = { 'f' : 5 } \n",
        "    \n",
        "#initialzing chainmap\n",
        "chain = collections.ChainMap(dic1,dic2)\n",
        "print(\"all the chainmap contents:\",chain)\n",
        "\n",
        "#using new_child() to add new dictionary\n",
        "chain1 = chain.new_child(dic3)\n",
        "\n",
        "#displaying chain map\n",
        "print(\"displaying new chain map:\",chain1)\n",
        "\n"
      ],
      "metadata": {
        "colab": {
          "base_uri": "https://localhost:8080/"
        },
        "id": "GM2en_uqkfjs",
        "outputId": "5b9bc556-6fc9-4045-86f0-6d188dfc3a7a"
      },
      "execution_count": 131,
      "outputs": [
        {
          "output_type": "stream",
          "name": "stdout",
          "text": [
            "all the chainmap contents: ChainMap({'a': 1, 'b': 2}, {'b': 3, 'c': 4})\n",
            "displaying new chain map: ChainMap({'f': 5}, {'a': 1, 'b': 2}, {'b': 3, 'c': 4})\n"
          ]
        }
      ]
    },
    {
      "cell_type": "code",
      "source": [
        "#named tuple\n",
        "from collections import namedtuple\n",
        "    \n",
        "# Declaring namedtuple() \n",
        "Student = namedtuple('Student',['name','age','DOB']) \n",
        "    \n",
        "# Adding values \n",
        "S = Student('Nandini','19','2541997') \n",
        "    \n",
        "# Access using index \n",
        "print (\"The Student age using index is : \",end =\"\") \n",
        "print (S[1]) \n",
        "    \n",
        "# Access using name  \n",
        "print (\"The Student name using keyname is : \",end =\"\") \n",
        "print (S.name)"
      ],
      "metadata": {
        "colab": {
          "base_uri": "https://localhost:8080/"
        },
        "id": "b39C2v0Skfl9",
        "outputId": "af633c6f-0147-4c63-a134-61428697ce5f"
      },
      "execution_count": 132,
      "outputs": [
        {
          "output_type": "stream",
          "name": "stdout",
          "text": [
            "The Student age using index is : 19\n",
            "The Student name using keyname is : Nandini\n"
          ]
        }
      ]
    },
    {
      "cell_type": "code",
      "source": [
        "#Deque\n",
        "from collections import deque\n",
        "    \n",
        "# Declaring deque\n",
        "queue = deque(['name','age','DOB']) \n",
        "    \n",
        "print(queue)"
      ],
      "metadata": {
        "colab": {
          "base_uri": "https://localhost:8080/"
        },
        "id": "4_HBIydJkfoD",
        "outputId": "e512c80d-bc13-465a-c247-b967547c6132"
      },
      "execution_count": 134,
      "outputs": [
        {
          "output_type": "stream",
          "name": "stdout",
          "text": [
            "deque(['name', 'age', 'DOB'])\n"
          ]
        }
      ]
    },
    {
      "cell_type": "code",
      "source": [
        "from collections import deque\n",
        "  \n",
        "# initializing deque \n",
        "de = deque([6, 1, 2, 3, 4])\n",
        "  \n",
        "# using pop() to delete element from right end  \n",
        "\n",
        "de.pop() \n",
        "    \n",
        "# printing modified deque \n",
        "print (\"The deque after deleting from right is : \") \n",
        "print (de) \n",
        "    \n",
        "# using popleft() to delete element from left end  \n",
        "de.popleft() \n",
        "    \n",
        "# printing modified deque \n",
        "print (\"The deque after deleting from left is : \") \n",
        "print (de)"
      ],
      "metadata": {
        "colab": {
          "base_uri": "https://localhost:8080/"
        },
        "id": "w2HuOuqOkfqb",
        "outputId": "c06006af-4ac3-48f0-bc2f-4dc4ee40676f"
      },
      "execution_count": 135,
      "outputs": [
        {
          "output_type": "stream",
          "name": "stdout",
          "text": [
            "The deque after deleting from right is : \n",
            "deque([6, 1, 2, 3])\n",
            "The deque after deleting from left is : \n",
            "deque([1, 2, 3])\n"
          ]
        }
      ]
    },
    {
      "cell_type": "code",
      "source": [
        "#userdict\n",
        "from collections import UserList \n",
        "     \n",
        "    \n",
        "# Creating a List where \n",
        "# deletion is not allowed \n",
        "class MyList(UserList): \n",
        "        \n",
        "    # Function to stop deletion \n",
        "    # from List \n",
        "    def remove(self, s = None): \n",
        "      pass\n",
        "            \n",
        "    # Function to stop pop from  \n",
        "    # List \n",
        "    def pop(self, s = None): \n",
        "          raise RuntimeError(\"Deletion not allowed\") \n",
        "        \n",
        "# Driver's code \n",
        "L = MyList([1, 2, 3, 4]) \n",
        "    \n",
        "print(\"Original List\") \n",
        "    \n",
        "# Inserting to List\" \n",
        "L.append(5) \n",
        "print(\"After Insertion\") \n",
        "print(L) \n",
        "    \n",
        "# Deleting From List \n",
        "L.remove()"
      ],
      "metadata": {
        "colab": {
          "base_uri": "https://localhost:8080/"
        },
        "id": "iAkhgqtukhDF",
        "outputId": "6117fb94-be91-4e62-83f2-5330eb35e600"
      },
      "execution_count": 141,
      "outputs": [
        {
          "output_type": "stream",
          "name": "stdout",
          "text": [
            "Original List\n",
            "After Insertion\n",
            "[1, 2, 3, 4, 5]\n"
          ]
        }
      ]
    },
    {
      "cell_type": "code",
      "source": [
        "#user_string\n",
        "from collections import UserString \n",
        "     \n",
        "    \n",
        "# Creating a Mutable String \n",
        "class Mystring(UserString): \n",
        "        \n",
        "    # Function to append to \n",
        "    # string \n",
        "    def append(self, s): \n",
        "        self.data += s \n",
        "            \n",
        "    # Function to remove from  \n",
        "    # string \n",
        "    def remove(self, s): \n",
        "        self.data = self.data.replace(s, \"\") \n",
        "        \n",
        "# Driver's code \n",
        "s1 = Mystring(\"Awa\") \n",
        "print(\"Original String:\", s1.data) \n",
        "    \n",
        "# Appending to string \n",
        "s1.append(\"z\") \n",
        "print(\"String After Appending:\", s1.data) \n",
        "    \n",
        "# Removing from string \n",
        "s1.remove(\"z\") \n",
        "print(\"String after Removing:\", s1.data)"
      ],
      "metadata": {
        "colab": {
          "base_uri": "https://localhost:8080/"
        },
        "id": "dLQX-zLBkhGm",
        "outputId": "54803d45-b37c-4111-b88f-7f8f6c32a1d1"
      },
      "execution_count": 147,
      "outputs": [
        {
          "output_type": "stream",
          "name": "stdout",
          "text": [
            "Original String: Awa\n",
            "String After Appending: Awaz\n",
            "String after Removing: Awa\n"
          ]
        }
      ]
    }
  ]
}