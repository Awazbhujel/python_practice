{
  "nbformat": 4,
  "nbformat_minor": 0,
  "metadata": {
    "colab": {
      "name": "Untitled42.ipynb",
      "provenance": [],
      "collapsed_sections": [],
      "authorship_tag": "ABX9TyNmrBk8kZejRn56KvnpCshN"
    },
    "kernelspec": {
      "name": "python3",
      "display_name": "Python 3"
    },
    "language_info": {
      "name": "python"
    }
  },
  "cells": [
    {
      "cell_type": "code",
      "execution_count": null,
      "metadata": {
        "id": "HjNObM1tIBpL"
      },
      "outputs": [],
      "source": [
        "#object oriented programming"
      ]
    },
    {
      "cell_type": "code",
      "source": [
        "class Dog:\n",
        "  species = \"Canis familiaris\"\n",
        "  def __init__(self,name,age):\n",
        "    self.name = name\n",
        "    self.age = age\n",
        "\n",
        "buddy = Dog(\"Buddy\", 9)\n",
        "miles = Dog(\"Miles\", 4)\n",
        "buddy.name\n",
        "buddy.age\n",
        "miles.name\n",
        "miles.age\n",
        "buddy.species\n",
        "miles.species\n",
        "buddy.age=10\n",
        "buddy.age"
      ],
      "metadata": {
        "colab": {
          "base_uri": "https://localhost:8080/"
        },
        "id": "n3EHLcRLiyjI",
        "outputId": "82acd9ed-e60c-40ec-c77a-ef0bede38f15"
      },
      "execution_count": null,
      "outputs": [
        {
          "output_type": "execute_result",
          "data": {
            "text/plain": [
              "10"
            ]
          },
          "metadata": {},
          "execution_count": 10
        }
      ]
    },
    {
      "cell_type": "code",
      "source": [
        "#Instance methods\n",
        "class Dog:\n",
        "    species = \"Canis familiaris\"\n",
        "\n",
        "    def __init__(self, name, age):\n",
        "        self.name = name\n",
        "        self.age = age\n",
        "    \n",
        "    def __str__(self):\n",
        "      return f\"{self.name} is {self.age} years old\"\n",
        "    \n",
        "    def speak(self,sound):\n",
        "      return f\"{self.name} says {sound}\"\n",
        "\n",
        "miles = Dog(\"Miles\", 4)\n",
        "print(miles)"
      ],
      "metadata": {
        "colab": {
          "base_uri": "https://localhost:8080/"
        },
        "id": "dqKjh2YnklIJ",
        "outputId": "4b39a0d8-dc4b-4db5-f202-a1f97cad452f"
      },
      "execution_count": null,
      "outputs": [
        {
          "output_type": "stream",
          "name": "stdout",
          "text": [
            "Miles is 4 years old\n"
          ]
        }
      ]
    },
    {
      "cell_type": "code",
      "source": [
        "#inheritance\n",
        "class polygon:\n",
        "  def __init__(self,no_of_sides):\n",
        "    self.n = no_of_sides\n",
        "    self.sides = [0 for i in range(no_of_sides)]\n",
        "  \n",
        "  def inputsides(self):\n",
        "    self.sides= [float(input(\"Enter side \"+str(i+1)+\" : \")) for i in range(self.n)]\n",
        "\n",
        "  def dispsides(self):\n",
        "    for i in range(self.n):\n",
        "      print(\"Side\",i+1,\"is\",self.sides[i])\n",
        "\n",
        "class triangle(polygon):\n",
        "  def __init__(self):\n",
        "      polygon.__init__(self,3)\n",
        "  \n",
        "  def findarea(self):\n",
        "    a,b,c=self.sides\n",
        "    # calculate the semi-perimeter\n",
        "    s = (a+b+c)/2\n",
        "    area = (s*(s-a)*(s-b)*(s-c)) ** 0.5\n",
        "    print('The area of the triangle is %0.2f' %area)\n",
        "\n",
        "t = triangle()\n",
        "t.inputsides()\n",
        "t.dispsides()\n",
        "t.findarea()"
      ],
      "metadata": {
        "id": "W06N2-Yyiyme",
        "colab": {
          "base_uri": "https://localhost:8080/"
        },
        "outputId": "c732ed5d-ec0f-421e-d05d-b764e925203d"
      },
      "execution_count": null,
      "outputs": [
        {
          "output_type": "stream",
          "name": "stdout",
          "text": [
            "Enter side 1 : 3\n",
            "Enter side 2 : 5\n",
            "Enter side 3 : 4\n",
            "Side 1 is 3.0\n",
            "Side 2 is 5.0\n",
            "Side 3 is 4.0\n",
            "The area of the triangle is 6.00\n"
          ]
        }
      ]
    },
    {
      "cell_type": "code",
      "source": [
        "isinstance(t,triangle)\n",
        "isinstance(t,polygon)"
      ],
      "metadata": {
        "colab": {
          "base_uri": "https://localhost:8080/"
        },
        "id": "gopzYE2bM5tB",
        "outputId": "29a5b034-d5ae-4a76-b5ee-5def7949442d"
      },
      "execution_count": null,
      "outputs": [
        {
          "output_type": "execute_result",
          "data": {
            "text/plain": [
              "True"
            ]
          },
          "metadata": {},
          "execution_count": 8
        }
      ]
    },
    {
      "cell_type": "code",
      "source": [
        "class person:\n",
        "  def __init__(self,name):\n",
        "    self.name = name\n",
        "  def get_name(self):\n",
        "      return self.name\n",
        "  def isemployee(self):\n",
        "    return False\n",
        "\n",
        "class employee(person):\n",
        "    def isemploye(self):\n",
        "      return True\n",
        "emp = person(\"awaz\") # An Object of Person\n",
        "emp.get_name()\n",
        "emp.isemployee()\n",
        "\n",
        "emp = employee(\"asmin\") # An Object of Employee\n",
        "emp.get_name()\n",
        "emp.isemployee()\n",
        "emp.isemploye()"
      ],
      "metadata": {
        "id": "0Y4UAABuNE6-",
        "colab": {
          "base_uri": "https://localhost:8080/"
        },
        "outputId": "91352ab5-b83c-4f23-e72d-f1b9d646b06c"
      },
      "execution_count": null,
      "outputs": [
        {
          "output_type": "execute_result",
          "data": {
            "text/plain": [
              "True"
            ]
          },
          "metadata": {},
          "execution_count": 14
        }
      ]
    },
    {
      "cell_type": "code",
      "source": [
        "# Python code to demonstrate how parent constructors\n",
        "#parent class\n",
        "class person:\n",
        "  # __init__ is known as the constructor \n",
        "  def __init__(self,name,idnumber):\n",
        "    self.name=name\n",
        "    self.idnumber= idnumber\n",
        "  def display(self):\n",
        "    return f\"name is {self.name} and idnumber is {self.idnumber}\"\n",
        "#child class\n",
        "class employee(person):\n",
        "  def __init__(self,name,idnumber,salary,post):\n",
        "    person.__init__(self,name,idnumber)\n",
        "\n",
        "a = employee(\"awaz\",1,60000,\"tech\")\n",
        "b = employee(\"asmin\",2,80000,\"doctor\")\n",
        "b.display()"
      ],
      "metadata": {
        "colab": {
          "base_uri": "https://localhost:8080/",
          "height": 35
        },
        "id": "hRG2RtIph9RP",
        "outputId": "d038abcd-4bc7-4364-bf63-5ed7b873e368"
      },
      "execution_count": null,
      "outputs": [
        {
          "output_type": "execute_result",
          "data": {
            "text/plain": [
              "'name is asmin and idnumber is 2'"
            ],
            "application/vnd.google.colaboratory.intrinsic+json": {
              "type": "string"
            }
          },
          "metadata": {},
          "execution_count": 26
        }
      ]
    },
    {
      "cell_type": "code",
      "source": [
        "class A:\n",
        "   def __init__(self, n):\n",
        "        self.n = n\n",
        "   def get_name(self):\n",
        "     return self.n\n",
        "class B(A):\n",
        "  def __init__(self, roll):\n",
        "              self.roll = roll\n",
        "  def roll_no(self):\n",
        "    print(f\"the roll no is {self.roll}\")\n",
        "\n",
        "B = B(12)\n",
        "B.roll_no()"
      ],
      "metadata": {
        "colab": {
          "base_uri": "https://localhost:8080/"
        },
        "id": "dV0-J0DUjb9L",
        "outputId": "7b583596-f36b-4999-be0a-530ae57d58bd"
      },
      "execution_count": null,
      "outputs": [
        {
          "output_type": "stream",
          "name": "stdout",
          "text": [
            "the roll no is 12\n"
          ]
        }
      ]
    },
    {
      "cell_type": "code",
      "source": [
        "#Python to show multiple\n",
        "# inheritance\n",
        "class base1():\n",
        "  def __init__(self):\n",
        "    self.name1= \"awaz\"\n",
        "    print(\"base1\")\n",
        "\n",
        "class base2():\n",
        "  def __init__(self):\n",
        "    self.name2 = \"asmin\"\n",
        "    print(\"base2\")\n",
        "\n",
        "class derived(base1,base2):\n",
        "  def __init__(self):\n",
        "    base1.__init__(self)\n",
        "    base2.__init__(self)\n",
        "    print(\"derived\")\n",
        "  \n",
        "  def print_name(self):\n",
        "    print(self.name1,self.name2)\n",
        "\n",
        "name = derived()\n",
        "name.print_name()"
      ],
      "metadata": {
        "id": "nYRpmIygRc60",
        "colab": {
          "base_uri": "https://localhost:8080/"
        },
        "outputId": "308048ac-25e6-4587-8fde-ee85b9dc4454"
      },
      "execution_count": 2,
      "outputs": [
        {
          "output_type": "stream",
          "name": "stdout",
          "text": [
            "base1\n",
            "base2\n",
            "derived\n",
            "awaz asmin\n"
          ]
        }
      ]
    },
    {
      "cell_type": "code",
      "source": [
        "class first_name:\n",
        "    def __init__(self):\n",
        "      self.first =\"awaz\"\n",
        "\n",
        "class last_name:\n",
        "  def __init__(self):\n",
        "    self.last =\"bhujel\"\n",
        "  \n",
        "class fullname(first_name,last_name):\n",
        "  def __init__(self):\n",
        "    first_name.__init__(self)\n",
        "    last_name.__init__(self)\n",
        "  \n",
        "  def getfullname(self):\n",
        "      print(f\"first name is:{self.first} and second name is:{self.last}\")\n",
        "\n",
        "fullname =fullname()\n",
        "fullname.getfullname()\n"
      ],
      "metadata": {
        "id": "A6_C4hLxRdBT",
        "colab": {
          "base_uri": "https://localhost:8080/"
        },
        "outputId": "e736529e-5bf0-49b4-ecaa-13e067c44d64"
      },
      "execution_count": 9,
      "outputs": [
        {
          "output_type": "stream",
          "name": "stdout",
          "text": [
            "first_name\n",
            "last_name\n",
            "first name is:awaz and second name is:bhujel\n"
          ]
        }
      ]
    },
    {
      "cell_type": "code",
      "source": [
        "#Multilevel inheritance\n",
        "class base:\n",
        "  #constructor \n",
        "  def __init__(self,name):\n",
        "    self.name=name\n",
        "   #to get name \n",
        "  def getname(self):\n",
        "    return self.name\n",
        "\n",
        "#child class or inheritance\n",
        "class child(base):\n",
        "  #constructior\n",
        "  def __init__(self,name,last_name,age):\n",
        "    base.__init__(self,name)\n",
        "    self.last_name = last_name\n",
        "    self.age = age\n",
        "  #getlast name\n",
        "  def get_lastname(self):\n",
        "    return self.last_name\n",
        "   #get age\n",
        "  def get_age(self):\n",
        "    return self.age\n",
        "\n",
        "# Inherited or Sub class\n",
        "class grandchild(child):\n",
        "  #construction\n",
        "  def __init__(self,name,last_name,age,address):\n",
        "    child.__init__(self,name,last_name,age)\n",
        "    self.address = address\n",
        "  \n",
        "  def get_address(self):\n",
        "    return self.address\n",
        "\n",
        "g= grandchild(\"awaz\",\"bhujel\",19,\"nepal\")\n",
        "#print your output\n",
        "print(g.getname(),g.get_lastname(),g.get_age(),g.get_address())"
      ],
      "metadata": {
        "id": "X7nStQZ9RdE7",
        "colab": {
          "base_uri": "https://localhost:8080/"
        },
        "outputId": "c6bef82f-1478-4f1f-eab6-5995e307ea63"
      },
      "execution_count": 11,
      "outputs": [
        {
          "output_type": "stream",
          "name": "stdout",
          "text": [
            "awaz bhujel 19 nepal\n"
          ]
        }
      ]
    },
    {
      "cell_type": "code",
      "source": [
        "#demonstrate private members\n",
        "class c:\n",
        "  def __init__(self):\n",
        "    self.c = 32\n",
        "    self.__d=42\n",
        "class d(c):\n",
        "  def __init__(self):\n",
        "    self.e = 84\n",
        "    c.__init__(self)\n",
        "obj=d()\n",
        "obj.d"
      ],
      "metadata": {
        "id": "RRbuh9HzRdLQ"
      },
      "execution_count": null,
      "outputs": []
    },
    {
      "cell_type": "code",
      "source": [
        "#Creating a Parent Class\n",
        "class person:\n",
        "  def __init__(self,fname,lname):\n",
        "    self.fname = fname\n",
        "    self.lname = lname\n",
        "  def prtname(self):\n",
        "    print(self.fname,self.lname)\n",
        "#creating child class\n",
        "#Using the super() Function\n",
        "class totalstud(person):\n",
        "  def __init__(self,fname,lname,age):\n",
        "    super().__init__(fname,lname)\n",
        "    self.age = age\n",
        "\n",
        "  def getage(self):\n",
        "    return self.age\n",
        "  def welcome(self):\n",
        "    print(f\"welcome,{self.fname},{self.lname} and age {self.age} to your new class\")\n",
        "x =totalstud(\"awaz\",\"bhujel\",20)\n",
        "x.prtname()\n",
        "x.getage()\n",
        "x.welcome()"
      ],
      "metadata": {
        "id": "51fihhTfRAls",
        "colab": {
          "base_uri": "https://localhost:8080/"
        },
        "outputId": "8a7515ef-f2d8-4570-bff3-c4e55c2a2a27"
      },
      "execution_count": 46,
      "outputs": [
        {
          "output_type": "stream",
          "name": "stdout",
          "text": [
            "awaz bhujel\n",
            "welcome,awaz,bhujel and age 20 to your new class\n"
          ]
        }
      ]
    },
    {
      "cell_type": "code",
      "source": [
        ""
      ],
      "metadata": {
        "id": "1y1kLrnotQra"
      },
      "execution_count": null,
      "outputs": []
    },
    {
      "cell_type": "code",
      "source": [
        ""
      ],
      "metadata": {
        "id": "-mTPsVt1f_62"
      },
      "execution_count": null,
      "outputs": []
    },
    {
      "cell_type": "code",
      "source": [
        ""
      ],
      "metadata": {
        "id": "3CBvgJxrf_-a"
      },
      "execution_count": null,
      "outputs": []
    }
  ]
}