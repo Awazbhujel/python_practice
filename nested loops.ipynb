{
  "nbformat": 4,
  "nbformat_minor": 0,
  "metadata": {
    "colab": {
      "name": "Untitled39.ipynb",
      "provenance": [],
      "authorship_tag": "ABX9TyMX0WOa/VmDd20tFpcS03sM"
    },
    "kernelspec": {
      "name": "python3",
      "display_name": "Python 3"
    },
    "language_info": {
      "name": "python"
    }
  },
  "cells": [
    {
      "cell_type": "code",
      "execution_count": 63,
      "metadata": {
        "colab": {
          "base_uri": "https://localhost:8080/"
        },
        "id": "mtzFPqYlPP6r",
        "outputId": "6fa9717c-8a48-45db-a5a6-ff84c830d4a8"
      },
      "outputs": [
        {
          "output_type": "stream",
          "name": "stdout",
          "text": [
            "* \n",
            "* * \n",
            "* * * \n",
            "* * * * \n",
            "* * * * * \n"
          ]
        }
      ],
      "source": [
        "#using nested loops\n",
        "for i in range(1,6):\n",
        "  for j in range(i):\n",
        "    print(\"*\",end=\" \")\n",
        "  print()"
      ]
    },
    {
      "cell_type": "code",
      "source": [
        "#backward\n",
        "for i in reversed(range(6)):\n",
        "  for j in range(i):\n",
        "    print(\"*\",end=\" \")\n",
        "  print()"
      ],
      "metadata": {
        "colab": {
          "base_uri": "https://localhost:8080/"
        },
        "id": "5CfNCIn5PUvd",
        "outputId": "5e379020-de72-4a1c-90bd-bc94cf04a432"
      },
      "execution_count": 84,
      "outputs": [
        {
          "output_type": "stream",
          "name": "stdout",
          "text": [
            "* * * * * \n",
            "* * * * \n",
            "* * * \n",
            "* * \n",
            "* \n",
            "\n"
          ]
        }
      ]
    },
    {
      "cell_type": "code",
      "source": [
        "#While loop inside a for loop\n",
        "#we wanted to repeat each name from a list five times\n",
        "names = [\"ram\",\"sam\",\"hari\"]\n",
        "for i in names:\n",
        "  count = 0\n",
        "  while count<=4:\n",
        "      print(i,end=\" \")\n",
        "      count+=1\n",
        "  print()\n"
      ],
      "metadata": {
        "colab": {
          "base_uri": "https://localhost:8080/"
        },
        "id": "z4giyfxhricg",
        "outputId": "ce07720f-2328-4726-9229-d5a47e440a51"
      },
      "execution_count": 95,
      "outputs": [
        {
          "output_type": "stream",
          "name": "stdout",
          "text": [
            "ram ram ram ram ram \n",
            "sam sam sam sam sam \n",
            "hari hari hari hari hari \n"
          ]
        }
      ]
    },
    {
      "cell_type": "code",
      "source": [
        "#rectangle Pattern with 5 rows and 3 columns of stars\n",
        "for i in range(5):\n",
        "  for j in range(3):\n",
        "    print(\"*\",end=\" \")\n",
        "  print()"
      ],
      "metadata": {
        "colab": {
          "base_uri": "https://localhost:8080/"
        },
        "id": "y2M9IQ-My8re",
        "outputId": "d9e59207-8832-4087-9bdb-01d4509b59ca"
      },
      "execution_count": 104,
      "outputs": [
        {
          "output_type": "stream",
          "name": "stdout",
          "text": [
            "* * * \n",
            "* * * \n",
            "* * * \n",
            "* * * \n",
            "* * * \n"
          ]
        }
      ]
    },
    {
      "cell_type": "code",
      "source": [
        "#break nested loop\n",
        "for i in range(4):\n",
        "  for j in range(4):\n",
        "    if i==j:\n",
        "      break\n",
        "    print(i,j)"
      ],
      "metadata": {
        "colab": {
          "base_uri": "https://localhost:8080/"
        },
        "id": "NFB3BI8v0oIM",
        "outputId": "cb107521-bb6e-482c-a3e4-5cb4361d7a33"
      },
      "execution_count": 149,
      "outputs": [
        {
          "output_type": "stream",
          "name": "stdout",
          "text": [
            "1 0\n",
            "2 0\n",
            "2 1\n",
            "3 0\n",
            "3 1\n",
            "3 2\n"
          ]
        }
      ]
    },
    {
      "cell_type": "code",
      "source": [
        "#continue nested loop\n",
        "first = [2,4,6]\n",
        "second =[2,4,6]\n",
        "for i in first:\n",
        "  for j in second:\n",
        "    if i==j:\n",
        "      continue\n",
        "  print(i,\"*\",j,\"=\",i*j)"
      ],
      "metadata": {
        "colab": {
          "base_uri": "https://localhost:8080/"
        },
        "id": "lp8Sr3Zq_J0e",
        "outputId": "ec15afc1-3683-4a2f-df03-962e91c7c6be"
      },
      "execution_count": 157,
      "outputs": [
        {
          "output_type": "stream",
          "name": "stdout",
          "text": [
            "2 * 6 = 12\n",
            "4 * 6 = 24\n",
            "6 * 6 = 36\n"
          ]
        }
      ]
    },
    {
      "cell_type": "code",
      "source": [
        "#single line nested loop using list comprehension\n",
        "#nested loop\n",
        "first = [2, 3, 4]\n",
        "second = [20, 30, 40]\n",
        "final = []\n",
        "for i in first:\n",
        "  for j in second:\n",
        "    final.append(i+j)\n",
        "print(final)"
      ],
      "metadata": {
        "colab": {
          "base_uri": "https://localhost:8080/"
        },
        "id": "zlsG3HCqAI4u",
        "outputId": "c48070d8-65b8-4e83-f78a-66394e8f5e20"
      },
      "execution_count": 158,
      "outputs": [
        {
          "output_type": "stream",
          "name": "stdout",
          "text": [
            "[22, 32, 42, 23, 33, 43, 24, 34, 44]\n"
          ]
        }
      ]
    },
    {
      "cell_type": "code",
      "source": [
        "#using list comprehension\n",
        "first = [2, 3, 4]\n",
        "second = [20, 30, 40]\n",
        "final =[i+j for i in first for j in second]\n",
        "print(final)\n"
      ],
      "metadata": {
        "colab": {
          "base_uri": "https://localhost:8080/"
        },
        "id": "Mi4F3bRjA67m",
        "outputId": "d9e6e83d-8210-4f61-a629-7a8c67783af7"
      },
      "execution_count": 161,
      "outputs": [
        {
          "output_type": "stream",
          "name": "stdout",
          "text": [
            "[22, 32, 42, 23, 33, 43, 24, 34, 44]\n"
          ]
        }
      ]
    },
    {
      "cell_type": "code",
      "source": [
        "#nested loop in list comprehension\n",
        "total_list =[i*j for i in range(1,4) for j in range(1,4)]\n",
        "print(total_list,end =\"\")"
      ],
      "metadata": {
        "colab": {
          "base_uri": "https://localhost:8080/"
        },
        "id": "qq8pBSXpBEmv",
        "outputId": "7002003c-8e4b-449d-93e6-e9ad582b9a51"
      },
      "execution_count": 173,
      "outputs": [
        {
          "output_type": "stream",
          "name": "stdout",
          "text": [
            "[1, 2, 3, 2, 4, 6, 3, 6, 9]"
          ]
        }
      ]
    },
    {
      "cell_type": "code",
      "source": [
        "for i in range(6,1,-1):\n",
        "  for j in range(i):\n",
        "    print(j,end=\" \")\n",
        "  print()"
      ],
      "metadata": {
        "colab": {
          "base_uri": "https://localhost:8080/"
        },
        "id": "dmEc_ZH71h9h",
        "outputId": "2d49f8c5-aa3c-4ed7-9a70-956170d77094"
      },
      "execution_count": 154,
      "outputs": [
        {
          "output_type": "stream",
          "name": "stdout",
          "text": [
            "0 1 2 3 4 5 \n",
            "0 1 2 3 4 \n",
            "0 1 2 3 \n",
            "0 1 2 \n",
            "0 1 \n"
          ]
        }
      ]
    },
    {
      "cell_type": "code",
      "source": [
        "i = 1\n",
        "for i in range(6):\n",
        "  for j in range(i):\n",
        "    print(j,end=\" \")\n",
        "  print()\n",
        "for i in range(6,1,-1):\n",
        "  for j in range(i):\n",
        "    print(j,end=\" \")\n",
        "  print()"
      ],
      "metadata": {
        "colab": {
          "base_uri": "https://localhost:8080/"
        },
        "id": "Q0LasdUM7NhQ",
        "outputId": "73cf6244-f063-4693-c31b-a2a8d8d550b4"
      },
      "execution_count": 151,
      "outputs": [
        {
          "output_type": "stream",
          "name": "stdout",
          "text": [
            "\n",
            "0 \n",
            "0 1 \n",
            "0 1 2 \n",
            "0 1 2 3 \n",
            "0 1 2 3 4 \n",
            "0 1 2 3 4 5 \n",
            "0 1 2 3 4 \n",
            "0 1 2 3 \n",
            "0 1 2 \n",
            "0 1 \n"
          ]
        }
      ]
    },
    {
      "cell_type": "code",
      "source": [
        "#nested loop for multiplication\n",
        "for i in range(1,11):\n",
        "  for j in range(1,11):\n",
        "    print(i*j,end=\"\")\n",
        "  print()"
      ],
      "metadata": {
        "colab": {
          "base_uri": "https://localhost:8080/"
        },
        "id": "yoCjdavLPU0t",
        "outputId": "c1805eba-a1e0-4eb8-eadd-3e1ced902cc8"
      },
      "execution_count": 49,
      "outputs": [
        {
          "output_type": "stream",
          "name": "stdout",
          "text": [
            "12345678910\n",
            "2468101214161820\n",
            "36912151821242730\n",
            "481216202428323640\n",
            "5101520253035404550\n",
            "6121824303642485460\n",
            "7142128354249566370\n",
            "8162432404856647280\n",
            "9182736455463728190\n",
            "102030405060708090100\n"
          ]
        }
      ]
    },
    {
      "cell_type": "code",
      "source": [
        "#nested while\n",
        "i = 1\n",
        "while i<=5:\n",
        "  j = 1\n",
        "  while j<=10:\n",
        "    print(j,end=\"\")\n",
        "    j = j+1\n",
        "  i = i+1\n",
        "  print()"
      ],
      "metadata": {
        "colab": {
          "base_uri": "https://localhost:8080/"
        },
        "id": "bAzEwmkHiwOz",
        "outputId": "19020f93-616a-46be-b1c5-be2167fedc7b"
      },
      "execution_count": 177,
      "outputs": [
        {
          "output_type": "stream",
          "name": "stdout",
          "text": [
            "12345678910\n",
            "12345678910\n",
            "12345678910\n",
            "12345678910\n",
            "12345678910\n"
          ]
        }
      ]
    },
    {
      "cell_type": "code",
      "source": [
        "#for loop inside while loop\n",
        "print('Show Perfect number fom 1 to 100')\n",
        "n = 2\n",
        "# outer while loop\n",
        "while n <= 100:\n",
        "    x_sum = 0\n",
        "    # inner for loop\n",
        "    for i in range(1, n):\n",
        "        if n % i == 0:\n",
        "            x_sum += i\n",
        "    if x_sum == n:\n",
        "        print('Perfect number:', n)\n",
        "    n += 1\n"
      ],
      "metadata": {
        "colab": {
          "base_uri": "https://localhost:8080/"
        },
        "id": "QLF223gbPU6p",
        "outputId": "b3eb5e29-d61b-4ad6-b9e0-18deeeb716c1"
      },
      "execution_count": 180,
      "outputs": [
        {
          "output_type": "stream",
          "name": "stdout",
          "text": [
            "Show Perfect number fom 1 to 100\n",
            "Perfect number: 6\n",
            "Perfect number: 28\n"
          ]
        }
      ]
    },
    {
      "cell_type": "code",
      "source": [
        ""
      ],
      "metadata": {
        "id": "8ifRUm0tPVAW"
      },
      "execution_count": null,
      "outputs": []
    },
    {
      "cell_type": "code",
      "source": [
        ""
      ],
      "metadata": {
        "id": "r9_cFB7cPVGk"
      },
      "execution_count": null,
      "outputs": []
    },
    {
      "cell_type": "code",
      "source": [
        ""
      ],
      "metadata": {
        "id": "8Mv85ZROPVMm"
      },
      "execution_count": null,
      "outputs": []
    },
    {
      "cell_type": "code",
      "source": [
        ""
      ],
      "metadata": {
        "id": "I9IBHDCfPVSI"
      },
      "execution_count": null,
      "outputs": []
    },
    {
      "cell_type": "code",
      "source": [
        ""
      ],
      "metadata": {
        "id": "zXgDT0VyPVXj"
      },
      "execution_count": null,
      "outputs": []
    },
    {
      "cell_type": "code",
      "source": [
        ""
      ],
      "metadata": {
        "id": "dQOTpxq-PVip"
      },
      "execution_count": null,
      "outputs": []
    },
    {
      "cell_type": "code",
      "source": [
        ""
      ],
      "metadata": {
        "id": "a4AloxCYPVqj"
      },
      "execution_count": null,
      "outputs": []
    },
    {
      "cell_type": "code",
      "source": [
        ""
      ],
      "metadata": {
        "id": "6RehBR6KPVwk"
      },
      "execution_count": null,
      "outputs": []
    },
    {
      "cell_type": "code",
      "source": [
        ""
      ],
      "metadata": {
        "id": "FLoVj6xxPWem"
      },
      "execution_count": null,
      "outputs": []
    },
    {
      "cell_type": "code",
      "source": [
        ""
      ],
      "metadata": {
        "id": "RjFo8ikOPWne"
      },
      "execution_count": null,
      "outputs": []
    }
  ]
}