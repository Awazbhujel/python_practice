{
  "nbformat": 4,
  "nbformat_minor": 0,
  "metadata": {
    "colab": {
      "name": "Untitled47.ipynb",
      "provenance": [],
      "authorship_tag": "ABX9TyPVrKJT/HOzpzCpsn/ixPHE"
    },
    "kernelspec": {
      "name": "python3",
      "display_name": "Python 3"
    },
    "language_info": {
      "name": "python"
    }
  },
  "cells": [
    {
      "cell_type": "code",
      "execution_count": null,
      "metadata": {
        "colab": {
          "base_uri": "https://localhost:8080/"
        },
        "id": "sK22miRQr80v",
        "outputId": "33479815-d24c-44fd-c9c2-da6000f1763f"
      },
      "outputs": [
        {
          "output_type": "stream",
          "name": "stdout",
          "text": [
            "[6, 12, 18, 24, 30, 36, 42, 48, 54, 60, 66, 72, 78, 84, 90, 96]\n"
          ]
        }
      ],
      "source": [
        "def fun():\n",
        "  mylist = [i for i in range(1,100) if i%2==0 and i%3==0]\n",
        "  return mylist\n",
        "print(fun())"
      ]
    },
    {
      "cell_type": "code",
      "source": [
        "x =lambda x:x**2\n",
        "print(x(3))"
      ],
      "metadata": {
        "colab": {
          "base_uri": "https://localhost:8080/"
        },
        "id": "v5ZrnW8ytP1d",
        "outputId": "f6559760-c740-4d51-89ce-2473ad660a80"
      },
      "execution_count": null,
      "outputs": [
        {
          "output_type": "stream",
          "name": "stdout",
          "text": [
            "9\n"
          ]
        }
      ]
    },
    {
      "cell_type": "code",
      "source": [
        "def myfil():\n",
        "  myfilter = list(filter(lambda x:x<5,[1,3,5,6,7,8,9]))\n",
        "  return myfilter\n",
        "myfil()"
      ],
      "metadata": {
        "colab": {
          "base_uri": "https://localhost:8080/"
        },
        "id": "C7aVw5OQtP6X",
        "outputId": "2cc1cf06-d334-483f-e563-273446dba64e"
      },
      "execution_count": null,
      "outputs": [
        {
          "output_type": "execute_result",
          "data": {
            "text/plain": [
              "[1, 3]"
            ]
          },
          "metadata": {},
          "execution_count": 35
        }
      ]
    },
    {
      "cell_type": "code",
      "source": [
        "list1=[1,2,3,4,5,6,7]\n",
        "less_than_5=[i for i in list1 if i<5]\n",
        "print(less_than_5)"
      ],
      "metadata": {
        "colab": {
          "base_uri": "https://localhost:8080/"
        },
        "id": "FRKD8OCjtP-4",
        "outputId": "aaa08178-bbac-4a76-c2dc-f5e4423b29c7"
      },
      "execution_count": null,
      "outputs": [
        {
          "output_type": "stream",
          "name": "stdout",
          "text": [
            "[1, 2, 3, 4]\n"
          ]
        }
      ]
    },
    {
      "cell_type": "code",
      "source": [
        "maplist = list(map(lambda x:x+1,[1,2,3,4,5]))\n",
        "print(maplist)"
      ],
      "metadata": {
        "colab": {
          "base_uri": "https://localhost:8080/"
        },
        "id": "Ws-appL-tQCt",
        "outputId": "7805d6b4-6513-4367-af32-847328fe791b"
      },
      "execution_count": null,
      "outputs": [
        {
          "output_type": "stream",
          "name": "stdout",
          "text": [
            "[2, 3, 4, 5, 6]\n"
          ]
        }
      ]
    },
    {
      "cell_type": "code",
      "source": [
        "myfilter = list(filter(lambda x:x%2==0,[1,2,4,6,3,5,7,9,10]))\n",
        "myfilter"
      ],
      "metadata": {
        "id": "y6jvQM4-tQG6",
        "colab": {
          "base_uri": "https://localhost:8080/"
        },
        "outputId": "d0d4e4ae-b191-4f13-cbb1-3448b2f2f841"
      },
      "execution_count": null,
      "outputs": [
        {
          "output_type": "execute_result",
          "data": {
            "text/plain": [
              "[2, 4, 6, 10]"
            ]
          },
          "metadata": {},
          "execution_count": 43
        }
      ]
    },
    {
      "cell_type": "code",
      "source": [
        "def myarg(*args):\n",
        "  for i in args:\n",
        "    print(i)\n",
        "myarg(\"i\",\"am\",19,\"years\",\"old\",)\n"
      ],
      "metadata": {
        "id": "a1NDcGAutQKY",
        "colab": {
          "base_uri": "https://localhost:8080/"
        },
        "outputId": "cd4caa6e-cb57-4f7b-d9e4-a8ff3cefc098"
      },
      "execution_count": null,
      "outputs": [
        {
          "output_type": "stream",
          "name": "stdout",
          "text": [
            "i\n",
            "am\n",
            "19\n",
            "years\n",
            "old\n"
          ]
        }
      ]
    },
    {
      "cell_type": "code",
      "source": [
        "def mykwargs(**kwargs):\n",
        "  for i,j in kwargs.items():\n",
        "    print(\"%s=%s\"%(i,j))\n",
        "mykwargs(name=\"awaz\",age=20,country=\"nepal\")"
      ],
      "metadata": {
        "id": "kZV7c6z1tQeT",
        "colab": {
          "base_uri": "https://localhost:8080/"
        },
        "outputId": "cd4a6677-08b6-48db-dbe0-722777474310"
      },
      "execution_count": null,
      "outputs": [
        {
          "output_type": "stream",
          "name": "stdout",
          "text": [
            "name=awaz\n",
            "age=20\n",
            "country=nepal\n"
          ]
        }
      ]
    },
    {
      "cell_type": "code",
      "source": [
        "class myclass:\n",
        "  def __init__(self,name,age,country):\n",
        "    self.name=name\n",
        "    self.age=age\n",
        "    self.country=country\n",
        "  def get_all(self):\n",
        "    print(f\"my name is {self.name},age is {self.age} and i am from {self.country}\")\n",
        "\n",
        "class mybio(myclass):\n",
        "  def __init__(self,name,age,country,education):\n",
        "      super().__init__(name,age,country)\n",
        "      self.education = education\n",
        "  def get_education(self):\n",
        "    print(f\"my education is {self.education}\")\n",
        "  \n",
        "class mydata(mybio):\n",
        "  def __init__(self,name,age,country,education,job):\n",
        "    super().__init__(name,age,country,education)\n",
        "    self.job = job\n",
        "  \n",
        "  def get_job(self):\n",
        "    print(f\"{self.job}\")\n",
        "y=mydata(\"awaz\",20,\"nepal\",\"bacholer\",2000)\n",
        "y.get_job()"
      ],
      "metadata": {
        "colab": {
          "base_uri": "https://localhost:8080/"
        },
        "id": "R_iwKs2yxXiQ",
        "outputId": "449df177-8914-43a8-e877-d6bd76632f29"
      },
      "execution_count": null,
      "outputs": [
        {
          "output_type": "stream",
          "name": "stdout",
          "text": [
            "2000\n"
          ]
        }
      ]
    },
    {
      "cell_type": "code",
      "source": [
        "from functools import reduce\n",
        "def red():\n",
        "  redu = reduce(lambda x,y:(x*y),[1,2,3,4,5])\n",
        "  return redu\n",
        "red()"
      ],
      "metadata": {
        "id": "ItYyO0pj9JlX",
        "colab": {
          "base_uri": "https://localhost:8080/"
        },
        "outputId": "6c50f402-1299-41fa-f6fb-648117a2fccd"
      },
      "execution_count": 93,
      "outputs": [
        {
          "output_type": "execute_result",
          "data": {
            "text/plain": [
              "120"
            ]
          },
          "metadata": {},
          "execution_count": 93
        }
      ]
    }
  ]
}