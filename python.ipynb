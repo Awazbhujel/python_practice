{
  "nbformat": 4,
  "nbformat_minor": 0,
  "metadata": {
    "colab": {
      "name": "Untitled34.ipynb",
      "provenance": [],
      "authorship_tag": "ABX9TyO+cPppdlXrkUD2gb4JNDJq"
    },
    "kernelspec": {
      "name": "python3",
      "display_name": "Python 3"
    },
    "language_info": {
      "name": "python"
    }
  },
  "cells": [
    {
      "cell_type": "code",
      "execution_count": 6,
      "metadata": {
        "colab": {
          "base_uri": "https://localhost:8080/"
        },
        "id": "lHOvraAxzEyN",
        "outputId": "97bcd8ea-fba9-4bc3-ecab-e2720f90c9a8"
      },
      "outputs": [
        {
          "output_type": "stream",
          "name": "stdout",
          "text": [
            "[0, 1, 4, 9, 16, 25, 36, 49, 64, 81, 100]\n"
          ]
        }
      ],
      "source": [
        "#listcomprehension\n",
        "mylist = [i**2 for i in range(11)]\n",
        "print(mylist)"
      ]
    },
    {
      "cell_type": "code",
      "source": [
        "#lambda\n",
        "mylist1= lambda x:x**2 in range(11)\n",
        "print(mylist) "
      ],
      "metadata": {
        "colab": {
          "base_uri": "https://localhost:8080/"
        },
        "id": "UClkFSPazRbI",
        "outputId": "a2171aae-f410-4da0-aee4-163f0d60fb6c"
      },
      "execution_count": 7,
      "outputs": [
        {
          "output_type": "stream",
          "name": "stdout",
          "text": [
            "[0, 1, 4, 9, 16, 25, 36, 49, 64, 81, 100]\n"
          ]
        }
      ]
    },
    {
      "cell_type": "code",
      "source": [
        "#map\n",
        "def square(x):\n",
        "    return x**2\n",
        "mylist2= list(map(square,range(11)))\n",
        "print(mylist2)"
      ],
      "metadata": {
        "colab": {
          "base_uri": "https://localhost:8080/"
        },
        "id": "lXTSz2xQzRiR",
        "outputId": "305d1a2c-7d4b-4b27-b5c2-30b85c1aa0ae"
      },
      "execution_count": 8,
      "outputs": [
        {
          "output_type": "stream",
          "name": "stdout",
          "text": [
            "[0, 1, 4, 9, 16, 25, 36, 49, 64, 81, 100]\n"
          ]
        }
      ]
    },
    {
      "cell_type": "code",
      "source": [
        "#args\n",
        "def myfun(*args):\n",
        "  for args in args:\n",
        "    print(args)\n",
        "myfun(\"awaz\",\"nepal\",20)"
      ],
      "metadata": {
        "colab": {
          "base_uri": "https://localhost:8080/"
        },
        "id": "vVCv6aEtzRpq",
        "outputId": "91321ecd-62f3-43f2-d6d9-5df21a8a76e0"
      },
      "execution_count": 27,
      "outputs": [
        {
          "output_type": "stream",
          "name": "stdout",
          "text": [
            "awaz\n",
            "nepal\n",
            "20\n"
          ]
        }
      ]
    },
    {
      "cell_type": "code",
      "source": [
        "#kwargs\n",
        "def myfun(**kwargs):\n",
        "  for key,value in kwargs.items():\n",
        "    print(\"{} is {}\".format(key,value))\n",
        "myfun(name=\"awaz\",country=\"nepal\",age =18)"
      ],
      "metadata": {
        "colab": {
          "base_uri": "https://localhost:8080/"
        },
        "id": "61MiuuvczRmK",
        "outputId": "e0755781-21ab-47c4-9018-c5e4ebb34472"
      },
      "execution_count": 36,
      "outputs": [
        {
          "output_type": "stream",
          "name": "stdout",
          "text": [
            "name is awaz\n",
            "country is nepal\n",
            "age is 18\n"
          ]
        }
      ]
    },
    {
      "cell_type": "code",
      "source": [
        "def sum(*args):\n",
        "  c = 0\n",
        "  for i in args:\n",
        "    c+=i\n",
        "  return c\n",
        "sum(1,2,3)\n"
      ],
      "metadata": {
        "colab": {
          "base_uri": "https://localhost:8080/"
        },
        "id": "w7cZPtQB5E4E",
        "outputId": "a4b431c6-5505-4a94-b090-ccf6d6bddd1c"
      },
      "execution_count": 46,
      "outputs": [
        {
          "output_type": "execute_result",
          "data": {
            "text/plain": [
              "6"
            ]
          },
          "metadata": {},
          "execution_count": 46
        }
      ]
    },
    {
      "cell_type": "code",
      "source": [
        ""
      ],
      "metadata": {
        "id": "ubpiidzb375T"
      },
      "execution_count": null,
      "outputs": []
    },
    {
      "cell_type": "code",
      "source": [
        ""
      ],
      "metadata": {
        "id": "mqeiLwVf378u"
      },
      "execution_count": null,
      "outputs": []
    }
  ]
}