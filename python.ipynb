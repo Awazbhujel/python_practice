{
  "nbformat": 4,
  "nbformat_minor": 0,
  "metadata": {
    "colab": {
      "provenance": [],
      "authorship_tag": "ABX9TyOhThS9z/Bi1wdlbpItzsJj"
    },
    "kernelspec": {
      "name": "python3",
      "display_name": "Python 3"
    },
    "language_info": {
      "name": "python"
    }
  },
  "cells": [
    {
      "cell_type": "code",
      "execution_count": null,
      "metadata": {
        "colab": {
          "base_uri": "https://localhost:8080/"
        },
        "id": "Kg0Hmr9m0NPm",
        "outputId": "4d1cbdef-4874-4902-f820-cbc63cc5040c"
      },
      "outputs": [
        {
          "output_type": "stream",
          "name": "stdout",
          "text": [
            "apple\n",
            "banana\n",
            "cherry\n"
          ]
        }
      ],
      "source": [
        "thistupple = (\"apple\",\"banana\",\"cherry\")\n",
        "for x in thistupple:\n",
        "  print(x)"
      ]
    },
    {
      "cell_type": "code",
      "source": [
        "thisdict = {\n",
        "  \"brand\": \"Ford\",\n",
        "  \"model\": \"Mustang\",\n",
        "  \"year\": 1964}\n",
        "for i,j in thisdict.items():\n",
        "  print('the key is:{} and the values is:{}'.format(i,j))\n",
        "\n",
        "mydict = thisdict.copy()\n",
        "print(mydict)"
      ],
      "metadata": {
        "colab": {
          "base_uri": "https://localhost:8080/"
        },
        "id": "Z0uODx1r0vju",
        "outputId": "2cbfb9c5-18f8-4608-b9b5-b11327eb0747"
      },
      "execution_count": 1,
      "outputs": [
        {
          "output_type": "stream",
          "name": "stdout",
          "text": [
            "the key is:brand and the values is:Ford\n",
            "the key is:model and the values is:Mustang\n",
            "the key is:year and the values is:1964\n",
            "{'brand': 'Ford', 'model': 'Mustang', 'year': 1964}\n"
          ]
        }
      ]
    },
    {
      "cell_type": "code",
      "source": [
        "#if else\n",
        "a = 30\n",
        "b = 30\n",
        "if a<b:\n",
        "  print(\"a is less then b\")\n",
        "elif b==a:\n",
        "  print(\"both are equal\")\n",
        "else:\n",
        "  print(\"invalid number\")"
      ],
      "metadata": {
        "id": "X-h57KAU0vmh",
        "colab": {
          "base_uri": "https://localhost:8080/"
        },
        "outputId": "a5259fc9-cb17-4d7c-c7cf-2b5382397cf6"
      },
      "execution_count": null,
      "outputs": [
        {
          "output_type": "stream",
          "name": "stdout",
          "text": [
            "both are equal\n"
          ]
        }
      ]
    },
    {
      "cell_type": "code",
      "source": [
        "fruits = [\"apple\", \"banana\", \"cherry\"]\n",
        "for i in fruits:\n",
        "  print(i)\n",
        "  if i==\"banana\":\n",
        "    break"
      ],
      "metadata": {
        "colab": {
          "base_uri": "https://localhost:8080/"
        },
        "id": "03LWS7SkBUtE",
        "outputId": "2405f9e1-40f2-4ccd-9bd7-8827b031b68f"
      },
      "execution_count": null,
      "outputs": [
        {
          "output_type": "stream",
          "name": "stdout",
          "text": [
            "apple\n",
            "banana\n"
          ]
        }
      ]
    },
    {
      "cell_type": "code",
      "source": [
        "for i in range(6):\n",
        "  print(i)\n",
        "else:\n",
        "  print(\"program finished\")"
      ],
      "metadata": {
        "colab": {
          "base_uri": "https://localhost:8080/"
        },
        "id": "fu1k9aSsBUvf",
        "outputId": "6e718ec0-1541-4b7e-8025-cfe589045afa"
      },
      "execution_count": null,
      "outputs": [
        {
          "output_type": "stream",
          "name": "stdout",
          "text": [
            "0\n",
            "1\n",
            "2\n",
            "3\n",
            "4\n",
            "5\n",
            "program finished\n"
          ]
        }
      ]
    },
    {
      "cell_type": "code",
      "source": [
        "adj = [\"red\",\"green\",\"blue\"]\n",
        "fruits= [\"apple\",\"banana\",\"cherry\"]\n",
        "for x in adj:\n",
        "  for y in fruits:\n",
        "    print(x,y)"
      ],
      "metadata": {
        "colab": {
          "base_uri": "https://localhost:8080/"
        },
        "id": "fWHYmki_BUzB",
        "outputId": "db72a649-8d0e-4225-8f56-ae03ab2139e4"
      },
      "execution_count": null,
      "outputs": [
        {
          "output_type": "stream",
          "name": "stdout",
          "text": [
            "red apple\n",
            "red banana\n",
            "red cherry\n",
            "green apple\n",
            "green banana\n",
            "green cherry\n",
            "blue apple\n",
            "blue banana\n",
            "blue cherry\n"
          ]
        }
      ]
    },
    {
      "cell_type": "code",
      "source": [
        "for i in range(5):\n",
        "  if i==3:\n",
        "    continue\n",
        "  print(i)"
      ],
      "metadata": {
        "id": "NiixLt_10vo1",
        "colab": {
          "base_uri": "https://localhost:8080/"
        },
        "outputId": "5001277f-d3b9-479a-a014-c35e169ef27f"
      },
      "execution_count": null,
      "outputs": [
        {
          "output_type": "stream",
          "name": "stdout",
          "text": [
            "0\n",
            "1\n",
            "2\n",
            "4\n"
          ]
        }
      ]
    },
    {
      "cell_type": "code",
      "source": [
        "def greet():\n",
        "  print(\"namaste\")\n",
        "#call the function\n",
        "greet()\n",
        "print(\"outside function\")"
      ],
      "metadata": {
        "id": "spxIHAlr0vrY",
        "colab": {
          "base_uri": "https://localhost:8080/"
        },
        "outputId": "e2e30aaf-47e8-42b2-ac21-d0694a1e8986"
      },
      "execution_count": null,
      "outputs": [
        {
          "output_type": "stream",
          "name": "stdout",
          "text": [
            "namaste\n",
            "outside function\n"
          ]
        }
      ]
    },
    {
      "cell_type": "code",
      "source": [
        "#function with argument\n",
        "def add_numbers(a,b):\n",
        "  return a+b\n",
        "add_numbers(2,2)"
      ],
      "metadata": {
        "id": "UA4I8xhG0vt-",
        "colab": {
          "base_uri": "https://localhost:8080/"
        },
        "outputId": "32d821cd-6ab9-4bbc-e7ed-7a6b19b653fc"
      },
      "execution_count": null,
      "outputs": [
        {
          "output_type": "execute_result",
          "data": {
            "text/plain": [
              "4"
            ]
          },
          "metadata": {},
          "execution_count": 57
        }
      ]
    },
    {
      "cell_type": "code",
      "source": [
        "import math\n",
        "#built in function\n",
        "sqr = math.sqrt(9)\n",
        "print(sqr)"
      ],
      "metadata": {
        "id": "mEXJNQbA0vwg",
        "colab": {
          "base_uri": "https://localhost:8080/"
        },
        "outputId": "0c8fa51b-900f-402f-9d50-fed030c7dd87"
      },
      "execution_count": null,
      "outputs": [
        {
          "output_type": "stream",
          "name": "stdout",
          "text": [
            "3.0\n"
          ]
        }
      ]
    },
    {
      "cell_type": "code",
      "source": [
        "# function definition\n",
        "def get_square(num):\n",
        "    return num * num\n",
        "for i in [1,2,3,4]:\n",
        "  result = get_square(i)\n",
        "  print(result)"
      ],
      "metadata": {
        "id": "bulvAbM30vzP",
        "colab": {
          "base_uri": "https://localhost:8080/"
        },
        "outputId": "e97a90bc-704a-4612-fc99-1093f91c2ff9"
      },
      "execution_count": null,
      "outputs": [
        {
          "output_type": "stream",
          "name": "stdout",
          "text": [
            "1\n",
            "4\n",
            "9\n",
            "16\n"
          ]
        }
      ]
    },
    {
      "cell_type": "code",
      "source": [
        "def add(a=1,b=1):\n",
        "  sum =a+b\n",
        "  print(sum)\n",
        "#func with 2 argument\n",
        "add(2,2)\n",
        "#func with one argu\n",
        "add(b=5)\n",
        "#function with no arguments\n",
        "add()"
      ],
      "metadata": {
        "id": "rwYhqkBN0v2D",
        "colab": {
          "base_uri": "https://localhost:8080/"
        },
        "outputId": "6f1022d3-1a4e-4f81-a73a-4a749990e74a"
      },
      "execution_count": null,
      "outputs": [
        {
          "output_type": "stream",
          "name": "stdout",
          "text": [
            "4\n",
            "6\n",
            "2\n"
          ]
        }
      ]
    },
    {
      "cell_type": "code",
      "source": [
        "#Python Keyword Argument\n",
        "def display(first_name,last_name):\n",
        "  print(\"first name:\",first_name)\n",
        "  print(\"last name:\",last_name)\n",
        "display(last_name=\"bhujel\",first_name=\"awaz\")"
      ],
      "metadata": {
        "id": "Jbwnl3FN0v4K",
        "colab": {
          "base_uri": "https://localhost:8080/"
        },
        "outputId": "62eb1f75-8379-4137-f30b-874ce72d0481"
      },
      "execution_count": null,
      "outputs": [
        {
          "output_type": "stream",
          "name": "stdout",
          "text": [
            "first name: awaz\n",
            "last name: bhujel\n"
          ]
        }
      ]
    },
    {
      "cell_type": "code",
      "source": [
        "#Python Function With Arbitrary Arguments\n",
        "def find_sum(*numbers):\n",
        "    result = 0\n",
        "    \n",
        "    for num in numbers:\n",
        "        result = result + num\n",
        "    \n",
        "    print(\"Sum = \", result)\n",
        "\n",
        "find_sum(1,2,3)\n",
        "find_sum(1,2)"
      ],
      "metadata": {
        "id": "3iJQilpx0v6g",
        "colab": {
          "base_uri": "https://localhost:8080/"
        },
        "outputId": "c2cdfedb-7181-455c-feb0-e9beef22e6ff"
      },
      "execution_count": null,
      "outputs": [
        {
          "output_type": "stream",
          "name": "stdout",
          "text": [
            "Sum =  6\n",
            "Sum =  3\n"
          ]
        }
      ]
    },
    {
      "cell_type": "code",
      "source": [
        "#recursive function\n",
        "def fact(x):\n",
        "  if x==1:\n",
        "    return 1\n",
        "  else:\n",
        "    return(x*fact(x-1))\n",
        "num=4\n",
        "print(\"the factorial of\",num,\"is\",fact(num))"
      ],
      "metadata": {
        "id": "hCBZebzQ0v8z",
        "colab": {
          "base_uri": "https://localhost:8080/"
        },
        "outputId": "8126fc27-1311-47bc-fb6b-4871089efb64"
      },
      "execution_count": null,
      "outputs": [
        {
          "output_type": "stream",
          "name": "stdout",
          "text": [
            "the factorial of 4 is 24\n"
          ]
        }
      ]
    },
    {
      "cell_type": "code",
      "source": [
        "def recursive():\n",
        "  recursive()\n",
        "recursive()"
      ],
      "metadata": {
        "id": "S4OrGp-g0v_N",
        "colab": {
          "base_uri": "https://localhost:8080/",
          "height": 346
        },
        "outputId": "0b570791-d72b-4602-d93a-39ac636ab59b"
      },
      "execution_count": null,
      "outputs": [
        {
          "output_type": "error",
          "ename": "RecursionError",
          "evalue": "ignored",
          "traceback": [
            "\u001b[0;31m---------------------------------------------------------------------------\u001b[0m",
            "\u001b[0;31mRecursionError\u001b[0m                            Traceback (most recent call last)",
            "\u001b[0;32m<ipython-input-92-5e5b5123b54e>\u001b[0m in \u001b[0;36m<module>\u001b[0;34m\u001b[0m\n\u001b[1;32m      1\u001b[0m \u001b[0;32mdef\u001b[0m \u001b[0mrecursive\u001b[0m\u001b[0;34m(\u001b[0m\u001b[0;34m)\u001b[0m\u001b[0;34m:\u001b[0m\u001b[0;34m\u001b[0m\u001b[0;34m\u001b[0m\u001b[0m\n\u001b[1;32m      2\u001b[0m   \u001b[0mrecursive\u001b[0m\u001b[0;34m(\u001b[0m\u001b[0;34m)\u001b[0m\u001b[0;34m\u001b[0m\u001b[0;34m\u001b[0m\u001b[0m\n\u001b[0;32m----> 3\u001b[0;31m \u001b[0mrecursive\u001b[0m\u001b[0;34m(\u001b[0m\u001b[0;34m)\u001b[0m\u001b[0;34m\u001b[0m\u001b[0;34m\u001b[0m\u001b[0m\n\u001b[0m",
            "\u001b[0;32m<ipython-input-92-5e5b5123b54e>\u001b[0m in \u001b[0;36mrecursive\u001b[0;34m()\u001b[0m\n\u001b[1;32m      1\u001b[0m \u001b[0;32mdef\u001b[0m \u001b[0mrecursive\u001b[0m\u001b[0;34m(\u001b[0m\u001b[0;34m)\u001b[0m\u001b[0;34m:\u001b[0m\u001b[0;34m\u001b[0m\u001b[0;34m\u001b[0m\u001b[0m\n\u001b[0;32m----> 2\u001b[0;31m   \u001b[0mrecursive\u001b[0m\u001b[0;34m(\u001b[0m\u001b[0;34m)\u001b[0m\u001b[0;34m\u001b[0m\u001b[0;34m\u001b[0m\u001b[0m\n\u001b[0m\u001b[1;32m      3\u001b[0m \u001b[0mrecursive\u001b[0m\u001b[0;34m(\u001b[0m\u001b[0;34m)\u001b[0m\u001b[0;34m\u001b[0m\u001b[0;34m\u001b[0m\u001b[0m\n",
            "... last 1 frames repeated, from the frame below ...\n",
            "\u001b[0;32m<ipython-input-92-5e5b5123b54e>\u001b[0m in \u001b[0;36mrecursive\u001b[0;34m()\u001b[0m\n\u001b[1;32m      1\u001b[0m \u001b[0;32mdef\u001b[0m \u001b[0mrecursive\u001b[0m\u001b[0;34m(\u001b[0m\u001b[0;34m)\u001b[0m\u001b[0;34m:\u001b[0m\u001b[0;34m\u001b[0m\u001b[0;34m\u001b[0m\u001b[0m\n\u001b[0;32m----> 2\u001b[0;31m   \u001b[0mrecursive\u001b[0m\u001b[0;34m(\u001b[0m\u001b[0;34m)\u001b[0m\u001b[0;34m\u001b[0m\u001b[0;34m\u001b[0m\u001b[0m\n\u001b[0m\u001b[1;32m      3\u001b[0m \u001b[0mrecursive\u001b[0m\u001b[0;34m(\u001b[0m\u001b[0;34m)\u001b[0m\u001b[0;34m\u001b[0m\u001b[0;34m\u001b[0m\u001b[0m\n",
            "\u001b[0;31mRecursionError\u001b[0m: maximum recursion depth exceeded"
          ]
        }
      ]
    },
    {
      "cell_type": "code",
      "source": [
        "#lambda function\n",
        "greet =lambda:print(\"hello world\")\n",
        "greet()"
      ],
      "metadata": {
        "id": "T0OZSFa30wBi",
        "colab": {
          "base_uri": "https://localhost:8080/"
        },
        "outputId": "341a7194-7a39-4519-eb50-b65c2284f32e"
      },
      "execution_count": null,
      "outputs": [
        {
          "output_type": "stream",
          "name": "stdout",
          "text": [
            "hello world\n"
          ]
        }
      ]
    },
    {
      "cell_type": "code",
      "source": [
        "greet_user = lambda name:print(\"hello there\",name)\n",
        "greet_user(\"awaz\")"
      ],
      "metadata": {
        "id": "2khnD8i40wFB",
        "colab": {
          "base_uri": "https://localhost:8080/"
        },
        "outputId": "50bd64f6-6e65-445c-e2f7-841a41f39dde"
      },
      "execution_count": null,
      "outputs": [
        {
          "output_type": "stream",
          "name": "stdout",
          "text": [
            "hello there awaz\n"
          ]
        }
      ]
    },
    {
      "cell_type": "code",
      "source": [
        "def greet():\n",
        "  message = \"hello\"\n",
        "  print(\"local\",message)\n",
        "greet()\n",
        "#wont execute\n",
        "print(message)"
      ],
      "metadata": {
        "id": "8pvAkwZy0wLa",
        "colab": {
          "base_uri": "https://localhost:8080/",
          "height": 218
        },
        "outputId": "1f24feb1-e8a0-4efa-a5e5-87dfaaddcf30"
      },
      "execution_count": null,
      "outputs": [
        {
          "output_type": "stream",
          "name": "stdout",
          "text": [
            "local hello\n"
          ]
        },
        {
          "output_type": "error",
          "ename": "NameError",
          "evalue": "ignored",
          "traceback": [
            "\u001b[0;31m---------------------------------------------------------------------------\u001b[0m",
            "\u001b[0;31mNameError\u001b[0m                                 Traceback (most recent call last)",
            "\u001b[0;32m<ipython-input-102-07e1bb08dc40>\u001b[0m in \u001b[0;36m<module>\u001b[0;34m\u001b[0m\n\u001b[1;32m      4\u001b[0m \u001b[0mgreet\u001b[0m\u001b[0;34m(\u001b[0m\u001b[0;34m)\u001b[0m\u001b[0;34m\u001b[0m\u001b[0;34m\u001b[0m\u001b[0m\n\u001b[1;32m      5\u001b[0m \u001b[0;31m#wont execute\u001b[0m\u001b[0;34m\u001b[0m\u001b[0;34m\u001b[0m\u001b[0;34m\u001b[0m\u001b[0m\n\u001b[0;32m----> 6\u001b[0;31m \u001b[0mprint\u001b[0m\u001b[0;34m(\u001b[0m\u001b[0mmessage\u001b[0m\u001b[0;34m)\u001b[0m\u001b[0;34m\u001b[0m\u001b[0;34m\u001b[0m\u001b[0m\n\u001b[0m",
            "\u001b[0;31mNameError\u001b[0m: name 'message' is not defined"
          ]
        }
      ]
    },
    {
      "cell_type": "code",
      "source": [
        "# declare global variable\n",
        "message = 'Hello'\n",
        "\n",
        "def greet():\n",
        "    # declare local variable\n",
        "    print('Local', message)\n",
        "\n",
        "greet()\n",
        "print('Global', message)"
      ],
      "metadata": {
        "id": "S5XKRMad0wOt",
        "colab": {
          "base_uri": "https://localhost:8080/"
        },
        "outputId": "9a3fde96-9bef-4114-c736-0b4913ddc4e6"
      },
      "execution_count": null,
      "outputs": [
        {
          "output_type": "stream",
          "name": "stdout",
          "text": [
            "Local Hello\n",
            "Global Hello\n"
          ]
        }
      ]
    },
    {
      "cell_type": "code",
      "source": [
        "c = 1\n",
        "def add():\n",
        "  #if we try to modify the global variable from inside a function as:\n",
        "  c = c+2\n",
        "  print(c)\n",
        "add()"
      ],
      "metadata": {
        "id": "ijdC0GVJ0nbf",
        "colab": {
          "base_uri": "https://localhost:8080/",
          "height": 322
        },
        "outputId": "25521b3e-dc19-477e-bab3-21203640a275"
      },
      "execution_count": null,
      "outputs": [
        {
          "output_type": "error",
          "ename": "UnboundLocalError",
          "evalue": "ignored",
          "traceback": [
            "\u001b[0;31m---------------------------------------------------------------------------\u001b[0m",
            "\u001b[0;31mUnboundLocalError\u001b[0m                         Traceback (most recent call last)",
            "\u001b[0;32m<ipython-input-107-77dc4ca0805a>\u001b[0m in \u001b[0;36m<module>\u001b[0;34m\u001b[0m\n\u001b[1;32m      4\u001b[0m   \u001b[0mc\u001b[0m \u001b[0;34m=\u001b[0m \u001b[0mc\u001b[0m\u001b[0;34m+\u001b[0m\u001b[0;36m2\u001b[0m\u001b[0;34m\u001b[0m\u001b[0;34m\u001b[0m\u001b[0m\n\u001b[1;32m      5\u001b[0m   \u001b[0mprint\u001b[0m\u001b[0;34m(\u001b[0m\u001b[0mc\u001b[0m\u001b[0;34m)\u001b[0m\u001b[0;34m\u001b[0m\u001b[0;34m\u001b[0m\u001b[0m\n\u001b[0;32m----> 6\u001b[0;31m \u001b[0madd\u001b[0m\u001b[0;34m(\u001b[0m\u001b[0;34m)\u001b[0m\u001b[0;34m\u001b[0m\u001b[0;34m\u001b[0m\u001b[0m\n\u001b[0m",
            "\u001b[0;32m<ipython-input-107-77dc4ca0805a>\u001b[0m in \u001b[0;36madd\u001b[0;34m()\u001b[0m\n\u001b[1;32m      2\u001b[0m \u001b[0;32mdef\u001b[0m \u001b[0madd\u001b[0m\u001b[0;34m(\u001b[0m\u001b[0;34m)\u001b[0m\u001b[0;34m:\u001b[0m\u001b[0;34m\u001b[0m\u001b[0;34m\u001b[0m\u001b[0m\n\u001b[1;32m      3\u001b[0m   \u001b[0;31m#if we try to modify the global variable from inside a function as:\u001b[0m\u001b[0;34m\u001b[0m\u001b[0;34m\u001b[0m\u001b[0;34m\u001b[0m\u001b[0m\n\u001b[0;32m----> 4\u001b[0;31m   \u001b[0mc\u001b[0m \u001b[0;34m=\u001b[0m \u001b[0mc\u001b[0m\u001b[0;34m+\u001b[0m\u001b[0;36m2\u001b[0m\u001b[0;34m\u001b[0m\u001b[0;34m\u001b[0m\u001b[0m\n\u001b[0m\u001b[1;32m      5\u001b[0m   \u001b[0mprint\u001b[0m\u001b[0;34m(\u001b[0m\u001b[0mc\u001b[0m\u001b[0;34m)\u001b[0m\u001b[0;34m\u001b[0m\u001b[0;34m\u001b[0m\u001b[0m\n\u001b[1;32m      6\u001b[0m \u001b[0madd\u001b[0m\u001b[0;34m(\u001b[0m\u001b[0;34m)\u001b[0m\u001b[0;34m\u001b[0m\u001b[0;34m\u001b[0m\u001b[0m\n",
            "\u001b[0;31mUnboundLocalError\u001b[0m: local variable 'c' referenced before assignment"
          ]
        }
      ]
    },
    {
      "cell_type": "code",
      "source": [
        "c = 1\n",
        "def add():\n",
        "  #if we use global keyword \n",
        "  global c\n",
        "  c = c+2\n",
        "  print(c)\n",
        "add()"
      ],
      "metadata": {
        "colab": {
          "base_uri": "https://localhost:8080/"
        },
        "id": "64t3CmcxaiJ3",
        "outputId": "2a5926ad-6e7b-4f7a-f3df-19bb1b122e3d"
      },
      "execution_count": null,
      "outputs": [
        {
          "output_type": "stream",
          "name": "stdout",
          "text": [
            "3\n"
          ]
        }
      ]
    },
    {
      "cell_type": "code",
      "source": [
        "#global in nexted loop\n",
        "def outer_function():\n",
        "    num = 20\n",
        "\n",
        "    def inner_function():\n",
        "        global num\n",
        "        num = 25\n",
        "    \n",
        "    print(\"Before calling inner_function(): \", num)\n",
        "    inner_function()\n",
        "    print(\"After calling inner_function(): \", num)\n",
        "\n",
        "outer_function()\n",
        "print(\"Outside both function: \", num)"
      ],
      "metadata": {
        "colab": {
          "base_uri": "https://localhost:8080/"
        },
        "id": "cEWr8dXHaiMl",
        "outputId": "81f05549-3bed-4f1c-a528-4f7d482a948b"
      },
      "execution_count": null,
      "outputs": [
        {
          "output_type": "stream",
          "name": "stdout",
          "text": [
            "Before calling inner_function():  20\n",
            "After calling inner_function():  20\n",
            "Outside both function:  25\n"
          ]
        }
      ]
    },
    {
      "cell_type": "code",
      "source": [
        "def add(a,b):\n",
        "  result = a+b\n",
        "  return result"
      ],
      "metadata": {
        "id": "_WtGq5DJaiO1"
      },
      "execution_count": null,
      "outputs": []
    },
    {
      "cell_type": "code",
      "source": [
        "from google.colab import files\n",
        "files.upload()"
      ],
      "metadata": {
        "id": "2mxA64lVaiRE"
      },
      "execution_count": null,
      "outputs": []
    },
    {
      "cell_type": "code",
      "source": [
        "#open a file \n",
        "file1 = open(\"text.txt\",\"r\")\n",
        "#read a file\n",
        "read_content = file1.read()\n",
        "#close the file\n",
        "file1.close()"
      ],
      "metadata": {
        "id": "IJfJ8Pq3aiUd"
      },
      "execution_count": null,
      "outputs": []
    },
    {
      "cell_type": "code",
      "source": [
        "#Exception Handling in Files\n",
        "try:\n",
        "  file1 = open(\"text.txt\",\"r\")\n",
        "  read_content = file1.read()\n",
        "  print(read_content)\n",
        "finally:\n",
        "  file1.close()"
      ],
      "metadata": {
        "id": "l_LNT2r4eo3S"
      },
      "execution_count": null,
      "outputs": []
    },
    {
      "cell_type": "code",
      "source": [
        "#with...open syntax to automatically close the file\n",
        "with open(\"text.txt\",\"r\") as file1:\n",
        "  read_content = file1.read()\n",
        "  print(read_content)"
      ],
      "metadata": {
        "id": "_EIi9wemeo5m"
      },
      "execution_count": null,
      "outputs": []
    },
    {
      "cell_type": "code",
      "source": [
        "with open(\"text.txt\",\"w\") as file2:\n",
        "  file2.write(\"programming is fun\")"
      ],
      "metadata": {
        "id": "Ve9nVGWVeo_q"
      },
      "execution_count": null,
      "outputs": []
    },
    {
      "cell_type": "code",
      "source": [
        "#Exception Handling Using try...except\n",
        "try:\n",
        "  numero= 10\n",
        "  denomi = 0\n",
        "  result = numero/denomi\n",
        "  print(result)\n",
        "except:\n",
        "  print(\"error:Denominator cannot be zero\")\n",
        "finally:\n",
        "  print(\"this block will always execute\")"
      ],
      "metadata": {
        "colab": {
          "base_uri": "https://localhost:8080/"
        },
        "id": "iIc231Mkeo70",
        "outputId": "a7fe3ed8-d5b0-46f4-86c0-82048ee15cde"
      },
      "execution_count": null,
      "outputs": [
        {
          "output_type": "stream",
          "name": "stdout",
          "text": [
            "error:Denominator cannot be zero\n",
            "this block will always execute\n"
          ]
        }
      ]
    },
    {
      "cell_type": "code",
      "source": [
        "class CustomError(Exception):\n",
        "  pass\n",
        "try:\n",
        "  pass\n",
        "except CustomError:\n",
        "  pass"
      ],
      "metadata": {
        "id": "qKPE6xiZ1tiW"
      },
      "execution_count": null,
      "outputs": []
    },
    {
      "cell_type": "code",
      "source": [
        "#Python User-Defined Exception\n",
        "class InvalidAgeException(Exception):\n",
        "  pass\n",
        "numbers = 18\n",
        "try:\n",
        "  input_num = int(input(\"enter your age: \"))\n",
        "  if input_num<numbers:\n",
        "    raise InvalidAgeException\n",
        "  else:\n",
        "    print(\"eligible to vote\")\n",
        "except InvalidAgeException:\n",
        "  print(\"exception occured:Invalid Age\")"
      ],
      "metadata": {
        "colab": {
          "base_uri": "https://localhost:8080/"
        },
        "id": "uuyke5sV1tl2",
        "outputId": "19328fe2-9191-489d-b48b-a5a65bdda976"
      },
      "execution_count": null,
      "outputs": [
        {
          "output_type": "stream",
          "name": "stdout",
          "text": [
            "enter your age: 19\n",
            "eligible to vote\n"
          ]
        }
      ]
    },
    {
      "cell_type": "code",
      "source": [
        "class Parrot:\n",
        "  #class attributes\n",
        "  name = \"\"\n",
        "  age = 0\n",
        "\n",
        "#create parrot1 object\n",
        "parrot1 = Parrot()\n",
        "parrot1.name = \"Blu\"\n",
        "parrot1.age = 20\n",
        "\n",
        "#create parrot2 object\n",
        "parrot2 = Parrot()\n",
        "parrot2.name = \"woo\"\n",
        "parrot2.age = 30\n",
        "\n",
        "#access attritubes\n",
        "print(f\"{parrot1.name} is {parrot1.age} years old\")\n",
        "print(f\"{parrot2.name} is {parrot2.age} years old\")"
      ],
      "metadata": {
        "colab": {
          "base_uri": "https://localhost:8080/"
        },
        "id": "pJJY1TqMHJxW",
        "outputId": "c051a754-5dac-43e7-d4fe-9ce9b540ba67"
      },
      "execution_count": 5,
      "outputs": [
        {
          "output_type": "stream",
          "name": "stdout",
          "text": [
            "Blu is 20 years old\n",
            "woo is 30 years old\n"
          ]
        }
      ]
    },
    {
      "cell_type": "code",
      "source": [
        "#parent class\n",
        "class Animal:\n",
        "  def eat(self):\n",
        "    print(\"i can eat\")\n",
        "  \n",
        "  def sleep(self):\n",
        "    print(\"i can sleep\")\n",
        "\n",
        "#child class\n",
        "class Dog(Animal):\n",
        "  def bark(self):\n",
        "    print(\"i can bark\")\n",
        "\n",
        "#create object of the dog class\n",
        "dog1 = Dog()\n",
        "#calling members of parent class\n",
        "dog1.sleep()\n",
        "dog1.eat()\n",
        "\n",
        "#calling memeber of child class\n",
        "dog1.bark()"
      ],
      "metadata": {
        "colab": {
          "base_uri": "https://localhost:8080/"
        },
        "id": "MrD78DTwHJuR",
        "outputId": "5a2174a3-7a4f-4966-b842-9d405a0f7e24"
      },
      "execution_count": 13,
      "outputs": [
        {
          "output_type": "stream",
          "name": "stdout",
          "text": [
            "i can sleep\n",
            "i can eat\n",
            "i can bark\n"
          ]
        }
      ]
    },
    {
      "cell_type": "code",
      "source": [
        "class Computer:\n",
        "  def __init__(self):\n",
        "    self.__maxprice = 900\n",
        "  \n",
        "  def sell(self):\n",
        "    print(\"selling price:{}\".format(self.__maxprice))\n",
        "  \n",
        "  def setMaxPrice(self,price):\n",
        "    self.__maxprice =price\n",
        "\n",
        "c = Computer()\n",
        "c.sell()\n",
        "\n",
        "#change the price\n",
        "c.__maxprice = 1000\n",
        "c.sell()\n",
        "\n",
        "#using setter function\n",
        "c.setMaxPrice(1000)\n",
        "c.sell()"
      ],
      "metadata": {
        "colab": {
          "base_uri": "https://localhost:8080/"
        },
        "id": "j1zt49G0HJrK",
        "outputId": "80f171f5-2807-458b-b340-3dab19d4c9c4"
      },
      "execution_count": 19,
      "outputs": [
        {
          "output_type": "stream",
          "name": "stdout",
          "text": [
            "selling price:900\n",
            "selling price:900\n",
            "selling price:1000\n"
          ]
        }
      ]
    },
    {
      "cell_type": "code",
      "source": [
        "#polymorphism\n",
        "class Polygon:\n",
        "  def render(self):\n",
        "    print(\"rendering polygon..\")\n",
        "\n",
        "class Square(Polygon):\n",
        "    def render(self):\n",
        "      print(\"rendering square..\")\n",
        "\n",
        "class Circle(Polygon):\n",
        "    def render(self):\n",
        "      print(\"rendering circle\")\n",
        "\n",
        "#create an object of square\n",
        "s1 = Square()\n",
        "s1.render()\n",
        "\n",
        "#create an object of circle\n",
        "c1  = Circle()\n",
        "c1.render()"
      ],
      "metadata": {
        "colab": {
          "base_uri": "https://localhost:8080/"
        },
        "id": "5vdcBkNpHJo3",
        "outputId": "fe28daeb-6956-432a-a662-6092b14a2015"
      },
      "execution_count": 23,
      "outputs": [
        {
          "output_type": "stream",
          "name": "stdout",
          "text": [
            "rendering square..\n",
            "rendering circle\n"
          ]
        }
      ]
    },
    {
      "cell_type": "code",
      "source": [],
      "metadata": {
        "id": "zad86bTqHJmo"
      },
      "execution_count": null,
      "outputs": []
    },
    {
      "cell_type": "code",
      "source": [],
      "metadata": {
        "id": "I5xBasMjHJjU"
      },
      "execution_count": null,
      "outputs": []
    },
    {
      "cell_type": "code",
      "source": [],
      "metadata": {
        "id": "aOR2Z-sQHJgf"
      },
      "execution_count": null,
      "outputs": []
    },
    {
      "cell_type": "code",
      "source": [],
      "metadata": {
        "id": "8gOaLX4M2ft5"
      },
      "execution_count": null,
      "outputs": []
    },
    {
      "cell_type": "code",
      "source": [],
      "metadata": {
        "id": "lbDVmb_a2fwl"
      },
      "execution_count": null,
      "outputs": []
    },
    {
      "cell_type": "code",
      "source": [],
      "metadata": {
        "id": "G6a9G9CY2fzK"
      },
      "execution_count": null,
      "outputs": []
    },
    {
      "cell_type": "code",
      "source": [],
      "metadata": {
        "id": "pqylqwnY2f1u"
      },
      "execution_count": null,
      "outputs": []
    },
    {
      "cell_type": "code",
      "source": [],
      "metadata": {
        "id": "kXAoI9jE2f5J"
      },
      "execution_count": null,
      "outputs": []
    }
  ]
}