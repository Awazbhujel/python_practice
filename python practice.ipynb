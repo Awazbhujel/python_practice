{
  "nbformat": 4,
  "nbformat_minor": 0,
  "metadata": {
    "colab": {
      "name": "Untitled56.ipynb",
      "provenance": [],
      "collapsed_sections": [],
      "authorship_tag": "ABX9TyPaDuaic1Yy6itwk5VaZL+0"
    },
    "kernelspec": {
      "name": "python3",
      "display_name": "Python 3"
    },
    "language_info": {
      "name": "python"
    }
  },
  "cells": [
    {
      "cell_type": "code",
      "execution_count": 2,
      "metadata": {
        "colab": {
          "base_uri": "https://localhost:8080/"
        },
        "id": "B542w_fle0MZ",
        "outputId": "120aa69e-b7f1-4044-ab64-c0ec7e2bff14"
      },
      "outputs": [
        {
          "output_type": "stream",
          "name": "stdout",
          "text": [
            "[2, 24, 5, 6]\n"
          ]
        }
      ],
      "source": [
        "#map \n",
        "list1 = list(map(lambda x:x+1,[1,23,4,5]))\n",
        "print(list1)"
      ]
    },
    {
      "cell_type": "code",
      "source": [
        "#filter\n",
        "filter1 = list(filter(lambda x:x>4,[1,2,4,5,6,7]))\n",
        "print(filter1)"
      ],
      "metadata": {
        "colab": {
          "base_uri": "https://localhost:8080/"
        },
        "id": "SwOshixvhQhN",
        "outputId": "08e4163b-2fef-4448-eb9a-33a41745bf39"
      },
      "execution_count": 3,
      "outputs": [
        {
          "output_type": "stream",
          "name": "stdout",
          "text": [
            "[5, 6, 7]\n"
          ]
        }
      ]
    },
    {
      "cell_type": "code",
      "source": [
        "#args\n",
        "def myfun(fun,*args):\n",
        "  print(\"normal value:\",fun)\n",
        "  print(\"args value:\",*args)\n",
        "\n",
        "myfun(\"hello\",\"my\",\"name\",\"is\",\"awaz\")"
      ],
      "metadata": {
        "colab": {
          "base_uri": "https://localhost:8080/"
        },
        "id": "W4dxekfFhQme",
        "outputId": "e6113a0b-42d4-4393-a4fc-b355299d9e87"
      },
      "execution_count": 5,
      "outputs": [
        {
          "output_type": "stream",
          "name": "stdout",
          "text": [
            "normal value: hello\n",
            "args value: my name is awaz\n"
          ]
        }
      ]
    },
    {
      "cell_type": "code",
      "source": [
        "#kwargs #acts like a dictinoary\n",
        "def mykwarg(**kwargs):\n",
        "  for i,j in kwargs.items():\n",
        "    print(i,j)\n",
        "mykwarg(name=\"awaz\",country=\"nepal\")"
      ],
      "metadata": {
        "colab": {
          "base_uri": "https://localhost:8080/"
        },
        "id": "FOstAu_3h4fz",
        "outputId": "52aa68fc-9084-4cbd-edff-b86376db4957"
      },
      "execution_count": 21,
      "outputs": [
        {
          "output_type": "stream",
          "name": "stdout",
          "text": [
            "name awaz\n",
            "country nepal\n"
          ]
        }
      ]
    },
    {
      "cell_type": "code",
      "source": [
        "i =30\n",
        "if i<20:\n",
        "  print(\"i is less than 20\")\n",
        "else:\n",
        "  print(\"i is greater the 20\")"
      ],
      "metadata": {
        "colab": {
          "base_uri": "https://localhost:8080/"
        },
        "id": "IXloqKj8h82S",
        "outputId": "014d4b19-1787-4cf6-d847-fa603851ffc6"
      },
      "execution_count": 22,
      "outputs": [
        {
          "output_type": "stream",
          "name": "stdout",
          "text": [
            "i is greater the 20\n"
          ]
        }
      ]
    },
    {
      "cell_type": "code",
      "source": [
        "i = int(input(\"enter any number:\"))\n",
        "if i>20:\n",
        "  print(\"i si greater than 20\")\n",
        "elif i==20:\n",
        "  print(\"i is equal to 20\")\n",
        "else:\n",
        "  print(\"i is less than 20\")"
      ],
      "metadata": {
        "colab": {
          "base_uri": "https://localhost:8080/"
        },
        "id": "7feW2spQjzUd",
        "outputId": "a92e01b7-77da-4027-c1b1-4bfa085f02f8"
      },
      "execution_count": 24,
      "outputs": [
        {
          "output_type": "stream",
          "name": "stdout",
          "text": [
            "enter any number:20\n",
            "i is equal to 20\n"
          ]
        }
      ]
    },
    {
      "cell_type": "code",
      "source": [
        "#class object\n",
        "class myclass:\n",
        "  def __init__(self,id,fname,lname):\n",
        "    self.id = id\n",
        "    self.fname = fname\n",
        "    self.lname = lname\n",
        "  \n",
        "  def fullname(self):\n",
        "    print(f\"{self.fname} {self.lname}\")\n",
        "\n",
        "class childcss(myclass):\n",
        "  def __init__(self,id,fname,lname,salary):\n",
        "    super().__init__(id,fname,lname)\n",
        "    self.salary = salary\n",
        "\n",
        "  def get_salary(self):\n",
        "    return self.salary\n",
        "\n",
        "x = childcss(1,\"asmin\",\"bhujel\",20000)\n",
        "x.fullname()\n",
        "x.get_salary()"
      ],
      "metadata": {
        "colab": {
          "base_uri": "https://localhost:8080/"
        },
        "id": "ly2ruAI4jzeP",
        "outputId": "4deb7ec9-71cb-45ed-81bf-257d558b80a8"
      },
      "execution_count": 40,
      "outputs": [
        {
          "output_type": "stream",
          "name": "stdout",
          "text": [
            "asmin bhujel\n"
          ]
        },
        {
          "output_type": "execute_result",
          "data": {
            "text/plain": [
              "20000"
            ]
          },
          "metadata": {},
          "execution_count": 40
        }
      ]
    },
    {
      "cell_type": "code",
      "source": [
        "#polymorphism\n",
        "class bird:\n",
        "  def intro(self):\n",
        "    print(\"there are many types of bird.\")\n",
        "  def flight(self):\n",
        "    print(\"most of the bird can fly but some cannot\")\n",
        "\n",
        "class sparrow(bird):\n",
        "  def flight(self):\n",
        "    print(\"sparrows can fly\")\n",
        "\n",
        "class ostrich(bird):\n",
        "  def flight(self):\n",
        "    print(\"ostriches cannot fly\")\n",
        "\n",
        "obj_bird = bird()\n",
        "obj_spr = sparrow()\n",
        "obj_ost = ostrich()\n",
        "\n",
        "obj_bird.flight()\n",
        "obj_spr.flight()\n",
        "obj_ost.flight()"
      ],
      "metadata": {
        "colab": {
          "base_uri": "https://localhost:8080/"
        },
        "id": "Wq6u807PkG65",
        "outputId": "345e3278-a7b9-4d8a-fc51-31fb4fbcecec"
      },
      "execution_count": 46,
      "outputs": [
        {
          "output_type": "stream",
          "name": "stdout",
          "text": [
            "most of the bird can fly but some cannot\n",
            "sparrows can fly\n",
            "ostriches cannot fly\n"
          ]
        }
      ]
    },
    {
      "cell_type": "code",
      "source": [
        "#Encapsulation \n",
        "class base:\n",
        "  def __init__(self):\n",
        "    self.a = \"awaz\"\n",
        "    self.__b=\"bhujel\"\n",
        "\n",
        "class derived(base):\n",
        "  def __init__(self):\n",
        "    base.__init__(self)\n",
        "    print(\"calling private member of base class:\")\n",
        "    print(self.__b)\n",
        "\n",
        "obj = base()\n",
        "print(obj.a)"
      ],
      "metadata": {
        "colab": {
          "base_uri": "https://localhost:8080/"
        },
        "id": "esoDiQlkttxi",
        "outputId": "76d3b7e9-c94d-4d1f-c43b-bc6343413d25"
      },
      "execution_count": 58,
      "outputs": [
        {
          "output_type": "stream",
          "name": "stdout",
          "text": [
            "awaz\n"
          ]
        }
      ]
    },
    {
      "cell_type": "code",
      "source": [
        "#data hiding\n",
        "class myclass:\n",
        "  __hiddenvariable = 1\n",
        "\n",
        "  def add(self,increment):\n",
        "    self.__hiddenvariable += increment\n",
        "    print(self.__hiddenvariable)\n",
        "\n",
        "myobj =myclass()\n",
        "myobj.add(2)\n",
        "print(myobj.__hiddenvariable)"
      ],
      "metadata": {
        "id": "X1mofywazW9K"
      },
      "execution_count": null,
      "outputs": []
    },
    {
      "cell_type": "code",
      "source": [
        "class x:\n",
        "  def __init__(self,a):\n",
        "    self.num = a\n",
        "  def double(self):\n",
        "    self.num *=2\n",
        "  \n",
        "class y(x):\n",
        "  def __init__(self,a):\n",
        "    x.__init__(self,a)\n",
        "  def triple(self):\n",
        "    self.num *=3\n",
        "\n",
        "obj = y(4)\n",
        "obj.num\n",
        "obj.double()\n",
        "obj.num\n",
        "\n",
        "obj.triple()\n",
        "obj.num"
      ],
      "metadata": {
        "colab": {
          "base_uri": "https://localhost:8080/"
        },
        "id": "kuwQ4DTftt2d",
        "outputId": "a6c1eb00-2809-4d6d-bc6f-a21e4982adc2"
      },
      "execution_count": 79,
      "outputs": [
        {
          "output_type": "execute_result",
          "data": {
            "text/plain": [
              "24"
            ]
          },
          "metadata": {},
          "execution_count": 79
        }
      ]
    },
    {
      "cell_type": "code",
      "source": [
        "#creating linked list\n",
        "class node:\n",
        "  def __init__(self,data):\n",
        "    self.data = data\n",
        "    self.next = None\n",
        "\n",
        "class ll:\n",
        "  def __init__(self):\n",
        "    self.head = None\n",
        "  \n",
        "  def traversal(self):\n",
        "    if self.head is None:\n",
        "      print(\"ll is empty\")\n",
        "    else:\n",
        "      a = self.head\n",
        "      while a is not None:\n",
        "        print(a.data,end=\" \")\n",
        "        a = a.next\n",
        "      print()\n",
        "\n",
        "  def adding_elements_at_beginning(self,data):\n",
        "      nb= node(data)\n",
        "      nb.next = self.head\n",
        "      self.head = nb\n",
        "  \n",
        "  def adding_elements_at_end(self,data):\n",
        "    nl = node(data)\n",
        "    a = self.head\n",
        "    while a.next is not None:\n",
        "      a= a.next\n",
        "    nl.next = a.next\n",
        "    a.next = nl\n",
        "  \n",
        "  def adding_elements_at_specific_position(self,data,position):\n",
        "    nds = node(data)\n",
        "    a = self.head\n",
        "    for i in range(1,position-1):\n",
        "      a = a.next\n",
        "    nds.next = a.next\n",
        "    a.next = nds\n",
        "  \n",
        "  def deletion_at_beginnning(self):\n",
        "    self.head = self.head.next\n",
        "    self.next = None\n",
        "  \n",
        "  def deletion_at_end(self):\n",
        "    prev = self.head\n",
        "    a = self.head.next\n",
        "    while a.next is not None:\n",
        "       a = a.next\n",
        "       prev = prev.next\n",
        "    prev.next = a.next\n",
        "    a.next = None\n",
        "  \n",
        "  def deletion_at_specific_position(self,position):\n",
        "    prev = self.head\n",
        "    a = self.head.next\n",
        "    for i in range(1,position-1):\n",
        "      a = a.next\n",
        "      prev = prev.next\n",
        "    prev.next= a.next\n",
        "    a.next = None\n",
        "\n",
        "ll = ll()\n",
        "n1 = node(20)\n",
        "ll.head = n1\n",
        "n2 = node(30)\n",
        "n1.next =n2\n",
        "n3 = node(40)\n",
        "n2.next = n3\n",
        "n4 = node(50)\n",
        "n3.next = n4\n",
        "\n",
        "ll.traversal()\n",
        "\n",
        "print(\"adding elements at beginning\")\n",
        "ll.adding_elements_at_beginning(10)\n",
        "ll.traversal()\n",
        "\n",
        "print(\"adding elements at end\")\n",
        "ll.adding_elements_at_end(60)\n",
        "ll.traversal()\n",
        "\n",
        "print(\"adding elements at specific position\")\n",
        "ll.adding_elements_at_specific_position(100,3)\n",
        "ll.traversal()\n",
        "\n",
        "print(\"deletion elements at beginning\")\n",
        "ll.deletion_at_beginnning()\n",
        "ll.traversal()\n",
        "\n",
        "print(\"deletion elements at end\")\n",
        "ll.deletion_at_end()\n",
        "ll.traversal()\n",
        "\n",
        "print(\"deletion elements at specific condition\")\n",
        "ll.deletion_at_specific_position(3)\n",
        "ll.traversal()"
      ],
      "metadata": {
        "colab": {
          "base_uri": "https://localhost:8080/"
        },
        "id": "HrQiLApKkHAC",
        "outputId": "b964b6b4-3cef-41ba-ea7e-36781c4cdc13"
      },
      "execution_count": 110,
      "outputs": [
        {
          "output_type": "stream",
          "name": "stdout",
          "text": [
            "20 30 40 50 \n",
            "adding elements at beginning\n",
            "10 20 30 40 50 \n",
            "adding elements at end\n",
            "10 20 30 40 50 60 \n",
            "adding elements at specific position\n",
            "10 20 100 30 40 50 60 \n",
            "deletion elements at beginning\n",
            "20 100 30 40 50 60 \n",
            "deletion elements at end\n",
            "20 100 30 40 50 \n",
            "deletion elements at specific condition\n",
            "20 100 40 50 \n"
          ]
        }
      ]
    },
    {
      "cell_type": "code",
      "source": [
        ""
      ],
      "metadata": {
        "id": "GVHWZ-gf1c7A"
      },
      "execution_count": null,
      "outputs": []
    }
  ]
}