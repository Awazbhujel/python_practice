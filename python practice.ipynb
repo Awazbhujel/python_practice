{
  "nbformat": 4,
  "nbformat_minor": 0,
  "metadata": {
    "colab": {
      "name": "Untitled53.ipynb",
      "provenance": [],
      "authorship_tag": "ABX9TyNCVn2V+95HnAzmeSP0uPz/"
    },
    "kernelspec": {
      "name": "python3",
      "display_name": "Python 3"
    },
    "language_info": {
      "name": "python"
    }
  },
  "cells": [
    {
      "cell_type": "code",
      "execution_count": null,
      "metadata": {
        "id": "IbbLKZ_uPHa5"
      },
      "outputs": [],
      "source": [
        "from array import*\n",
        "import array as arr"
      ]
    },
    {
      "cell_type": "code",
      "source": [
        "a = arr.array(\"b\",[2,3,0,6,4,5])\n",
        "b = arr.array(\"b\",[10,9,8])\n",
        "c = arr.array(\"b\")\n",
        "c = a+b\n",
        "print(c)\n",
        "a[-1]=1\n",
        "a[-1]\n",
        "del a[0]\n",
        "print(a)\n",
        "len(a)"
      ],
      "metadata": {
        "colab": {
          "base_uri": "https://localhost:8080/"
        },
        "id": "r3rJWUhPPQjb",
        "outputId": "200789c1-eaff-4fc6-b4be-3b4ae14b1eb1"
      },
      "execution_count": null,
      "outputs": [
        {
          "output_type": "stream",
          "name": "stdout",
          "text": [
            "array('b', [2, 3, 0, 6, 4, 5, 10, 9, 8])\n",
            "array('b', [3, 0, 6, 4, 1])\n"
          ]
        },
        {
          "output_type": "execute_result",
          "data": {
            "text/plain": [
              "5"
            ]
          },
          "metadata": {},
          "execution_count": 20
        }
      ]
    },
    {
      "cell_type": "code",
      "source": [
        "numbers = [i for i in range(100) if i%2==0 and i%3==1]\n",
        "print(numbers)"
      ],
      "metadata": {
        "colab": {
          "base_uri": "https://localhost:8080/"
        },
        "id": "RvDdRFmuPQmL",
        "outputId": "3ad201cd-d068-4bd9-dd79-2b6423552a06"
      },
      "execution_count": null,
      "outputs": [
        {
          "output_type": "stream",
          "name": "stdout",
          "text": [
            "[4, 10, 16, 22, 28, 34, 40, 46, 52, 58, 64, 70, 76, 82, 88, 94]\n"
          ]
        }
      ]
    },
    {
      "cell_type": "code",
      "source": [
        "numbers = lambda x,y:x**y\n",
        "print(numbers(3,3))"
      ],
      "metadata": {
        "colab": {
          "base_uri": "https://localhost:8080/"
        },
        "id": "Pllg3MURPQoo",
        "outputId": "fe442690-03dd-4f80-e4bc-e7692f826d4f"
      },
      "execution_count": null,
      "outputs": [
        {
          "output_type": "stream",
          "name": "stdout",
          "text": [
            "27\n"
          ]
        }
      ]
    },
    {
      "cell_type": "code",
      "source": [
        "name = lambda x , y:x * y\n",
        "name(\"Awaz\" ,5)"
      ],
      "metadata": {
        "colab": {
          "base_uri": "https://localhost:8080/",
          "height": 35
        },
        "id": "GXaoDTudPQsN",
        "outputId": "5de0ea95-eda9-4341-a7f5-1482135258dd"
      },
      "execution_count": null,
      "outputs": [
        {
          "output_type": "execute_result",
          "data": {
            "text/plain": [
              "'AwazAwazAwazAwazAwaz'"
            ],
            "application/vnd.google.colaboratory.intrinsic+json": {
              "type": "string"
            }
          },
          "metadata": {},
          "execution_count": 30
        }
      ]
    },
    {
      "cell_type": "code",
      "source": [
        "evenumb = [i for i in range(20) if i%2==0]\n",
        "print(evenumb)"
      ],
      "metadata": {
        "colab": {
          "base_uri": "https://localhost:8080/"
        },
        "id": "HNR2zUGBPQ_A",
        "outputId": "c19c67c5-7aec-4222-9efa-b0d6209323e6"
      },
      "execution_count": null,
      "outputs": [
        {
          "output_type": "stream",
          "name": "stdout",
          "text": [
            "[0, 2, 4, 6, 8, 10, 12, 14, 16, 18]\n"
          ]
        }
      ]
    },
    {
      "cell_type": "code",
      "source": [
        "#map\n",
        "map1 = list(map(lambda x:x+1,[1,2,3,4,5]))\n",
        "print(map1)"
      ],
      "metadata": {
        "colab": {
          "base_uri": "https://localhost:8080/"
        },
        "id": "5l16VjJpStGG",
        "outputId": "d3e022fe-2521-4528-ed5c-ef32e6b28c13"
      },
      "execution_count": null,
      "outputs": [
        {
          "output_type": "stream",
          "name": "stdout",
          "text": [
            "[2, 3, 4, 5, 6]\n"
          ]
        }
      ]
    },
    {
      "cell_type": "code",
      "source": [
        "#filter\n",
        "filter1 = list(filter(lambda x:x>5,[1,5,4,7,8,9]))\n",
        "print(filter1)"
      ],
      "metadata": {
        "colab": {
          "base_uri": "https://localhost:8080/"
        },
        "id": "LhCEKcHrUfjm",
        "outputId": "65e44d24-9da3-4bef-9d01-36ccf576ec4d"
      },
      "execution_count": null,
      "outputs": [
        {
          "output_type": "stream",
          "name": "stdout",
          "text": [
            "[7, 8, 9]\n"
          ]
        }
      ]
    },
    {
      "cell_type": "code",
      "source": [
        "#reduce\n",
        "from functools import reduce\n",
        "myreduce = reduce(lambda x,y:x/y,[1,2,4,5,6,7])\n",
        "print(myreduce)"
      ],
      "metadata": {
        "colab": {
          "base_uri": "https://localhost:8080/"
        },
        "id": "9vvgNtgWVKJb",
        "outputId": "ef8787e9-7786-4e73-c037-a741dc214b84"
      },
      "execution_count": null,
      "outputs": [
        {
          "output_type": "stream",
          "name": "stdout",
          "text": [
            "0.0005952380952380952\n"
          ]
        }
      ]
    },
    {
      "cell_type": "code",
      "source": [
        "#args\n",
        "def myfun(*args):\n",
        "  for i in args:\n",
        "    print(i)\n",
        "\n",
        "myfun(\"awaz\",20,\"nepal\")\n"
      ],
      "metadata": {
        "colab": {
          "base_uri": "https://localhost:8080/"
        },
        "id": "kZhLUF39WK-N",
        "outputId": "243527a8-d254-4565-933e-1504478e78e9"
      },
      "execution_count": 58,
      "outputs": [
        {
          "output_type": "stream",
          "name": "stdout",
          "text": [
            "awaz\n",
            "20\n",
            "nepal\n"
          ]
        }
      ]
    },
    {
      "cell_type": "code",
      "source": [
        "#kawars = works as a dictionary\n",
        "def mykwargs(**kwargs):\n",
        "  for i,j in kwargs.items():\n",
        "    print(i,j)\n",
        "\n",
        "mykwargs(name=\"awaz\",age=20,country=\"Nepal\")\n"
      ],
      "metadata": {
        "id": "Jqb7ju4VWLBw",
        "colab": {
          "base_uri": "https://localhost:8080/"
        },
        "outputId": "0e5efbc2-a58e-4ff2-c9dd-db7e5ca92510"
      },
      "execution_count": 60,
      "outputs": [
        {
          "output_type": "stream",
          "name": "stdout",
          "text": [
            "name awaz\n",
            "age 20\n",
            "country Nepal\n"
          ]
        }
      ]
    },
    {
      "cell_type": "code",
      "source": [
        "#args\n",
        "def test_fun(v_arg,*argv):\n",
        "  print(\"first variable is:\",v_arg)\n",
        "  for i in argv:\n",
        "    print(\"another variabe through *argv is:\",i)\n",
        "test_fun(1,2,3,4,5)\n"
      ],
      "metadata": {
        "id": "WLwF2uN-V_zG",
        "colab": {
          "base_uri": "https://localhost:8080/"
        },
        "outputId": "388ec800-a1d1-4deb-9988-7ffa9a072b8f"
      },
      "execution_count": 65,
      "outputs": [
        {
          "output_type": "stream",
          "name": "stdout",
          "text": [
            "first variable is: 1\n",
            "another variabe through *argv is: 2\n",
            "another variabe through *argv is: 3\n",
            "another variabe through *argv is: 4\n",
            "another variabe through *argv is: 5\n"
          ]
        }
      ]
    },
    {
      "cell_type": "code",
      "source": [
        "def intro(**kwargs):\n",
        "  for i,j in kwargs.items():\n",
        "    print(\"{} = {}\".format(i,j))\n",
        "\n",
        "intro(firstname=\"awaz\",lastname=\"bhujel\",degree=\"bacholer\")\n",
        "print()\n",
        "intro(firstname=\"ram\",lastname=\"sharma\",degree=\"engineering\")\n"
      ],
      "metadata": {
        "colab": {
          "base_uri": "https://localhost:8080/"
        },
        "id": "JDoE5-u_cl-W",
        "outputId": "9f6a174c-9dcb-4cca-95e4-45605cb85bce"
      },
      "execution_count": 87,
      "outputs": [
        {
          "output_type": "stream",
          "name": "stdout",
          "text": [
            "firstname = awaz\n",
            "lastname = bhujel\n",
            "degree = bacholer\n",
            "\n",
            "firstname = ram\n",
            "lastname = sharma\n",
            "degree = engineering\n"
          ]
        }
      ]
    },
    {
      "cell_type": "code",
      "source": [
        "def add(*num):\n",
        "  total = 0\n",
        "  for i in num:\n",
        "    total +=i\n",
        "  return total\n",
        "\n",
        "add(1,2)\n",
        "print(add(1,2,3))\n",
        "print(add(1,2,3,4,5))"
      ],
      "metadata": {
        "colab": {
          "base_uri": "https://localhost:8080/"
        },
        "id": "K84JCW4LcmCI",
        "outputId": "ea08eb92-6070-46c5-b74c-3223ba0f95a8"
      },
      "execution_count": 90,
      "outputs": [
        {
          "output_type": "stream",
          "name": "stdout",
          "text": [
            "6\n",
            "15\n"
          ]
        }
      ]
    },
    {
      "cell_type": "code",
      "source": [
        "def arg_printer(a,b,*args,option=True,**kwargs):\n",
        "  print(a,b)\n",
        "  print(args)\n",
        "  print(option)\n",
        "  print(kwargs)\n",
        "\n",
        "arg_printer(1,2,3,4,5,id=20,age=21)\n",
        "\n"
      ],
      "metadata": {
        "colab": {
          "base_uri": "https://localhost:8080/"
        },
        "id": "aZudjGubjvt0",
        "outputId": "b2f355f8-407d-4563-8e96-2b62b8fff93a"
      },
      "execution_count": 102,
      "outputs": [
        {
          "output_type": "stream",
          "name": "stdout",
          "text": [
            "1 2\n",
            "(3, 4, 5)\n",
            "True\n",
            "{'id': 20, 'age': 21}\n"
          ]
        }
      ]
    },
    {
      "cell_type": "code",
      "source": [
        "lst= [1,2,3,4,5]\n",
        "tpl = (\"a\",\"b\",\"c\")\n",
        "print(lst)\n",
        "print(tpl)\n",
        "print(\"connecting tupple and list\") #using args\n",
        "arg_printer(*lst, *tpl, 5, 6)\n"
      ],
      "metadata": {
        "colab": {
          "base_uri": "https://localhost:8080/"
        },
        "id": "I7pUutLKnE2Q",
        "outputId": "39c061a6-ac5d-40de-8306-9e4c42e03b68"
      },
      "execution_count": 108,
      "outputs": [
        {
          "output_type": "stream",
          "name": "stdout",
          "text": [
            "[1, 2, 3, 4, 5]\n",
            "('a', 'b', 'c')\n",
            "connecting tupple and list\n",
            "1 2\n",
            "(3, 4, 5, 'a', 'b', 'c', 5, 6)\n",
            "True\n",
            "{}\n"
          ]
        }
      ]
    },
    {
      "cell_type": "code",
      "source": [
        "dict_comp ={i:i**2 for i in range(1,20) if i%2==0}\n",
        "print(dict_comp)"
      ],
      "metadata": {
        "colab": {
          "base_uri": "https://localhost:8080/"
        },
        "id": "TCoeF02go1dR",
        "outputId": "ad17bd0a-8535-4e2e-d4b6-7c04ebf38bd6"
      },
      "execution_count": 110,
      "outputs": [
        {
          "output_type": "stream",
          "name": "stdout",
          "text": [
            "{2: 4, 4: 16, 6: 36, 8: 64, 10: 100, 12: 144, 14: 196, 16: 256, 18: 324}\n"
          ]
        }
      ]
    },
    {
      "cell_type": "code",
      "source": [
        "state = ['Gujarat', 'Maharashtra', 'Rajasthan']\n",
        "capital = ['Gandhinagar', 'Mumbai', 'Jaipur']\n",
        "dict_comp = {i:j for (i,j) in zip(state,capital)}\n",
        "print(dict_comp)"
      ],
      "metadata": {
        "colab": {
          "base_uri": "https://localhost:8080/"
        },
        "id": "H7pw1YjR7VMZ",
        "outputId": "69decc70-47c0-4b4f-eb60-36092eaf5336"
      },
      "execution_count": 114,
      "outputs": [
        {
          "output_type": "stream",
          "name": "stdout",
          "text": [
            "{'Gujarat': 'Gandhinagar', 'Maharashtra': 'Mumbai', 'Rajasthan': 'Jaipur'}\n"
          ]
        }
      ]
    },
    {
      "cell_type": "code",
      "source": [
        "#set comp\n",
        "input_list = [1, 2, 3, 4, 4, 5, 6, 6, 6, 7, 7]\n",
        "even_no = {i for i in input_list if i%2==0}\n",
        "print(even_no)"
      ],
      "metadata": {
        "colab": {
          "base_uri": "https://localhost:8080/"
        },
        "id": "vrF9H4hm7bCk",
        "outputId": "ab1e6f15-177a-4a78-e907-882fb6d11999"
      },
      "execution_count": 115,
      "outputs": [
        {
          "output_type": "stream",
          "name": "stdout",
          "text": [
            "{2, 4, 6}\n"
          ]
        }
      ]
    },
    {
      "cell_type": "code",
      "source": [
        "#generator comp\n",
        "input_list = [1, 2, 3, 4, 4, 5, 6, 7, 7]\n",
        "output_gen = (i for i in input_list if i%2==0)\n",
        "print(type(output_gen))\n",
        "for i in output_gen:\n",
        "  print(i,end=\" \")\n",
        "  "
      ],
      "metadata": {
        "colab": {
          "base_uri": "https://localhost:8080/"
        },
        "id": "w4q98xXv8Oab",
        "outputId": "9718dd2f-71f3-4f62-9e6a-5c59a56984ef"
      },
      "execution_count": 120,
      "outputs": [
        {
          "output_type": "stream",
          "name": "stdout",
          "text": [
            "<class 'generator'>\n",
            "2 4 4 6 "
          ]
        }
      ]
    },
    {
      "cell_type": "code",
      "source": [
        "class myclass:\n",
        "  def __init__(self,fname,lname):\n",
        "    self.fname = fname\n",
        "    self.lname = lname\n",
        "  def get_fullname(self):\n",
        "    print(f\"my name is {self.fname} {self.lname}\")\n",
        "\n",
        "x1 = myclass(\"awaz\",\"bhujel\")\n",
        "x2 = myclass(\"asmin\",\"bhujel\")\n",
        "class bio(myclass):\n",
        "  def __init__(self,fname,lname,country,degree):\n",
        "    super().__init__(fname,lname)\n",
        "    self.country = country\n",
        "    self.degree = degree\n",
        "  \n",
        "  def get_country(self):\n",
        "    print(f\"i am from {self.country}\")\n",
        "  \n",
        "  def study(self):\n",
        "    print(f\"i am studying in {self.degree} 1sem\")\n",
        "\n",
        "b1 = bio(\"awaz\",\"bhujel\",\"nepal\",\"bca\")\n",
        "b1.get_fullname()\n",
        "b1.get_country()\n",
        "b1.study()"
      ],
      "metadata": {
        "colab": {
          "base_uri": "https://localhost:8080/"
        },
        "id": "_Zs9Xt-q8Ogl",
        "outputId": "45b3d86b-806c-48ea-db62-116a7625101a"
      },
      "execution_count": 134,
      "outputs": [
        {
          "output_type": "stream",
          "name": "stdout",
          "text": [
            "my name is awaz bhujel\n",
            "i am from nepal\n",
            "i am studying in bca 1sem\n"
          ]
        }
      ]
    }
  ]
}