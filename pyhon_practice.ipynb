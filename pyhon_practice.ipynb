{
  "nbformat": 4,
  "nbformat_minor": 0,
  "metadata": {
    "colab": {
      "name": "Untitled31.ipynb",
      "provenance": [],
      "authorship_tag": "ABX9TyPVW3zUBKdw7Wn1lQquvE25",
      "include_colab_link": true
    },
    "kernelspec": {
      "name": "python3",
      "display_name": "Python 3"
    },
    "language_info": {
      "name": "python"
    }
  },
  "cells": [
    {
      "cell_type": "markdown",
      "metadata": {
        "id": "view-in-github",
        "colab_type": "text"
      },
      "source": [
        "<a href=\"https://colab.research.google.com/github/Awazbhujel/python_practice/blob/main/pyhon_practice.ipynb\" target=\"_parent\"><img src=\"https://colab.research.google.com/assets/colab-badge.svg\" alt=\"Open In Colab\"/></a>"
      ]
    },
    {
      "cell_type": "code",
      "execution_count": null,
      "metadata": {
        "colab": {
          "base_uri": "https://localhost:8080/"
        },
        "id": "BZseyd7Sc4Lc",
        "outputId": "cde96f93-9aef-463c-df05-61a29e10c0a9"
      },
      "outputs": [
        {
          "output_type": "stream",
          "name": "stdout",
          "text": [
            "they are equal\n"
          ]
        }
      ],
      "source": [
        "#loops\n",
        "x =1\n",
        "y = 1\n",
        "if y>x:\n",
        "  print(\"y is greater\")\n",
        "elif x>y:\n",
        "  print(\"x is greater\")\n",
        "else:\n",
        "    print(\"they are equal\")"
      ]
    },
    {
      "cell_type": "code",
      "source": [
        "#using for loop\n",
        "input_list = [1, 2, 3, 4, 4, 5, 6, 7, 7]\n",
        "output =[]\n",
        "for i in input_list:\n",
        "  if i%2==0:\n",
        "    output.append(i)\n",
        "print(output)"
      ],
      "metadata": {
        "colab": {
          "base_uri": "https://localhost:8080/"
        },
        "id": "UQGJzxtAddVr",
        "outputId": "8eac838b-91b4-4cd7-97c2-08a5a1aa8727"
      },
      "execution_count": null,
      "outputs": [
        {
          "output_type": "stream",
          "name": "stdout",
          "text": [
            "[2, 4, 4, 6]\n"
          ]
        }
      ]
    },
    {
      "cell_type": "code",
      "source": [
        "#using listcomprehensions\n",
        "input = [1,2,4,5,6,7]\n",
        "output = []\n",
        "mylist = [i for i in input if i%2!=0]\n",
        "output.append(mylist)\n",
        "print(output)"
      ],
      "metadata": {
        "colab": {
          "base_uri": "https://localhost:8080/"
        },
        "id": "8qphnDMjddYW",
        "outputId": "a831a713-8f82-45c4-d0bd-908ad679953f"
      },
      "execution_count": null,
      "outputs": [
        {
          "output_type": "stream",
          "name": "stdout",
          "text": [
            "[[1, 5, 7]]\n"
          ]
        }
      ]
    },
    {
      "cell_type": "code",
      "source": [
        "output =[]\n",
        "for i in range(1,11):\n",
        "  i=i**2\n",
        "  output.append(i)\n",
        "print(output)"
      ],
      "metadata": {
        "colab": {
          "base_uri": "https://localhost:8080/"
        },
        "id": "-f1-WKdqddbi",
        "outputId": "b6d4b7de-c36b-4b7a-9da7-d72985b3361c"
      },
      "execution_count": null,
      "outputs": [
        {
          "output_type": "stream",
          "name": "stdout",
          "text": [
            "[1, 4, 9, 16, 25, 36, 49, 64, 81, 100]\n"
          ]
        }
      ]
    },
    {
      "cell_type": "code",
      "source": [
        "#square list:"
      ],
      "metadata": {
        "colab": {
          "base_uri": "https://localhost:8080/"
        },
        "id": "T52nv0kji63i",
        "outputId": "92d8c9e3-b40b-4215-af7a-351c92fbaacb"
      },
      "execution_count": null,
      "outputs": [
        {
          "output_type": "stream",
          "name": "stdout",
          "text": [
            "[1, 2, 3, [1, 2, 3, 4, 5, 6, 7, 8, 9, 10]]\n"
          ]
        }
      ]
    },
    {
      "cell_type": "code",
      "source": [
        "input_list = [1, 2, 3, 4, 5, 6, 7]\n",
        "output = {}\n",
        "for i in range(1,11):\n",
        "  if i%2==0:\n",
        "    output[i]= i+1\n",
        "print(output)"
      ],
      "metadata": {
        "colab": {
          "base_uri": "https://localhost:8080/"
        },
        "id": "vQuDnwM6i66P",
        "outputId": "91d393b4-4117-4521-ca22-edefa0270e0b"
      },
      "execution_count": null,
      "outputs": [
        {
          "output_type": "stream",
          "name": "stdout",
          "text": [
            "{2: 3, 4: 5, 6: 7, 8: 9, 10: 11}\n"
          ]
        }
      ]
    },
    {
      "cell_type": "code",
      "source": [
        "#dictionary comp\n",
        "state = ['Gujarat', 'Maharashtra', 'Rajasthan']\n",
        "capital = ['Gandhinagar', 'Mumbai', 'Jaipur']\n",
        "cities = {key:value for (key,value) in zip(state,capital)}\n",
        "print(cities)"
      ],
      "metadata": {
        "colab": {
          "base_uri": "https://localhost:8080/"
        },
        "id": "2zCH63Nxi682",
        "outputId": "c3303129-b5eb-4399-c1c2-b2659137a15e"
      },
      "execution_count": null,
      "outputs": [
        {
          "output_type": "stream",
          "name": "stdout",
          "text": [
            "{'Gujarat': 'Gandhinagar', 'Maharashtra': 'Mumbai', 'Rajasthan': 'Jaipur'}\n"
          ]
        }
      ]
    },
    {
      "cell_type": "code",
      "source": [
        "#set comp\n",
        "input_list = [1, 2, 3, 4, 4, 5, 6, 6, 6, 7, 7]\n",
        "set_list = {i for i in input_list if i%2!=0}\n",
        "print(set_list)"
      ],
      "metadata": {
        "colab": {
          "base_uri": "https://localhost:8080/"
        },
        "id": "6nJ8z64hi6_L",
        "outputId": "efd4bf55-28ab-4fef-e013-3ae70ea06ad4"
      },
      "execution_count": null,
      "outputs": [
        {
          "output_type": "stream",
          "name": "stdout",
          "text": [
            "{1, 3, 5, 7}\n"
          ]
        }
      ]
    },
    {
      "cell_type": "code",
      "source": [
        "#generator\n",
        "input_list = [1, 2, 3, 4, 4, 5, 6, 7, 7]\n",
        "total_gen =(i for i in input_list if i%2==0) \n",
        "for i in total_gen:\n",
        "  print(i,end=\" \")"
      ],
      "metadata": {
        "colab": {
          "base_uri": "https://localhost:8080/"
        },
        "id": "zU-1FxJqi7CZ",
        "outputId": "dcc10c0b-e980-4139-b92d-996c644cc1f7"
      },
      "execution_count": null,
      "outputs": [
        {
          "output_type": "stream",
          "name": "stdout",
          "text": [
            "2 4 4 6 "
          ]
        }
      ]
    },
    {
      "cell_type": "code",
      "source": [
        "#nexted list\n",
        "matrix = []\n",
        "for i in range(5):\n",
        "  matrix.append([])\n",
        "\n",
        "  for j in range(5):\n",
        "    matrix[i].append(j)\n",
        "print(matrix)"
      ],
      "metadata": {
        "colab": {
          "base_uri": "https://localhost:8080/"
        },
        "id": "-3nXPspxi7Fe",
        "outputId": "4d3f48b2-6f2c-4271-8ac7-15be7ced3ace"
      },
      "execution_count": null,
      "outputs": [
        {
          "output_type": "stream",
          "name": "stdout",
          "text": [
            "[[0, 1, 2, 3, 4], [0, 1, 2, 3, 4], [0, 1, 2, 3, 4], [0, 1, 2, 3, 4], [0, 1, 2, 3, 4]]\n"
          ]
        }
      ]
    },
    {
      "cell_type": "code",
      "source": [
        "#nested list comp\n",
        "total_list =[[[i for i in range(5)] for j in range(5)] for k in range(5)]\n",
        "print(total_list,end=\" \")"
      ],
      "metadata": {
        "colab": {
          "base_uri": "https://localhost:8080/"
        },
        "id": "vJKv9BgCi7IG",
        "outputId": "b20ec72a-8daf-4b9e-d634-ed8bf79f5874"
      },
      "execution_count": null,
      "outputs": [
        {
          "output_type": "stream",
          "name": "stdout",
          "text": [
            "[[[0, 1, 2, 3, 4], [0, 1, 2, 3, 4], [0, 1, 2, 3, 4], [0, 1, 2, 3, 4], [0, 1, 2, 3, 4]], [[0, 1, 2, 3, 4], [0, 1, 2, 3, 4], [0, 1, 2, 3, 4], [0, 1, 2, 3, 4], [0, 1, 2, 3, 4]], [[0, 1, 2, 3, 4], [0, 1, 2, 3, 4], [0, 1, 2, 3, 4], [0, 1, 2, 3, 4], [0, 1, 2, 3, 4]], [[0, 1, 2, 3, 4], [0, 1, 2, 3, 4], [0, 1, 2, 3, 4], [0, 1, 2, 3, 4], [0, 1, 2, 3, 4]], [[0, 1, 2, 3, 4], [0, 1, 2, 3, 4], [0, 1, 2, 3, 4], [0, 1, 2, 3, 4], [0, 1, 2, 3, 4]]] "
          ]
        }
      ]
    },
    {
      "cell_type": "code",
      "source": [
        "#2d matrix\n",
        "matrix = [[1, 2, 3], [4, 5], [6, 7, 8, 9]]\n",
        "flatten_matrix = [i for j in matrix for i in j]\n",
        "print(flatten_matrix)"
      ],
      "metadata": {
        "colab": {
          "base_uri": "https://localhost:8080/"
        },
        "id": "sHYwO95pkQV0",
        "outputId": "75085e31-6bda-499a-e88c-02baf18af014"
      },
      "execution_count": null,
      "outputs": [
        {
          "output_type": "stream",
          "name": "stdout",
          "text": [
            "[1, 2, 3, 4, 5, 6, 7, 8, 9]\n"
          ]
        }
      ]
    },
    {
      "cell_type": "code",
      "source": [
        ""
      ],
      "metadata": {
        "id": "4XQTPFDLkQYm"
      },
      "execution_count": null,
      "outputs": []
    },
    {
      "cell_type": "code",
      "source": [
        ""
      ],
      "metadata": {
        "id": "3b8WEvvPkQbY"
      },
      "execution_count": null,
      "outputs": []
    },
    {
      "cell_type": "code",
      "source": [
        ""
      ],
      "metadata": {
        "id": "-B2bz0XVkQeL"
      },
      "execution_count": null,
      "outputs": []
    },
    {
      "cell_type": "code",
      "source": [
        ""
      ],
      "metadata": {
        "id": "xmH9DilMkQh3"
      },
      "execution_count": null,
      "outputs": []
    },
    {
      "cell_type": "code",
      "source": [
        ""
      ],
      "metadata": {
        "id": "sLzVIhyXi7KX"
      },
      "execution_count": null,
      "outputs": []
    },
    {
      "cell_type": "code",
      "source": [
        ""
      ],
      "metadata": {
        "id": "Y9e3ZaeOi7Ma"
      },
      "execution_count": null,
      "outputs": []
    },
    {
      "cell_type": "code",
      "source": [
        ""
      ],
      "metadata": {
        "id": "Kb0mzqW5i7PM"
      },
      "execution_count": null,
      "outputs": []
    }
  ]
}